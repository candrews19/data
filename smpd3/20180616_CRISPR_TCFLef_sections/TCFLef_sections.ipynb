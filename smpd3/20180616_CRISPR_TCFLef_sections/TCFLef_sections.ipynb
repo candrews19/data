{
 "cells": [
  {
   "cell_type": "code",
   "execution_count": 2,
   "metadata": {},
   "outputs": [],
   "source": [
    "import os\n",
    "import glob\n",
    "import pandas as pd"
   ]
  },
  {
   "cell_type": "code",
   "execution_count": 3,
   "metadata": {},
   "outputs": [],
   "source": [
    "path =r'/Users/michaelpiacentino/Drive/git/data/smpd3/20180616_CRISPR_TCFLef_sections/csvs/'\n",
    "full_df = pd.DataFrame()\n",
    "list_ = []\n",
    "\n",
    "# For loop to bring in files and concatenate them into a single dataframe\n",
    "for file_ in glob.glob(path + \"/*.csv\"):\n",
    "    df = pd.read_csv(file_)\n",
    "    # Determine Image name from file name\n",
    "    df['Image'] = os.path.splitext(os.path.basename(file_))[0]\n",
    "    # Split values in ROI label and Image name columns\n",
    "    df['Fluor'], df['ROI'] = zip(*df['Label'].map(lambda x: x.split(':')))\n",
    "    df['Target'], df['Method'], df['Embryo'], df['Section'] = zip(*df['Image'].map(lambda x: x.split('_')))\n",
    "    \n",
    "    # Replace background ROI names\n",
    "        # NOTE: I have updated the Fiji macro ('FluorIntensity_2Channel.ijm') to name all background ROIs as 'background',\n",
    "        # so this step will be unnecessary with freshly collected data\n",
    "    df.replace(to_replace=['back1a', 'back1b', 'back1c', 'back2a', 'back2b', 'back2c'],\n",
    "                            value=['background', 'background', 'background', 'background', 'background', 'background'], \n",
    "                            inplace=True)\n",
    "    list_.append(df)\n",
    "\n",
    "full_df = pd.concat(list_)"
   ]
  },
  {
   "cell_type": "code",
   "execution_count": 4,
   "metadata": {},
   "outputs": [],
   "source": [
    "# Mean background values and group\n",
    "grouped_means = (full_df.groupby(['Embryo', 'Fluor', 'ROI', 'Section'])['Area', 'Mean', 'IntDen']).mean()"
   ]
  },
  {
   "cell_type": "code",
   "execution_count": 46,
   "metadata": {},
   "outputs": [],
   "source": [
    "# Determine CTCF values = ROI IntDen - (background area * background mean)\n",
    "\n",
    "# Calculate background (background area * background mean)\n",
    "backgrounds = (grouped_means.xs('background', level='ROI')['Area'] \n",
    "                * grouped_means.xs('background', level='ROI')['Mean'])\n",
    "\n",
    "# Slice out only Cntl or Expt values in IntDen\n",
    "intdens_cntl = grouped_means.xs('Cntl', level='ROI')['IntDen'] \n",
    "intdens_expt = grouped_means.xs('Expt', level='ROI')['IntDen'] \n",
    "\n",
    "# Subtract background from IntDens to determine CTCF and concatenate into single dataframe\n",
    "sub_cntl = pd.DataFrame(intdens_cntl - backgrounds)\n",
    "sub_expt = pd.DataFrame(intdens_expt - backgrounds)\n",
    "background_sub = pd.concat([sub_cntl, sub_expt], keys = ['Cntl', 'Expt'])\n",
    "background_sub.columns = ['CTCF']"
   ]
  },
  {
   "cell_type": "code",
   "execution_count": 49,
   "metadata": {},
   "outputs": [],
   "source": [
    "# Pull out TCFLef and pCIG values\n",
    "ctcf_tcflef = background_sub.xs('TCFLef', level='Fluor')['CTCF'] \n",
    "ctcf_pcig = background_sub.xs('pCIG', level='Fluor')['CTCF'] \n",
    "\n",
    "# Normalize for electroporation efficiency by determining TCFLef/pCIG\n",
    "electroporation_norm = pd.DataFrame(ctcf_tcflef / ctcf_pcig)\n",
    "electroporation_norm.columns = ['CTCF']\n",
    "electroporation_norm.index.names = ['Treatment', 'Embryo', 'Selection']"
   ]
  },
  {
   "cell_type": "code",
   "execution_count": 48,
   "metadata": {},
   "outputs": [],
   "source": [
    "# Average sections grouped by embryos before generating Expt/Cntl ratio\n",
    "averaged_sections = electroporation_norm.groupby(['Treatment','Embryo']).mean()\n",
    "\n",
    "# Pull out Cntl and Expt CTCFs\n",
    "ctcf_cntl = averaged_sections.xs('Cntl', level='Treatment')['CTCF'] \n",
    "ctcf_expt = averaged_sections.xs('Expt', level='Treatment')['CTCF'] \n",
    "\n",
    "# Generate ratios as Expt/Cntl\n",
    "ratios_sections = pd.DataFrame(ctcf_expt / ctcf_cntl)\n",
    "ratios_sections.columns = ['Expt/Cntl CTCF']"
   ]
  },
  {
   "cell_type": "code",
   "execution_count": 52,
   "metadata": {},
   "outputs": [],
   "source": [
    "# Combine processed values into single dataframe and output as csv file 'Results.csv'\n",
    "ctcf_cntl = pd.DataFrame(ctcf_cntl)\n",
    "ctcf_cntl.columns = ['Cntl CTCF']\n",
    "ctcf_cntl = ctcf_cntl.groupby('Embryo').mean()\n",
    "ctcf_expt = pd.DataFrame(ctcf_expt)\n",
    "ctcf_expt.columns = ['Expt CTCF']\n",
    "ctcf_expt = ctcf_expt.groupby('Embryo').mean()\n",
    "results = pd.concat([ctcf_cntl, ctcf_expt, ratios_sections], axis=1, sort=True)\n",
    "results.to_csv('Results.csv')"
   ]
  },
  {
   "cell_type": "code",
   "execution_count": null,
   "metadata": {},
   "outputs": [],
   "source": []
  }
 ],
 "metadata": {
  "kernelspec": {
   "display_name": "Python 3",
   "language": "python",
   "name": "python3"
  },
  "language_info": {
   "codemirror_mode": {
    "name": "ipython",
    "version": 3
   },
   "file_extension": ".py",
   "mimetype": "text/x-python",
   "name": "python",
   "nbconvert_exporter": "python",
   "pygments_lexer": "ipython3",
   "version": "3.6.5"
  }
 },
 "nbformat": 4,
 "nbformat_minor": 2
}
