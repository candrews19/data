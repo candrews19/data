{
 "cells": [
  {
   "cell_type": "code",
   "execution_count": null,
   "metadata": {},
   "outputs": [],
   "source": [
    "#Need to do: (Exp RFP/Exp GFP) / (Con RFP/Con GFP) = ratio\n",
    "#    ECDF formal ratio\n",
    "#    bootstrap and CI ratio\n",
    "    "
   ]
  },
  {
   "cell_type": "code",
   "execution_count": 40,
   "metadata": {},
   "outputs": [],
   "source": [
    "import numpy as np\n",
    "import pandas as pd\n",
    "import scipy.stats\n",
    "\n",
    "import altair as alt\n",
    "\n",
    "import bootcamp_utils"
   ]
  },
  {
   "cell_type": "code",
   "execution_count": 41,
   "metadata": {},
   "outputs": [
    {
     "data": {
      "text/html": [
       "<div>\n",
       "<style scoped>\n",
       "    .dataframe tbody tr th:only-of-type {\n",
       "        vertical-align: middle;\n",
       "    }\n",
       "\n",
       "    .dataframe tbody tr th {\n",
       "        vertical-align: top;\n",
       "    }\n",
       "\n",
       "    .dataframe thead th {\n",
       "        text-align: right;\n",
       "    }\n",
       "</style>\n",
       "<table border=\"1\" class=\"dataframe\">\n",
       "  <thead>\n",
       "    <tr style=\"text-align: right;\">\n",
       "      <th></th>\n",
       "      <th>experiment</th>\n",
       "      <th>file name</th>\n",
       "      <th>embryo</th>\n",
       "      <th>side</th>\n",
       "      <th>fluor</th>\n",
       "      <th>ctcf</th>\n",
       "    </tr>\n",
       "  </thead>\n",
       "  <tbody>\n",
       "    <tr>\n",
       "      <th>0</th>\n",
       "      <td>2019.06.16_SMPD3_CRISPR</td>\n",
       "      <td>SMPD3_CRISPR_Emb1_10x.czi</td>\n",
       "      <td>1</td>\n",
       "      <td>cntl</td>\n",
       "      <td>tcf lef</td>\n",
       "      <td>5.149187e+08</td>\n",
       "    </tr>\n",
       "    <tr>\n",
       "      <th>1</th>\n",
       "      <td>2019.06.16_SMPD3_CRISPR</td>\n",
       "      <td>SMPD3_CRISPR_Emb2_10x.czi</td>\n",
       "      <td>2</td>\n",
       "      <td>cntl</td>\n",
       "      <td>tcf lef</td>\n",
       "      <td>5.105786e+08</td>\n",
       "    </tr>\n",
       "    <tr>\n",
       "      <th>2</th>\n",
       "      <td>2019.06.16_SMPD3_CRISPR</td>\n",
       "      <td>SMPD3_CRISPR_Emb3_10x.czi</td>\n",
       "      <td>3</td>\n",
       "      <td>cntl</td>\n",
       "      <td>tcf lef</td>\n",
       "      <td>2.439080e+08</td>\n",
       "    </tr>\n",
       "    <tr>\n",
       "      <th>3</th>\n",
       "      <td>2019.06.16_SMPD3_CRISPR</td>\n",
       "      <td>SMPD3_CRISPR_Emb4_10x.czi</td>\n",
       "      <td>4</td>\n",
       "      <td>cntl</td>\n",
       "      <td>tcf lef</td>\n",
       "      <td>7.919257e+07</td>\n",
       "    </tr>\n",
       "    <tr>\n",
       "      <th>4</th>\n",
       "      <td>2019.06.16_SMPD3_CRISPR</td>\n",
       "      <td>SMPD3_CRISPR_Emb5_10x.czi</td>\n",
       "      <td>5</td>\n",
       "      <td>cntl</td>\n",
       "      <td>tcf lef</td>\n",
       "      <td>1.037543e+08</td>\n",
       "    </tr>\n",
       "    <tr>\n",
       "      <th>5</th>\n",
       "      <td>2019.06.16_SMPD3_CRISPR</td>\n",
       "      <td>SMPD3_CRISPR_Emb6_10x.czi</td>\n",
       "      <td>6</td>\n",
       "      <td>cntl</td>\n",
       "      <td>tcf lef</td>\n",
       "      <td>3.539025e+08</td>\n",
       "    </tr>\n",
       "    <tr>\n",
       "      <th>6</th>\n",
       "      <td>2019.06.16_SMPD3_CRISPR</td>\n",
       "      <td>SMPD3_CRISPR_Emb7_10x.czi</td>\n",
       "      <td>7</td>\n",
       "      <td>cntl</td>\n",
       "      <td>tcf lef</td>\n",
       "      <td>2.460605e+08</td>\n",
       "    </tr>\n",
       "    <tr>\n",
       "      <th>7</th>\n",
       "      <td>2019.06.16_SMPD3_CRISPR</td>\n",
       "      <td>SMPD3_CRISPR_Emb8_10x.czi</td>\n",
       "      <td>8</td>\n",
       "      <td>cntl</td>\n",
       "      <td>tcf lef</td>\n",
       "      <td>4.208378e+08</td>\n",
       "    </tr>\n",
       "    <tr>\n",
       "      <th>8</th>\n",
       "      <td>2019.06.16_SMPD3_CRISPR</td>\n",
       "      <td>SMPD3_CRISPR_Emb9_10x.czi</td>\n",
       "      <td>9</td>\n",
       "      <td>cntl</td>\n",
       "      <td>tcf lef</td>\n",
       "      <td>6.941377e+07</td>\n",
       "    </tr>\n",
       "    <tr>\n",
       "      <th>9</th>\n",
       "      <td>2019.06.16_SMPD3_CRISPR</td>\n",
       "      <td>SMPD3_CRISPR_Emb10_10x.czi</td>\n",
       "      <td>10</td>\n",
       "      <td>cntl</td>\n",
       "      <td>tcf lef</td>\n",
       "      <td>2.782419e+08</td>\n",
       "    </tr>\n",
       "    <tr>\n",
       "      <th>10</th>\n",
       "      <td>2019.06.16_SMPD3_CRISPR</td>\n",
       "      <td>SMPD3_CRISPR_Emb1_10x.czi</td>\n",
       "      <td>1</td>\n",
       "      <td>exp</td>\n",
       "      <td>tcf lef</td>\n",
       "      <td>4.595139e+08</td>\n",
       "    </tr>\n",
       "    <tr>\n",
       "      <th>11</th>\n",
       "      <td>2019.06.16_SMPD3_CRISPR</td>\n",
       "      <td>SMPD3_CRISPR_Emb2_10x.czi</td>\n",
       "      <td>2</td>\n",
       "      <td>exp</td>\n",
       "      <td>tcf lef</td>\n",
       "      <td>3.661756e+08</td>\n",
       "    </tr>\n",
       "    <tr>\n",
       "      <th>12</th>\n",
       "      <td>2019.06.16_SMPD3_CRISPR</td>\n",
       "      <td>SMPD3_CRISPR_Emb3_10x.czi</td>\n",
       "      <td>3</td>\n",
       "      <td>exp</td>\n",
       "      <td>tcf lef</td>\n",
       "      <td>1.690799e+08</td>\n",
       "    </tr>\n",
       "    <tr>\n",
       "      <th>13</th>\n",
       "      <td>2019.06.16_SMPD3_CRISPR</td>\n",
       "      <td>SMPD3_CRISPR_Emb4_10x.czi</td>\n",
       "      <td>4</td>\n",
       "      <td>exp</td>\n",
       "      <td>tcf lef</td>\n",
       "      <td>8.310687e+07</td>\n",
       "    </tr>\n",
       "    <tr>\n",
       "      <th>14</th>\n",
       "      <td>2019.06.16_SMPD3_CRISPR</td>\n",
       "      <td>SMPD3_CRISPR_Emb5_10x.czi</td>\n",
       "      <td>5</td>\n",
       "      <td>exp</td>\n",
       "      <td>tcf lef</td>\n",
       "      <td>6.049418e+07</td>\n",
       "    </tr>\n",
       "    <tr>\n",
       "      <th>15</th>\n",
       "      <td>2019.06.16_SMPD3_CRISPR</td>\n",
       "      <td>SMPD3_CRISPR_Emb6_10x.czi</td>\n",
       "      <td>6</td>\n",
       "      <td>exp</td>\n",
       "      <td>tcf lef</td>\n",
       "      <td>2.888313e+08</td>\n",
       "    </tr>\n",
       "    <tr>\n",
       "      <th>16</th>\n",
       "      <td>2019.06.16_SMPD3_CRISPR</td>\n",
       "      <td>SMPD3_CRISPR_Emb7_10x.czi</td>\n",
       "      <td>7</td>\n",
       "      <td>exp</td>\n",
       "      <td>tcf lef</td>\n",
       "      <td>2.234133e+08</td>\n",
       "    </tr>\n",
       "    <tr>\n",
       "      <th>17</th>\n",
       "      <td>2019.06.16_SMPD3_CRISPR</td>\n",
       "      <td>SMPD3_CRISPR_Emb8_10x.czi</td>\n",
       "      <td>8</td>\n",
       "      <td>exp</td>\n",
       "      <td>tcf lef</td>\n",
       "      <td>3.597491e+08</td>\n",
       "    </tr>\n",
       "    <tr>\n",
       "      <th>18</th>\n",
       "      <td>2019.06.16_SMPD3_CRISPR</td>\n",
       "      <td>SMPD3_CRISPR_Emb9_10x.czi</td>\n",
       "      <td>9</td>\n",
       "      <td>exp</td>\n",
       "      <td>tcf lef</td>\n",
       "      <td>7.133463e+07</td>\n",
       "    </tr>\n",
       "    <tr>\n",
       "      <th>19</th>\n",
       "      <td>2019.06.16_SMPD3_CRISPR</td>\n",
       "      <td>SMPD3_CRISPR_Emb10_10x.czi</td>\n",
       "      <td>10</td>\n",
       "      <td>exp</td>\n",
       "      <td>tcf lef</td>\n",
       "      <td>1.492068e+08</td>\n",
       "    </tr>\n",
       "    <tr>\n",
       "      <th>20</th>\n",
       "      <td>2019.06.16_SMPD3_CRISPR</td>\n",
       "      <td>SMPD3_CRISPR_Emb1_10x.czi</td>\n",
       "      <td>1</td>\n",
       "      <td>cntl</td>\n",
       "      <td>pCIG</td>\n",
       "      <td>2.379351e+08</td>\n",
       "    </tr>\n",
       "    <tr>\n",
       "      <th>21</th>\n",
       "      <td>2019.06.16_SMPD3_CRISPR</td>\n",
       "      <td>SMPD3_CRISPR_Emb2_10x.czi</td>\n",
       "      <td>2</td>\n",
       "      <td>cntl</td>\n",
       "      <td>pCIG</td>\n",
       "      <td>1.666499e+08</td>\n",
       "    </tr>\n",
       "    <tr>\n",
       "      <th>22</th>\n",
       "      <td>2019.06.16_SMPD3_CRISPR</td>\n",
       "      <td>SMPD3_CRISPR_Emb3_10x.czi</td>\n",
       "      <td>3</td>\n",
       "      <td>cntl</td>\n",
       "      <td>pCIG</td>\n",
       "      <td>1.572894e+08</td>\n",
       "    </tr>\n",
       "    <tr>\n",
       "      <th>23</th>\n",
       "      <td>2019.06.16_SMPD3_CRISPR</td>\n",
       "      <td>SMPD3_CRISPR_Emb4_10x.czi</td>\n",
       "      <td>4</td>\n",
       "      <td>cntl</td>\n",
       "      <td>pCIG</td>\n",
       "      <td>9.047647e+07</td>\n",
       "    </tr>\n",
       "    <tr>\n",
       "      <th>24</th>\n",
       "      <td>2019.06.16_SMPD3_CRISPR</td>\n",
       "      <td>SMPD3_CRISPR_Emb5_10x.czi</td>\n",
       "      <td>5</td>\n",
       "      <td>cntl</td>\n",
       "      <td>pCIG</td>\n",
       "      <td>1.353022e+08</td>\n",
       "    </tr>\n",
       "    <tr>\n",
       "      <th>25</th>\n",
       "      <td>2019.06.16_SMPD3_CRISPR</td>\n",
       "      <td>SMPD3_CRISPR_Emb6_10x.czi</td>\n",
       "      <td>6</td>\n",
       "      <td>cntl</td>\n",
       "      <td>pCIG</td>\n",
       "      <td>2.482647e+08</td>\n",
       "    </tr>\n",
       "    <tr>\n",
       "      <th>26</th>\n",
       "      <td>2019.06.16_SMPD3_CRISPR</td>\n",
       "      <td>SMPD3_CRISPR_Emb7_10x.czi</td>\n",
       "      <td>7</td>\n",
       "      <td>cntl</td>\n",
       "      <td>pCIG</td>\n",
       "      <td>2.783133e+08</td>\n",
       "    </tr>\n",
       "    <tr>\n",
       "      <th>27</th>\n",
       "      <td>2019.06.16_SMPD3_CRISPR</td>\n",
       "      <td>SMPD3_CRISPR_Emb8_10x.czi</td>\n",
       "      <td>8</td>\n",
       "      <td>cntl</td>\n",
       "      <td>pCIG</td>\n",
       "      <td>4.152596e+08</td>\n",
       "    </tr>\n",
       "    <tr>\n",
       "      <th>28</th>\n",
       "      <td>2019.06.16_SMPD3_CRISPR</td>\n",
       "      <td>SMPD3_CRISPR_Emb9_10x.czi</td>\n",
       "      <td>9</td>\n",
       "      <td>cntl</td>\n",
       "      <td>pCIG</td>\n",
       "      <td>1.357709e+08</td>\n",
       "    </tr>\n",
       "    <tr>\n",
       "      <th>29</th>\n",
       "      <td>2019.06.16_SMPD3_CRISPR</td>\n",
       "      <td>SMPD3_CRISPR_Emb10_10x.czi</td>\n",
       "      <td>10</td>\n",
       "      <td>cntl</td>\n",
       "      <td>pCIG</td>\n",
       "      <td>4.536429e+08</td>\n",
       "    </tr>\n",
       "    <tr>\n",
       "      <th>30</th>\n",
       "      <td>2019.06.16_SMPD3_CRISPR</td>\n",
       "      <td>SMPD3_CRISPR_Emb1_10x.czi</td>\n",
       "      <td>1</td>\n",
       "      <td>exp</td>\n",
       "      <td>pCIG</td>\n",
       "      <td>2.980334e+08</td>\n",
       "    </tr>\n",
       "    <tr>\n",
       "      <th>31</th>\n",
       "      <td>2019.06.16_SMPD3_CRISPR</td>\n",
       "      <td>SMPD3_CRISPR_Emb2_10x.czi</td>\n",
       "      <td>2</td>\n",
       "      <td>exp</td>\n",
       "      <td>pCIG</td>\n",
       "      <td>1.480683e+08</td>\n",
       "    </tr>\n",
       "    <tr>\n",
       "      <th>32</th>\n",
       "      <td>2019.06.16_SMPD3_CRISPR</td>\n",
       "      <td>SMPD3_CRISPR_Emb3_10x.czi</td>\n",
       "      <td>3</td>\n",
       "      <td>exp</td>\n",
       "      <td>pCIG</td>\n",
       "      <td>1.522785e+08</td>\n",
       "    </tr>\n",
       "    <tr>\n",
       "      <th>33</th>\n",
       "      <td>2019.06.16_SMPD3_CRISPR</td>\n",
       "      <td>SMPD3_CRISPR_Emb4_10x.czi</td>\n",
       "      <td>4</td>\n",
       "      <td>exp</td>\n",
       "      <td>pCIG</td>\n",
       "      <td>1.119778e+08</td>\n",
       "    </tr>\n",
       "    <tr>\n",
       "      <th>34</th>\n",
       "      <td>2019.06.16_SMPD3_CRISPR</td>\n",
       "      <td>SMPD3_CRISPR_Emb5_10x.czi</td>\n",
       "      <td>5</td>\n",
       "      <td>exp</td>\n",
       "      <td>pCIG</td>\n",
       "      <td>1.229363e+08</td>\n",
       "    </tr>\n",
       "    <tr>\n",
       "      <th>35</th>\n",
       "      <td>2019.06.16_SMPD3_CRISPR</td>\n",
       "      <td>SMPD3_CRISPR_Emb6_10x.czi</td>\n",
       "      <td>6</td>\n",
       "      <td>exp</td>\n",
       "      <td>pCIG</td>\n",
       "      <td>2.509899e+08</td>\n",
       "    </tr>\n",
       "    <tr>\n",
       "      <th>36</th>\n",
       "      <td>2019.06.16_SMPD3_CRISPR</td>\n",
       "      <td>SMPD3_CRISPR_Emb7_10x.czi</td>\n",
       "      <td>7</td>\n",
       "      <td>exp</td>\n",
       "      <td>pCIG</td>\n",
       "      <td>3.283120e+08</td>\n",
       "    </tr>\n",
       "    <tr>\n",
       "      <th>37</th>\n",
       "      <td>2019.06.16_SMPD3_CRISPR</td>\n",
       "      <td>SMPD3_CRISPR_Emb8_10x.czi</td>\n",
       "      <td>8</td>\n",
       "      <td>exp</td>\n",
       "      <td>pCIG</td>\n",
       "      <td>4.652211e+08</td>\n",
       "    </tr>\n",
       "    <tr>\n",
       "      <th>38</th>\n",
       "      <td>2019.06.16_SMPD3_CRISPR</td>\n",
       "      <td>SMPD3_CRISPR_Emb9_10x.czi</td>\n",
       "      <td>9</td>\n",
       "      <td>exp</td>\n",
       "      <td>pCIG</td>\n",
       "      <td>1.640484e+08</td>\n",
       "    </tr>\n",
       "    <tr>\n",
       "      <th>39</th>\n",
       "      <td>2019.06.16_SMPD3_CRISPR</td>\n",
       "      <td>SMPD3_CRISPR_Emb10_10x.czi</td>\n",
       "      <td>10</td>\n",
       "      <td>exp</td>\n",
       "      <td>pCIG</td>\n",
       "      <td>2.960794e+08</td>\n",
       "    </tr>\n",
       "  </tbody>\n",
       "</table>\n",
       "</div>"
      ],
      "text/plain": [
       "                 experiment                   file name  embryo  side  \\\n",
       "0   2019.06.16_SMPD3_CRISPR   SMPD3_CRISPR_Emb1_10x.czi       1  cntl   \n",
       "1   2019.06.16_SMPD3_CRISPR   SMPD3_CRISPR_Emb2_10x.czi       2  cntl   \n",
       "2   2019.06.16_SMPD3_CRISPR   SMPD3_CRISPR_Emb3_10x.czi       3  cntl   \n",
       "3   2019.06.16_SMPD3_CRISPR   SMPD3_CRISPR_Emb4_10x.czi       4  cntl   \n",
       "4   2019.06.16_SMPD3_CRISPR   SMPD3_CRISPR_Emb5_10x.czi       5  cntl   \n",
       "5   2019.06.16_SMPD3_CRISPR   SMPD3_CRISPR_Emb6_10x.czi       6  cntl   \n",
       "6   2019.06.16_SMPD3_CRISPR   SMPD3_CRISPR_Emb7_10x.czi       7  cntl   \n",
       "7   2019.06.16_SMPD3_CRISPR   SMPD3_CRISPR_Emb8_10x.czi       8  cntl   \n",
       "8   2019.06.16_SMPD3_CRISPR   SMPD3_CRISPR_Emb9_10x.czi       9  cntl   \n",
       "9   2019.06.16_SMPD3_CRISPR  SMPD3_CRISPR_Emb10_10x.czi      10  cntl   \n",
       "10  2019.06.16_SMPD3_CRISPR   SMPD3_CRISPR_Emb1_10x.czi       1   exp   \n",
       "11  2019.06.16_SMPD3_CRISPR   SMPD3_CRISPR_Emb2_10x.czi       2   exp   \n",
       "12  2019.06.16_SMPD3_CRISPR   SMPD3_CRISPR_Emb3_10x.czi       3   exp   \n",
       "13  2019.06.16_SMPD3_CRISPR   SMPD3_CRISPR_Emb4_10x.czi       4   exp   \n",
       "14  2019.06.16_SMPD3_CRISPR   SMPD3_CRISPR_Emb5_10x.czi       5   exp   \n",
       "15  2019.06.16_SMPD3_CRISPR   SMPD3_CRISPR_Emb6_10x.czi       6   exp   \n",
       "16  2019.06.16_SMPD3_CRISPR   SMPD3_CRISPR_Emb7_10x.czi       7   exp   \n",
       "17  2019.06.16_SMPD3_CRISPR   SMPD3_CRISPR_Emb8_10x.czi       8   exp   \n",
       "18  2019.06.16_SMPD3_CRISPR   SMPD3_CRISPR_Emb9_10x.czi       9   exp   \n",
       "19  2019.06.16_SMPD3_CRISPR  SMPD3_CRISPR_Emb10_10x.czi      10   exp   \n",
       "20  2019.06.16_SMPD3_CRISPR   SMPD3_CRISPR_Emb1_10x.czi       1  cntl   \n",
       "21  2019.06.16_SMPD3_CRISPR   SMPD3_CRISPR_Emb2_10x.czi       2  cntl   \n",
       "22  2019.06.16_SMPD3_CRISPR   SMPD3_CRISPR_Emb3_10x.czi       3  cntl   \n",
       "23  2019.06.16_SMPD3_CRISPR   SMPD3_CRISPR_Emb4_10x.czi       4  cntl   \n",
       "24  2019.06.16_SMPD3_CRISPR   SMPD3_CRISPR_Emb5_10x.czi       5  cntl   \n",
       "25  2019.06.16_SMPD3_CRISPR   SMPD3_CRISPR_Emb6_10x.czi       6  cntl   \n",
       "26  2019.06.16_SMPD3_CRISPR   SMPD3_CRISPR_Emb7_10x.czi       7  cntl   \n",
       "27  2019.06.16_SMPD3_CRISPR   SMPD3_CRISPR_Emb8_10x.czi       8  cntl   \n",
       "28  2019.06.16_SMPD3_CRISPR   SMPD3_CRISPR_Emb9_10x.czi       9  cntl   \n",
       "29  2019.06.16_SMPD3_CRISPR  SMPD3_CRISPR_Emb10_10x.czi      10  cntl   \n",
       "30  2019.06.16_SMPD3_CRISPR   SMPD3_CRISPR_Emb1_10x.czi       1   exp   \n",
       "31  2019.06.16_SMPD3_CRISPR   SMPD3_CRISPR_Emb2_10x.czi       2   exp   \n",
       "32  2019.06.16_SMPD3_CRISPR   SMPD3_CRISPR_Emb3_10x.czi       3   exp   \n",
       "33  2019.06.16_SMPD3_CRISPR   SMPD3_CRISPR_Emb4_10x.czi       4   exp   \n",
       "34  2019.06.16_SMPD3_CRISPR   SMPD3_CRISPR_Emb5_10x.czi       5   exp   \n",
       "35  2019.06.16_SMPD3_CRISPR   SMPD3_CRISPR_Emb6_10x.czi       6   exp   \n",
       "36  2019.06.16_SMPD3_CRISPR   SMPD3_CRISPR_Emb7_10x.czi       7   exp   \n",
       "37  2019.06.16_SMPD3_CRISPR   SMPD3_CRISPR_Emb8_10x.czi       8   exp   \n",
       "38  2019.06.16_SMPD3_CRISPR   SMPD3_CRISPR_Emb9_10x.czi       9   exp   \n",
       "39  2019.06.16_SMPD3_CRISPR  SMPD3_CRISPR_Emb10_10x.czi      10   exp   \n",
       "\n",
       "      fluor          ctcf  \n",
       "0   tcf lef  5.149187e+08  \n",
       "1   tcf lef  5.105786e+08  \n",
       "2   tcf lef  2.439080e+08  \n",
       "3   tcf lef  7.919257e+07  \n",
       "4   tcf lef  1.037543e+08  \n",
       "5   tcf lef  3.539025e+08  \n",
       "6   tcf lef  2.460605e+08  \n",
       "7   tcf lef  4.208378e+08  \n",
       "8   tcf lef  6.941377e+07  \n",
       "9   tcf lef  2.782419e+08  \n",
       "10  tcf lef  4.595139e+08  \n",
       "11  tcf lef  3.661756e+08  \n",
       "12  tcf lef  1.690799e+08  \n",
       "13  tcf lef  8.310687e+07  \n",
       "14  tcf lef  6.049418e+07  \n",
       "15  tcf lef  2.888313e+08  \n",
       "16  tcf lef  2.234133e+08  \n",
       "17  tcf lef  3.597491e+08  \n",
       "18  tcf lef  7.133463e+07  \n",
       "19  tcf lef  1.492068e+08  \n",
       "20     pCIG  2.379351e+08  \n",
       "21     pCIG  1.666499e+08  \n",
       "22     pCIG  1.572894e+08  \n",
       "23     pCIG  9.047647e+07  \n",
       "24     pCIG  1.353022e+08  \n",
       "25     pCIG  2.482647e+08  \n",
       "26     pCIG  2.783133e+08  \n",
       "27     pCIG  4.152596e+08  \n",
       "28     pCIG  1.357709e+08  \n",
       "29     pCIG  4.536429e+08  \n",
       "30     pCIG  2.980334e+08  \n",
       "31     pCIG  1.480683e+08  \n",
       "32     pCIG  1.522785e+08  \n",
       "33     pCIG  1.119778e+08  \n",
       "34     pCIG  1.229363e+08  \n",
       "35     pCIG  2.509899e+08  \n",
       "36     pCIG  3.283120e+08  \n",
       "37     pCIG  4.652211e+08  \n",
       "38     pCIG  1.640484e+08  \n",
       "39     pCIG  2.960794e+08  "
      ]
     },
     "execution_count": 41,
     "metadata": {},
     "output_type": "execute_result"
    }
   ],
   "source": [
    "df = pd.read_csv('smpd3_crispr_tcflef.csv')\n",
    "df\n",
    "##df2.loc[df2['variable'] == 'cntl']"
   ]
  },
  {
   "cell_type": "code",
   "execution_count": 101,
   "metadata": {},
   "outputs": [
    {
     "data": {
      "text/html": [
       "<div>\n",
       "<style scoped>\n",
       "    .dataframe tbody tr th:only-of-type {\n",
       "        vertical-align: middle;\n",
       "    }\n",
       "\n",
       "    .dataframe tbody tr th {\n",
       "        vertical-align: top;\n",
       "    }\n",
       "\n",
       "    .dataframe thead th {\n",
       "        text-align: right;\n",
       "    }\n",
       "</style>\n",
       "<table border=\"1\" class=\"dataframe\">\n",
       "  <thead>\n",
       "    <tr style=\"text-align: right;\">\n",
       "      <th></th>\n",
       "      <th>embryo</th>\n",
       "      <th>variable</th>\n",
       "      <th>value</th>\n",
       "    </tr>\n",
       "  </thead>\n",
       "  <tbody>\n",
       "    <tr>\n",
       "      <th>0</th>\n",
       "      <td>1</td>\n",
       "      <td>cntl</td>\n",
       "      <td>2.164114</td>\n",
       "    </tr>\n",
       "    <tr>\n",
       "      <th>1</th>\n",
       "      <td>2</td>\n",
       "      <td>cntl</td>\n",
       "      <td>3.063780</td>\n",
       "    </tr>\n",
       "    <tr>\n",
       "      <th>2</th>\n",
       "      <td>3</td>\n",
       "      <td>cntl</td>\n",
       "      <td>1.550695</td>\n",
       "    </tr>\n",
       "    <tr>\n",
       "      <th>3</th>\n",
       "      <td>4</td>\n",
       "      <td>cntl</td>\n",
       "      <td>0.875284</td>\n",
       "    </tr>\n",
       "    <tr>\n",
       "      <th>4</th>\n",
       "      <td>5</td>\n",
       "      <td>cntl</td>\n",
       "      <td>0.766833</td>\n",
       "    </tr>\n",
       "    <tr>\n",
       "      <th>5</th>\n",
       "      <td>6</td>\n",
       "      <td>cntl</td>\n",
       "      <td>1.425505</td>\n",
       "    </tr>\n",
       "    <tr>\n",
       "      <th>6</th>\n",
       "      <td>7</td>\n",
       "      <td>cntl</td>\n",
       "      <td>0.884113</td>\n",
       "    </tr>\n",
       "    <tr>\n",
       "      <th>7</th>\n",
       "      <td>8</td>\n",
       "      <td>cntl</td>\n",
       "      <td>1.013433</td>\n",
       "    </tr>\n",
       "    <tr>\n",
       "      <th>8</th>\n",
       "      <td>9</td>\n",
       "      <td>cntl</td>\n",
       "      <td>0.511257</td>\n",
       "    </tr>\n",
       "    <tr>\n",
       "      <th>9</th>\n",
       "      <td>10</td>\n",
       "      <td>cntl</td>\n",
       "      <td>0.613350</td>\n",
       "    </tr>\n",
       "    <tr>\n",
       "      <th>10</th>\n",
       "      <td>1</td>\n",
       "      <td>expt</td>\n",
       "      <td>1.541820</td>\n",
       "    </tr>\n",
       "    <tr>\n",
       "      <th>11</th>\n",
       "      <td>2</td>\n",
       "      <td>expt</td>\n",
       "      <td>2.473018</td>\n",
       "    </tr>\n",
       "    <tr>\n",
       "      <th>12</th>\n",
       "      <td>3</td>\n",
       "      <td>expt</td>\n",
       "      <td>1.110333</td>\n",
       "    </tr>\n",
       "    <tr>\n",
       "      <th>13</th>\n",
       "      <td>4</td>\n",
       "      <td>expt</td>\n",
       "      <td>0.742172</td>\n",
       "    </tr>\n",
       "    <tr>\n",
       "      <th>14</th>\n",
       "      <td>5</td>\n",
       "      <td>expt</td>\n",
       "      <td>0.492077</td>\n",
       "    </tr>\n",
       "    <tr>\n",
       "      <th>15</th>\n",
       "      <td>6</td>\n",
       "      <td>expt</td>\n",
       "      <td>1.150769</td>\n",
       "    </tr>\n",
       "    <tr>\n",
       "      <th>16</th>\n",
       "      <td>7</td>\n",
       "      <td>expt</td>\n",
       "      <td>0.680491</td>\n",
       "    </tr>\n",
       "    <tr>\n",
       "      <th>17</th>\n",
       "      <td>8</td>\n",
       "      <td>expt</td>\n",
       "      <td>0.773286</td>\n",
       "    </tr>\n",
       "    <tr>\n",
       "      <th>18</th>\n",
       "      <td>9</td>\n",
       "      <td>expt</td>\n",
       "      <td>0.434839</td>\n",
       "    </tr>\n",
       "    <tr>\n",
       "      <th>19</th>\n",
       "      <td>10</td>\n",
       "      <td>expt</td>\n",
       "      <td>0.503942</td>\n",
       "    </tr>\n",
       "  </tbody>\n",
       "</table>\n",
       "</div>"
      ],
      "text/plain": [
       "    embryo variable     value\n",
       "0        1     cntl  2.164114\n",
       "1        2     cntl  3.063780\n",
       "2        3     cntl  1.550695\n",
       "3        4     cntl  0.875284\n",
       "4        5     cntl  0.766833\n",
       "5        6     cntl  1.425505\n",
       "6        7     cntl  0.884113\n",
       "7        8     cntl  1.013433\n",
       "8        9     cntl  0.511257\n",
       "9       10     cntl  0.613350\n",
       "10       1     expt  1.541820\n",
       "11       2     expt  2.473018\n",
       "12       3     expt  1.110333\n",
       "13       4     expt  0.742172\n",
       "14       5     expt  0.492077\n",
       "15       6     expt  1.150769\n",
       "16       7     expt  0.680491\n",
       "17       8     expt  0.773286\n",
       "18       9     expt  0.434839\n",
       "19      10     expt  0.503942"
      ]
     },
     "execution_count": 101,
     "metadata": {},
     "output_type": "execute_result"
    }
   ],
   "source": [
    "# Using for loops to collect the ctcf values for each embryo/side/fluor combination to divide values of TCF/Lef over pCIG\n",
    "\n",
    "cntl_norm_tcflef = []\n",
    "expt_norm_tcflef = []\n",
    "\n",
    "for i in range(10):\n",
    "    ctcf_tcf = df.loc[(df['embryo'] == i+1) & (df['side'] == 'cntl') & (df['fluor'] == 'tcf lef'), ['ctcf']]\n",
    "    cntl_tcflef = ctcf_tcf.iloc[0]['ctcf']\n",
    "    ctcf_pCIG = df.loc[(df['embryo'] == i+1) & (df['side'] == 'cntl') & (df['fluor'] == 'pCIG'), ['ctcf']]\n",
    "    cntl_pCIG = ctcf_pCIG.iloc[0]['ctcf']\n",
    "    cntl_norm_tcflef.append(cntl_tcflef / cntl_pCIG)\n",
    "    \n",
    "for i in range(10):\n",
    "    ctcf_tcf = df.loc[(df['embryo'] == i+1) & (df['side'] == 'exp') & (df['fluor'] == 'tcf lef'), ['ctcf']]\n",
    "    expt_tcflef = ctcf_tcf.iloc[0]['ctcf']\n",
    "    ctcf_pCIG = df.loc[(df['embryo'] == i+1) & (df['side'] == 'exp') & (df['fluor'] == 'pCIG'), ['ctcf']]\n",
    "    expt_pCIG = ctcf_pCIG.iloc[0]['ctcf']\n",
    "    expt_norm_tcflef.append(expt_tcflef / expt_pCIG)\n",
    "    \n",
    "norm_values = pd.DataFrame({'cntl' : cntl_norm_tcflef, 'expt': expt_norm_tcflef})\n",
    "norm_values['embryo'] = [i+1 for i in range(len(norm_values))]\n",
    "norm_values2 = pd.melt(norm_values, id_vars='embryo', value_vars=['cntl', 'expt'])\n",
    "norm_values2"
   ]
  },
  {
   "cell_type": "code",
   "execution_count": 119,
   "metadata": {},
   "outputs": [
    {
     "ename": "KeyError",
     "evalue": "'variable'",
     "output_type": "error",
     "traceback": [
      "\u001b[0;31m---------------------------------------------------------------------------\u001b[0m",
      "\u001b[0;31mKeyError\u001b[0m                                  Traceback (most recent call last)",
      "\u001b[0;32m/anaconda3/lib/python3.6/site-packages/pandas/core/indexes/base.py\u001b[0m in \u001b[0;36mget_loc\u001b[0;34m(self, key, method, tolerance)\u001b[0m\n\u001b[1;32m   3062\u001b[0m             \u001b[0;32mtry\u001b[0m\u001b[0;34m:\u001b[0m\u001b[0;34m\u001b[0m\u001b[0m\n\u001b[0;32m-> 3063\u001b[0;31m                 \u001b[0;32mreturn\u001b[0m \u001b[0mself\u001b[0m\u001b[0;34m.\u001b[0m\u001b[0m_engine\u001b[0m\u001b[0;34m.\u001b[0m\u001b[0mget_loc\u001b[0m\u001b[0;34m(\u001b[0m\u001b[0mkey\u001b[0m\u001b[0;34m)\u001b[0m\u001b[0;34m\u001b[0m\u001b[0m\n\u001b[0m\u001b[1;32m   3064\u001b[0m             \u001b[0;32mexcept\u001b[0m \u001b[0mKeyError\u001b[0m\u001b[0;34m:\u001b[0m\u001b[0;34m\u001b[0m\u001b[0m\n",
      "\u001b[0;32mpandas/_libs/index.pyx\u001b[0m in \u001b[0;36mpandas._libs.index.IndexEngine.get_loc\u001b[0;34m()\u001b[0m\n",
      "\u001b[0;32mpandas/_libs/index.pyx\u001b[0m in \u001b[0;36mpandas._libs.index.IndexEngine.get_loc\u001b[0;34m()\u001b[0m\n",
      "\u001b[0;32mpandas/_libs/hashtable_class_helper.pxi\u001b[0m in \u001b[0;36mpandas._libs.hashtable.PyObjectHashTable.get_item\u001b[0;34m()\u001b[0m\n",
      "\u001b[0;32mpandas/_libs/hashtable_class_helper.pxi\u001b[0m in \u001b[0;36mpandas._libs.hashtable.PyObjectHashTable.get_item\u001b[0;34m()\u001b[0m\n",
      "\u001b[0;31mKeyError\u001b[0m: 'variable'",
      "\nDuring handling of the above exception, another exception occurred:\n",
      "\u001b[0;31mKeyError\u001b[0m                                  Traceback (most recent call last)",
      "\u001b[0;32m<ipython-input-119-ef85676ee2d2>\u001b[0m in \u001b[0;36m<module>\u001b[0;34m()\u001b[0m\n\u001b[0;32m----> 1\u001b[0;31m \u001b[0mnorm_values2\u001b[0m\u001b[0;34m.\u001b[0m\u001b[0mloc\u001b[0m\u001b[0;34m[\u001b[0m\u001b[0;34m(\u001b[0m\u001b[0mdf\u001b[0m\u001b[0;34m[\u001b[0m\u001b[0;34m'embryo'\u001b[0m\u001b[0;34m]\u001b[0m \u001b[0;34m==\u001b[0m \u001b[0;36m1\u001b[0m\u001b[0;34m)\u001b[0m \u001b[0;34m&\u001b[0m \u001b[0;34m(\u001b[0m\u001b[0mdf\u001b[0m\u001b[0;34m[\u001b[0m\u001b[0;34m'variable'\u001b[0m\u001b[0;34m]\u001b[0m \u001b[0;34m==\u001b[0m \u001b[0;34m'cntl'\u001b[0m\u001b[0;34m)\u001b[0m\u001b[0;34m,\u001b[0m \u001b[0;34m[\u001b[0m\u001b[0;34m'value'\u001b[0m\u001b[0;34m]\u001b[0m\u001b[0;34m]\u001b[0m\u001b[0;34m\u001b[0m\u001b[0m\n\u001b[0m",
      "\u001b[0;32m/anaconda3/lib/python3.6/site-packages/pandas/core/frame.py\u001b[0m in \u001b[0;36m__getitem__\u001b[0;34m(self, key)\u001b[0m\n\u001b[1;32m   2683\u001b[0m             \u001b[0;32mreturn\u001b[0m \u001b[0mself\u001b[0m\u001b[0;34m.\u001b[0m\u001b[0m_getitem_multilevel\u001b[0m\u001b[0;34m(\u001b[0m\u001b[0mkey\u001b[0m\u001b[0;34m)\u001b[0m\u001b[0;34m\u001b[0m\u001b[0m\n\u001b[1;32m   2684\u001b[0m         \u001b[0;32melse\u001b[0m\u001b[0;34m:\u001b[0m\u001b[0;34m\u001b[0m\u001b[0m\n\u001b[0;32m-> 2685\u001b[0;31m             \u001b[0;32mreturn\u001b[0m \u001b[0mself\u001b[0m\u001b[0;34m.\u001b[0m\u001b[0m_getitem_column\u001b[0m\u001b[0;34m(\u001b[0m\u001b[0mkey\u001b[0m\u001b[0;34m)\u001b[0m\u001b[0;34m\u001b[0m\u001b[0m\n\u001b[0m\u001b[1;32m   2686\u001b[0m \u001b[0;34m\u001b[0m\u001b[0m\n\u001b[1;32m   2687\u001b[0m     \u001b[0;32mdef\u001b[0m \u001b[0m_getitem_column\u001b[0m\u001b[0;34m(\u001b[0m\u001b[0mself\u001b[0m\u001b[0;34m,\u001b[0m \u001b[0mkey\u001b[0m\u001b[0;34m)\u001b[0m\u001b[0;34m:\u001b[0m\u001b[0;34m\u001b[0m\u001b[0m\n",
      "\u001b[0;32m/anaconda3/lib/python3.6/site-packages/pandas/core/frame.py\u001b[0m in \u001b[0;36m_getitem_column\u001b[0;34m(self, key)\u001b[0m\n\u001b[1;32m   2690\u001b[0m         \u001b[0;31m# get column\u001b[0m\u001b[0;34m\u001b[0m\u001b[0;34m\u001b[0m\u001b[0m\n\u001b[1;32m   2691\u001b[0m         \u001b[0;32mif\u001b[0m \u001b[0mself\u001b[0m\u001b[0;34m.\u001b[0m\u001b[0mcolumns\u001b[0m\u001b[0;34m.\u001b[0m\u001b[0mis_unique\u001b[0m\u001b[0;34m:\u001b[0m\u001b[0;34m\u001b[0m\u001b[0m\n\u001b[0;32m-> 2692\u001b[0;31m             \u001b[0;32mreturn\u001b[0m \u001b[0mself\u001b[0m\u001b[0;34m.\u001b[0m\u001b[0m_get_item_cache\u001b[0m\u001b[0;34m(\u001b[0m\u001b[0mkey\u001b[0m\u001b[0;34m)\u001b[0m\u001b[0;34m\u001b[0m\u001b[0m\n\u001b[0m\u001b[1;32m   2693\u001b[0m \u001b[0;34m\u001b[0m\u001b[0m\n\u001b[1;32m   2694\u001b[0m         \u001b[0;31m# duplicate columns & possible reduce dimensionality\u001b[0m\u001b[0;34m\u001b[0m\u001b[0;34m\u001b[0m\u001b[0m\n",
      "\u001b[0;32m/anaconda3/lib/python3.6/site-packages/pandas/core/generic.py\u001b[0m in \u001b[0;36m_get_item_cache\u001b[0;34m(self, item)\u001b[0m\n\u001b[1;32m   2484\u001b[0m         \u001b[0mres\u001b[0m \u001b[0;34m=\u001b[0m \u001b[0mcache\u001b[0m\u001b[0;34m.\u001b[0m\u001b[0mget\u001b[0m\u001b[0;34m(\u001b[0m\u001b[0mitem\u001b[0m\u001b[0;34m)\u001b[0m\u001b[0;34m\u001b[0m\u001b[0m\n\u001b[1;32m   2485\u001b[0m         \u001b[0;32mif\u001b[0m \u001b[0mres\u001b[0m \u001b[0;32mis\u001b[0m \u001b[0;32mNone\u001b[0m\u001b[0;34m:\u001b[0m\u001b[0;34m\u001b[0m\u001b[0m\n\u001b[0;32m-> 2486\u001b[0;31m             \u001b[0mvalues\u001b[0m \u001b[0;34m=\u001b[0m \u001b[0mself\u001b[0m\u001b[0;34m.\u001b[0m\u001b[0m_data\u001b[0m\u001b[0;34m.\u001b[0m\u001b[0mget\u001b[0m\u001b[0;34m(\u001b[0m\u001b[0mitem\u001b[0m\u001b[0;34m)\u001b[0m\u001b[0;34m\u001b[0m\u001b[0m\n\u001b[0m\u001b[1;32m   2487\u001b[0m             \u001b[0mres\u001b[0m \u001b[0;34m=\u001b[0m \u001b[0mself\u001b[0m\u001b[0;34m.\u001b[0m\u001b[0m_box_item_values\u001b[0m\u001b[0;34m(\u001b[0m\u001b[0mitem\u001b[0m\u001b[0;34m,\u001b[0m \u001b[0mvalues\u001b[0m\u001b[0;34m)\u001b[0m\u001b[0;34m\u001b[0m\u001b[0m\n\u001b[1;32m   2488\u001b[0m             \u001b[0mcache\u001b[0m\u001b[0;34m[\u001b[0m\u001b[0mitem\u001b[0m\u001b[0;34m]\u001b[0m \u001b[0;34m=\u001b[0m \u001b[0mres\u001b[0m\u001b[0;34m\u001b[0m\u001b[0m\n",
      "\u001b[0;32m/anaconda3/lib/python3.6/site-packages/pandas/core/internals.py\u001b[0m in \u001b[0;36mget\u001b[0;34m(self, item, fastpath)\u001b[0m\n\u001b[1;32m   4113\u001b[0m \u001b[0;34m\u001b[0m\u001b[0m\n\u001b[1;32m   4114\u001b[0m             \u001b[0;32mif\u001b[0m \u001b[0;32mnot\u001b[0m \u001b[0misna\u001b[0m\u001b[0;34m(\u001b[0m\u001b[0mitem\u001b[0m\u001b[0;34m)\u001b[0m\u001b[0;34m:\u001b[0m\u001b[0;34m\u001b[0m\u001b[0m\n\u001b[0;32m-> 4115\u001b[0;31m                 \u001b[0mloc\u001b[0m \u001b[0;34m=\u001b[0m \u001b[0mself\u001b[0m\u001b[0;34m.\u001b[0m\u001b[0mitems\u001b[0m\u001b[0;34m.\u001b[0m\u001b[0mget_loc\u001b[0m\u001b[0;34m(\u001b[0m\u001b[0mitem\u001b[0m\u001b[0;34m)\u001b[0m\u001b[0;34m\u001b[0m\u001b[0m\n\u001b[0m\u001b[1;32m   4116\u001b[0m             \u001b[0;32melse\u001b[0m\u001b[0;34m:\u001b[0m\u001b[0;34m\u001b[0m\u001b[0m\n\u001b[1;32m   4117\u001b[0m                 \u001b[0mindexer\u001b[0m \u001b[0;34m=\u001b[0m \u001b[0mnp\u001b[0m\u001b[0;34m.\u001b[0m\u001b[0marange\u001b[0m\u001b[0;34m(\u001b[0m\u001b[0mlen\u001b[0m\u001b[0;34m(\u001b[0m\u001b[0mself\u001b[0m\u001b[0;34m.\u001b[0m\u001b[0mitems\u001b[0m\u001b[0;34m)\u001b[0m\u001b[0;34m)\u001b[0m\u001b[0;34m[\u001b[0m\u001b[0misna\u001b[0m\u001b[0;34m(\u001b[0m\u001b[0mself\u001b[0m\u001b[0;34m.\u001b[0m\u001b[0mitems\u001b[0m\u001b[0;34m)\u001b[0m\u001b[0;34m]\u001b[0m\u001b[0;34m\u001b[0m\u001b[0m\n",
      "\u001b[0;32m/anaconda3/lib/python3.6/site-packages/pandas/core/indexes/base.py\u001b[0m in \u001b[0;36mget_loc\u001b[0;34m(self, key, method, tolerance)\u001b[0m\n\u001b[1;32m   3063\u001b[0m                 \u001b[0;32mreturn\u001b[0m \u001b[0mself\u001b[0m\u001b[0;34m.\u001b[0m\u001b[0m_engine\u001b[0m\u001b[0;34m.\u001b[0m\u001b[0mget_loc\u001b[0m\u001b[0;34m(\u001b[0m\u001b[0mkey\u001b[0m\u001b[0;34m)\u001b[0m\u001b[0;34m\u001b[0m\u001b[0m\n\u001b[1;32m   3064\u001b[0m             \u001b[0;32mexcept\u001b[0m \u001b[0mKeyError\u001b[0m\u001b[0;34m:\u001b[0m\u001b[0;34m\u001b[0m\u001b[0m\n\u001b[0;32m-> 3065\u001b[0;31m                 \u001b[0;32mreturn\u001b[0m \u001b[0mself\u001b[0m\u001b[0;34m.\u001b[0m\u001b[0m_engine\u001b[0m\u001b[0;34m.\u001b[0m\u001b[0mget_loc\u001b[0m\u001b[0;34m(\u001b[0m\u001b[0mself\u001b[0m\u001b[0;34m.\u001b[0m\u001b[0m_maybe_cast_indexer\u001b[0m\u001b[0;34m(\u001b[0m\u001b[0mkey\u001b[0m\u001b[0;34m)\u001b[0m\u001b[0;34m)\u001b[0m\u001b[0;34m\u001b[0m\u001b[0m\n\u001b[0m\u001b[1;32m   3066\u001b[0m \u001b[0;34m\u001b[0m\u001b[0m\n\u001b[1;32m   3067\u001b[0m         \u001b[0mindexer\u001b[0m \u001b[0;34m=\u001b[0m \u001b[0mself\u001b[0m\u001b[0;34m.\u001b[0m\u001b[0mget_indexer\u001b[0m\u001b[0;34m(\u001b[0m\u001b[0;34m[\u001b[0m\u001b[0mkey\u001b[0m\u001b[0;34m]\u001b[0m\u001b[0;34m,\u001b[0m \u001b[0mmethod\u001b[0m\u001b[0;34m=\u001b[0m\u001b[0mmethod\u001b[0m\u001b[0;34m,\u001b[0m \u001b[0mtolerance\u001b[0m\u001b[0;34m=\u001b[0m\u001b[0mtolerance\u001b[0m\u001b[0;34m)\u001b[0m\u001b[0;34m\u001b[0m\u001b[0m\n",
      "\u001b[0;32mpandas/_libs/index.pyx\u001b[0m in \u001b[0;36mpandas._libs.index.IndexEngine.get_loc\u001b[0;34m()\u001b[0m\n",
      "\u001b[0;32mpandas/_libs/index.pyx\u001b[0m in \u001b[0;36mpandas._libs.index.IndexEngine.get_loc\u001b[0;34m()\u001b[0m\n",
      "\u001b[0;32mpandas/_libs/hashtable_class_helper.pxi\u001b[0m in \u001b[0;36mpandas._libs.hashtable.PyObjectHashTable.get_item\u001b[0;34m()\u001b[0m\n",
      "\u001b[0;32mpandas/_libs/hashtable_class_helper.pxi\u001b[0m in \u001b[0;36mpandas._libs.hashtable.PyObjectHashTable.get_item\u001b[0;34m()\u001b[0m\n",
      "\u001b[0;31mKeyError\u001b[0m: 'variable'"
     ]
    }
   ],
   "source": [
    "norm_values2.loc[(df['embryo'] == 1) & (df['variable'] == 'cntl'), ['value']]\n"
   ]
  },
  {
   "cell_type": "code",
   "execution_count": 109,
   "metadata": {},
   "outputs": [
    {
     "ename": "IndexError",
     "evalue": "single positional indexer is out-of-bounds",
     "output_type": "error",
     "traceback": [
      "\u001b[0;31m---------------------------------------------------------------------------\u001b[0m",
      "\u001b[0;31mIndexError\u001b[0m                                Traceback (most recent call last)",
      "\u001b[0;32m<ipython-input-109-97c4d0b2aac3>\u001b[0m in \u001b[0;36m<module>\u001b[0;34m()\u001b[0m\n\u001b[1;32m      3\u001b[0m \u001b[0;32mfor\u001b[0m \u001b[0mi\u001b[0m \u001b[0;32min\u001b[0m \u001b[0mrange\u001b[0m\u001b[0;34m(\u001b[0m\u001b[0;36m10\u001b[0m\u001b[0;34m)\u001b[0m\u001b[0;34m:\u001b[0m\u001b[0;34m\u001b[0m\u001b[0m\n\u001b[1;32m      4\u001b[0m     \u001b[0mexpt\u001b[0m \u001b[0;34m=\u001b[0m \u001b[0mnorm_values2\u001b[0m\u001b[0;34m.\u001b[0m\u001b[0mloc\u001b[0m\u001b[0;34m[\u001b[0m\u001b[0;34m(\u001b[0m\u001b[0mdf\u001b[0m\u001b[0;34m[\u001b[0m\u001b[0;34m'embryo'\u001b[0m\u001b[0;34m]\u001b[0m \u001b[0;34m==\u001b[0m \u001b[0mi\u001b[0m\u001b[0;34m+\u001b[0m\u001b[0;36m1\u001b[0m\u001b[0;34m)\u001b[0m \u001b[0;34m&\u001b[0m \u001b[0;34m(\u001b[0m\u001b[0mdf\u001b[0m\u001b[0;34m[\u001b[0m\u001b[0;34m'side'\u001b[0m\u001b[0;34m]\u001b[0m \u001b[0;34m==\u001b[0m \u001b[0;34m'expt'\u001b[0m\u001b[0;34m)\u001b[0m\u001b[0;34m,\u001b[0m \u001b[0;34m'value'\u001b[0m\u001b[0;34m]\u001b[0m\u001b[0;34m\u001b[0m\u001b[0m\n\u001b[0;32m----> 5\u001b[0;31m     \u001b[0mexpt2\u001b[0m \u001b[0;34m=\u001b[0m \u001b[0mexpt\u001b[0m\u001b[0;34m.\u001b[0m\u001b[0miloc\u001b[0m\u001b[0;34m[\u001b[0m\u001b[0;36m0\u001b[0m\u001b[0;34m]\u001b[0m\u001b[0;34m[\u001b[0m\u001b[0;34m'value'\u001b[0m\u001b[0;34m]\u001b[0m\u001b[0;34m\u001b[0m\u001b[0m\n\u001b[0m\u001b[1;32m      6\u001b[0m     \u001b[0mcntl\u001b[0m \u001b[0;34m=\u001b[0m \u001b[0mnorm_values2\u001b[0m\u001b[0;34m.\u001b[0m\u001b[0mloc\u001b[0m\u001b[0;34m[\u001b[0m\u001b[0;34m(\u001b[0m\u001b[0mdf\u001b[0m\u001b[0;34m[\u001b[0m\u001b[0;34m'embryo'\u001b[0m\u001b[0;34m]\u001b[0m \u001b[0;34m==\u001b[0m \u001b[0mi\u001b[0m\u001b[0;34m+\u001b[0m\u001b[0;36m1\u001b[0m\u001b[0;34m)\u001b[0m \u001b[0;34m&\u001b[0m \u001b[0;34m(\u001b[0m\u001b[0mdf\u001b[0m\u001b[0;34m[\u001b[0m\u001b[0;34m'side'\u001b[0m\u001b[0;34m]\u001b[0m \u001b[0;34m==\u001b[0m \u001b[0;34m'cntl'\u001b[0m\u001b[0;34m)\u001b[0m\u001b[0;34m,\u001b[0m \u001b[0;34m'value'\u001b[0m\u001b[0;34m]\u001b[0m\u001b[0;34m\u001b[0m\u001b[0m\n\u001b[1;32m      7\u001b[0m     \u001b[0mcntl2\u001b[0m \u001b[0;34m=\u001b[0m \u001b[0mcntl\u001b[0m\u001b[0;34m.\u001b[0m\u001b[0miloc\u001b[0m\u001b[0;34m[\u001b[0m\u001b[0;36m0\u001b[0m\u001b[0;34m]\u001b[0m\u001b[0;34m[\u001b[0m\u001b[0;34m'value'\u001b[0m\u001b[0;34m]\u001b[0m\u001b[0;34m\u001b[0m\u001b[0m\n",
      "\u001b[0;32m/anaconda3/lib/python3.6/site-packages/pandas/core/indexing.py\u001b[0m in \u001b[0;36m__getitem__\u001b[0;34m(self, key)\u001b[0m\n\u001b[1;32m   1476\u001b[0m \u001b[0;34m\u001b[0m\u001b[0m\n\u001b[1;32m   1477\u001b[0m             \u001b[0mmaybe_callable\u001b[0m \u001b[0;34m=\u001b[0m \u001b[0mcom\u001b[0m\u001b[0;34m.\u001b[0m\u001b[0m_apply_if_callable\u001b[0m\u001b[0;34m(\u001b[0m\u001b[0mkey\u001b[0m\u001b[0;34m,\u001b[0m \u001b[0mself\u001b[0m\u001b[0;34m.\u001b[0m\u001b[0mobj\u001b[0m\u001b[0;34m)\u001b[0m\u001b[0;34m\u001b[0m\u001b[0m\n\u001b[0;32m-> 1478\u001b[0;31m             \u001b[0;32mreturn\u001b[0m \u001b[0mself\u001b[0m\u001b[0;34m.\u001b[0m\u001b[0m_getitem_axis\u001b[0m\u001b[0;34m(\u001b[0m\u001b[0mmaybe_callable\u001b[0m\u001b[0;34m,\u001b[0m \u001b[0maxis\u001b[0m\u001b[0;34m=\u001b[0m\u001b[0maxis\u001b[0m\u001b[0;34m)\u001b[0m\u001b[0;34m\u001b[0m\u001b[0m\n\u001b[0m\u001b[1;32m   1479\u001b[0m \u001b[0;34m\u001b[0m\u001b[0m\n\u001b[1;32m   1480\u001b[0m     \u001b[0;32mdef\u001b[0m \u001b[0m_is_scalar_access\u001b[0m\u001b[0;34m(\u001b[0m\u001b[0mself\u001b[0m\u001b[0;34m,\u001b[0m \u001b[0mkey\u001b[0m\u001b[0;34m)\u001b[0m\u001b[0;34m:\u001b[0m\u001b[0;34m\u001b[0m\u001b[0m\n",
      "\u001b[0;32m/anaconda3/lib/python3.6/site-packages/pandas/core/indexing.py\u001b[0m in \u001b[0;36m_getitem_axis\u001b[0;34m(self, key, axis)\u001b[0m\n\u001b[1;32m   2100\u001b[0m \u001b[0;34m\u001b[0m\u001b[0m\n\u001b[1;32m   2101\u001b[0m             \u001b[0;31m# validate the location\u001b[0m\u001b[0;34m\u001b[0m\u001b[0;34m\u001b[0m\u001b[0m\n\u001b[0;32m-> 2102\u001b[0;31m             \u001b[0mself\u001b[0m\u001b[0;34m.\u001b[0m\u001b[0m_validate_integer\u001b[0m\u001b[0;34m(\u001b[0m\u001b[0mkey\u001b[0m\u001b[0;34m,\u001b[0m \u001b[0maxis\u001b[0m\u001b[0;34m)\u001b[0m\u001b[0;34m\u001b[0m\u001b[0m\n\u001b[0m\u001b[1;32m   2103\u001b[0m \u001b[0;34m\u001b[0m\u001b[0m\n\u001b[1;32m   2104\u001b[0m             \u001b[0;32mreturn\u001b[0m \u001b[0mself\u001b[0m\u001b[0;34m.\u001b[0m\u001b[0m_get_loc\u001b[0m\u001b[0;34m(\u001b[0m\u001b[0mkey\u001b[0m\u001b[0;34m,\u001b[0m \u001b[0maxis\u001b[0m\u001b[0;34m=\u001b[0m\u001b[0maxis\u001b[0m\u001b[0;34m)\u001b[0m\u001b[0;34m\u001b[0m\u001b[0m\n",
      "\u001b[0;32m/anaconda3/lib/python3.6/site-packages/pandas/core/indexing.py\u001b[0m in \u001b[0;36m_validate_integer\u001b[0;34m(self, key, axis)\u001b[0m\n\u001b[1;32m   2007\u001b[0m         \u001b[0ml\u001b[0m \u001b[0;34m=\u001b[0m \u001b[0mlen\u001b[0m\u001b[0;34m(\u001b[0m\u001b[0max\u001b[0m\u001b[0;34m)\u001b[0m\u001b[0;34m\u001b[0m\u001b[0m\n\u001b[1;32m   2008\u001b[0m         \u001b[0;32mif\u001b[0m \u001b[0mkey\u001b[0m \u001b[0;34m>=\u001b[0m \u001b[0ml\u001b[0m \u001b[0;32mor\u001b[0m \u001b[0mkey\u001b[0m \u001b[0;34m<\u001b[0m \u001b[0;34m-\u001b[0m\u001b[0ml\u001b[0m\u001b[0;34m:\u001b[0m\u001b[0;34m\u001b[0m\u001b[0m\n\u001b[0;32m-> 2009\u001b[0;31m             \u001b[0;32mraise\u001b[0m \u001b[0mIndexError\u001b[0m\u001b[0;34m(\u001b[0m\u001b[0;34m\"single positional indexer is out-of-bounds\"\u001b[0m\u001b[0;34m)\u001b[0m\u001b[0;34m\u001b[0m\u001b[0m\n\u001b[0m\u001b[1;32m   2010\u001b[0m \u001b[0;34m\u001b[0m\u001b[0m\n\u001b[1;32m   2011\u001b[0m     \u001b[0;32mdef\u001b[0m \u001b[0m_getitem_tuple\u001b[0m\u001b[0;34m(\u001b[0m\u001b[0mself\u001b[0m\u001b[0;34m,\u001b[0m \u001b[0mtup\u001b[0m\u001b[0;34m)\u001b[0m\u001b[0;34m:\u001b[0m\u001b[0;34m\u001b[0m\u001b[0m\n",
      "\u001b[0;31mIndexError\u001b[0m: single positional indexer is out-of-bounds"
     ]
    }
   ],
   "source": [
    "ratio_list = []\n",
    "\n",
    "for i in range(10):\n",
    "    expt = norm_values2.loc[(df['embryo'] == i+1) & (df['side'] == 'expt'), 'value']\n",
    "    expt2 = expt.iloc[0]['value']\n",
    "    cntl = norm_values2.loc[(df['embryo'] == i+1) & (df['side'] == 'cntl'), 'value']\n",
    "    cntl2 = cntl.iloc[0]['value']\n",
    "    ratio_list.append(expt2 / cntl2)\n",
    "    \n",
    "ratios = pd.DataFrame({'embryo': [i+1 for i in range(len(ratio_list))], 'ratio' : ratio_list})\n",
    "ratios"
   ]
  },
  {
   "cell_type": "code",
   "execution_count": 43,
   "metadata": {},
   "outputs": [
    {
     "data": {
      "application/vnd.vegalite.v2+json": {
       "$schema": "https://vega.github.io/schema/vega-lite/v2.4.3.json",
       "config": {
        "view": {
         "height": 300,
         "width": 400
        }
       },
       "data": {
        "values": [
         {
          "embryo": 1,
          "value": 2.1641142560079345,
          "variable": "cntl"
         },
         {
          "embryo": 2,
          "value": 3.063779990675722,
          "variable": "cntl"
         },
         {
          "embryo": 3,
          "value": 1.5506952422186828,
          "variable": "cntl"
         },
         {
          "embryo": 4,
          "value": 0.875283589788765,
          "variable": "cntl"
         },
         {
          "embryo": 5,
          "value": 0.7668333526800205,
          "variable": "cntl"
         },
         {
          "embryo": 6,
          "value": 1.425504787118721,
          "variable": "cntl"
         },
         {
          "embryo": 7,
          "value": 0.8841132662341247,
          "variable": "cntl"
         },
         {
          "embryo": 8,
          "value": 1.0134330363571926,
          "variable": "cntl"
         },
         {
          "embryo": 9,
          "value": 0.5112566731779745,
          "variable": "cntl"
         },
         {
          "embryo": 10,
          "value": 0.6133500652176124,
          "variable": "cntl"
         },
         {
          "embryo": 1,
          "value": 1.541820032074219,
          "variable": "expt"
         },
         {
          "embryo": 2,
          "value": 2.473018495876802,
          "variable": "expt"
         },
         {
          "embryo": 3,
          "value": 1.1103328192738116,
          "variable": "expt"
         },
         {
          "embryo": 4,
          "value": 0.7421724414367796,
          "variable": "expt"
         },
         {
          "embryo": 5,
          "value": 0.4920773011173459,
          "variable": "expt"
         },
         {
          "embryo": 6,
          "value": 1.150768511461152,
          "variable": "expt"
         },
         {
          "embryo": 7,
          "value": 0.680490761357708,
          "variable": "expt"
         },
         {
          "embryo": 8,
          "value": 0.7732862366050636,
          "variable": "expt"
         },
         {
          "embryo": 9,
          "value": 0.4348389006379611,
          "variable": "expt"
         },
         {
          "embryo": 10,
          "value": 0.5039417470579904,
          "variable": "expt"
         }
        ]
       },
       "encoding": {
        "color": {
         "field": "variable",
         "type": "nominal"
        },
        "x": {
         "field": "value",
         "type": "quantitative"
        },
        "y": {
         "field": "variable",
         "title": "condition",
         "type": "nominal"
        }
       },
       "height": 100,
       "mark": {
        "size": 70,
        "type": "circle"
       },
       "title": "Normalized TCF/Lef:H2B-RFP Intensity"
      },
      "image/png": "[encoded data removed]",
      "text/plain": [
       "<VegaLite 2 object>\n",
       "\n",
       "If you see this message, it means the renderer has not been properly enabled\n",
       "for the frontend that you are using. For more information, see\n",
       "https://altair-viz.github.io/user_guide/troubleshooting.html\n"
      ]
     },
     "execution_count": 43,
     "metadata": {},
     "output_type": "execute_result"
    }
   ],
   "source": [
    "alt.Chart(norm_values2,\n",
    "    title='Normalized TCF/Lef:H2B-RFP Intensity',\n",
    "    height=100\n",
    "    ).mark_circle(\n",
    "        size=70\n",
    "    ).encode(\n",
    "        x='value:Q',\n",
    "        y=alt.Y('variable:N', title='condition'),\n",
    "        color='variable:N'\n",
    "    )"
   ]
  },
  {
   "cell_type": "code",
   "execution_count": 60,
   "metadata": {},
   "outputs": [
    {
     "data": {
      "text/html": [
       "<div>\n",
       "<style scoped>\n",
       "    .dataframe tbody tr th:only-of-type {\n",
       "        vertical-align: middle;\n",
       "    }\n",
       "\n",
       "    .dataframe tbody tr th {\n",
       "        vertical-align: top;\n",
       "    }\n",
       "\n",
       "    .dataframe thead th {\n",
       "        text-align: right;\n",
       "    }\n",
       "</style>\n",
       "<table border=\"1\" class=\"dataframe\">\n",
       "  <thead>\n",
       "    <tr style=\"text-align: right;\">\n",
       "      <th></th>\n",
       "      <th>embryo</th>\n",
       "      <th>variable</th>\n",
       "      <th>value</th>\n",
       "      <th>ECDF</th>\n",
       "    </tr>\n",
       "  </thead>\n",
       "  <tbody>\n",
       "    <tr>\n",
       "      <th>0</th>\n",
       "      <td>1</td>\n",
       "      <td>cntl</td>\n",
       "      <td>2.164114</td>\n",
       "      <td>0.9</td>\n",
       "    </tr>\n",
       "    <tr>\n",
       "      <th>1</th>\n",
       "      <td>2</td>\n",
       "      <td>cntl</td>\n",
       "      <td>3.063780</td>\n",
       "      <td>1.0</td>\n",
       "    </tr>\n",
       "    <tr>\n",
       "      <th>2</th>\n",
       "      <td>3</td>\n",
       "      <td>cntl</td>\n",
       "      <td>1.550695</td>\n",
       "      <td>0.8</td>\n",
       "    </tr>\n",
       "    <tr>\n",
       "      <th>3</th>\n",
       "      <td>4</td>\n",
       "      <td>cntl</td>\n",
       "      <td>0.875284</td>\n",
       "      <td>0.4</td>\n",
       "    </tr>\n",
       "    <tr>\n",
       "      <th>4</th>\n",
       "      <td>5</td>\n",
       "      <td>cntl</td>\n",
       "      <td>0.766833</td>\n",
       "      <td>0.3</td>\n",
       "    </tr>\n",
       "    <tr>\n",
       "      <th>5</th>\n",
       "      <td>6</td>\n",
       "      <td>cntl</td>\n",
       "      <td>1.425505</td>\n",
       "      <td>0.7</td>\n",
       "    </tr>\n",
       "    <tr>\n",
       "      <th>6</th>\n",
       "      <td>7</td>\n",
       "      <td>cntl</td>\n",
       "      <td>0.884113</td>\n",
       "      <td>0.5</td>\n",
       "    </tr>\n",
       "    <tr>\n",
       "      <th>7</th>\n",
       "      <td>8</td>\n",
       "      <td>cntl</td>\n",
       "      <td>1.013433</td>\n",
       "      <td>0.6</td>\n",
       "    </tr>\n",
       "    <tr>\n",
       "      <th>8</th>\n",
       "      <td>9</td>\n",
       "      <td>cntl</td>\n",
       "      <td>0.511257</td>\n",
       "      <td>0.1</td>\n",
       "    </tr>\n",
       "    <tr>\n",
       "      <th>9</th>\n",
       "      <td>10</td>\n",
       "      <td>cntl</td>\n",
       "      <td>0.613350</td>\n",
       "      <td>0.2</td>\n",
       "    </tr>\n",
       "    <tr>\n",
       "      <th>10</th>\n",
       "      <td>1</td>\n",
       "      <td>expt</td>\n",
       "      <td>1.541820</td>\n",
       "      <td>0.9</td>\n",
       "    </tr>\n",
       "    <tr>\n",
       "      <th>11</th>\n",
       "      <td>2</td>\n",
       "      <td>expt</td>\n",
       "      <td>2.473018</td>\n",
       "      <td>1.0</td>\n",
       "    </tr>\n",
       "    <tr>\n",
       "      <th>12</th>\n",
       "      <td>3</td>\n",
       "      <td>expt</td>\n",
       "      <td>1.110333</td>\n",
       "      <td>0.7</td>\n",
       "    </tr>\n",
       "    <tr>\n",
       "      <th>13</th>\n",
       "      <td>4</td>\n",
       "      <td>expt</td>\n",
       "      <td>0.742172</td>\n",
       "      <td>0.5</td>\n",
       "    </tr>\n",
       "    <tr>\n",
       "      <th>14</th>\n",
       "      <td>5</td>\n",
       "      <td>expt</td>\n",
       "      <td>0.492077</td>\n",
       "      <td>0.2</td>\n",
       "    </tr>\n",
       "    <tr>\n",
       "      <th>15</th>\n",
       "      <td>6</td>\n",
       "      <td>expt</td>\n",
       "      <td>1.150769</td>\n",
       "      <td>0.8</td>\n",
       "    </tr>\n",
       "    <tr>\n",
       "      <th>16</th>\n",
       "      <td>7</td>\n",
       "      <td>expt</td>\n",
       "      <td>0.680491</td>\n",
       "      <td>0.4</td>\n",
       "    </tr>\n",
       "    <tr>\n",
       "      <th>17</th>\n",
       "      <td>8</td>\n",
       "      <td>expt</td>\n",
       "      <td>0.773286</td>\n",
       "      <td>0.6</td>\n",
       "    </tr>\n",
       "    <tr>\n",
       "      <th>18</th>\n",
       "      <td>9</td>\n",
       "      <td>expt</td>\n",
       "      <td>0.434839</td>\n",
       "      <td>0.1</td>\n",
       "    </tr>\n",
       "    <tr>\n",
       "      <th>19</th>\n",
       "      <td>10</td>\n",
       "      <td>expt</td>\n",
       "      <td>0.503942</td>\n",
       "      <td>0.3</td>\n",
       "    </tr>\n",
       "  </tbody>\n",
       "</table>\n",
       "</div>"
      ],
      "text/plain": [
       "    embryo variable     value  ECDF\n",
       "0        1     cntl  2.164114   0.9\n",
       "1        2     cntl  3.063780   1.0\n",
       "2        3     cntl  1.550695   0.8\n",
       "3        4     cntl  0.875284   0.4\n",
       "4        5     cntl  0.766833   0.3\n",
       "5        6     cntl  1.425505   0.7\n",
       "6        7     cntl  0.884113   0.5\n",
       "7        8     cntl  1.013433   0.6\n",
       "8        9     cntl  0.511257   0.1\n",
       "9       10     cntl  0.613350   0.2\n",
       "10       1     expt  1.541820   0.9\n",
       "11       2     expt  2.473018   1.0\n",
       "12       3     expt  1.110333   0.7\n",
       "13       4     expt  0.742172   0.5\n",
       "14       5     expt  0.492077   0.2\n",
       "15       6     expt  1.150769   0.8\n",
       "16       7     expt  0.680491   0.4\n",
       "17       8     expt  0.773286   0.6\n",
       "18       9     expt  0.434839   0.1\n",
       "19      10     expt  0.503942   0.3"
      ]
     },
     "execution_count": 60,
     "metadata": {},
     "output_type": "execute_result"
    }
   ],
   "source": [
    "df3 = norm_values2.groupby('variable')\n",
    "df3.head(20)"
   ]
  },
  {
   "cell_type": "code",
   "execution_count": 45,
   "metadata": {},
   "outputs": [
    {
     "data": {
      "application/vnd.vegalite.v2+json": {
       "$schema": "https://vega.github.io/schema/vega-lite/v2.4.3.json",
       "config": {
        "view": {
         "height": 300,
         "width": 400
        }
       },
       "hconcat": [
        {
         "data": {
          "values": [
           {
            "ECDF": 0.9,
            "embryo": 1,
            "value": 2.1641142560079345,
            "variable": "cntl"
           },
           {
            "ECDF": 1,
            "embryo": 2,
            "value": 3.063779990675722,
            "variable": "cntl"
           },
           {
            "ECDF": 0.8,
            "embryo": 3,
            "value": 1.5506952422186828,
            "variable": "cntl"
           },
           {
            "ECDF": 0.4,
            "embryo": 4,
            "value": 0.875283589788765,
            "variable": "cntl"
           },
           {
            "ECDF": 0.3,
            "embryo": 5,
            "value": 0.7668333526800205,
            "variable": "cntl"
           },
           {
            "ECDF": 0.7,
            "embryo": 6,
            "value": 1.425504787118721,
            "variable": "cntl"
           },
           {
            "ECDF": 0.5,
            "embryo": 7,
            "value": 0.8841132662341247,
            "variable": "cntl"
           },
           {
            "ECDF": 0.6,
            "embryo": 8,
            "value": 1.0134330363571926,
            "variable": "cntl"
           },
           {
            "ECDF": 0.1,
            "embryo": 9,
            "value": 0.5112566731779745,
            "variable": "cntl"
           },
           {
            "ECDF": 0.2,
            "embryo": 10,
            "value": 0.6133500652176124,
            "variable": "cntl"
           },
           {
            "ECDF": 0.9,
            "embryo": 1,
            "value": 1.541820032074219,
            "variable": "expt"
           },
           {
            "ECDF": 1,
            "embryo": 2,
            "value": 2.473018495876802,
            "variable": "expt"
           },
           {
            "ECDF": 0.7,
            "embryo": 3,
            "value": 1.1103328192738116,
            "variable": "expt"
           },
           {
            "ECDF": 0.5,
            "embryo": 4,
            "value": 0.7421724414367796,
            "variable": "expt"
           },
           {
            "ECDF": 0.2,
            "embryo": 5,
            "value": 0.4920773011173459,
            "variable": "expt"
           },
           {
            "ECDF": 0.8,
            "embryo": 6,
            "value": 1.150768511461152,
            "variable": "expt"
           },
           {
            "ECDF": 0.4,
            "embryo": 7,
            "value": 0.680490761357708,
            "variable": "expt"
           },
           {
            "ECDF": 0.6,
            "embryo": 8,
            "value": 0.7732862366050636,
            "variable": "expt"
           },
           {
            "ECDF": 0.1,
            "embryo": 9,
            "value": 0.4348389006379611,
            "variable": "expt"
           },
           {
            "ECDF": 0.3,
            "embryo": 10,
            "value": 0.5039417470579904,
            "variable": "expt"
           }
          ]
         },
         "encoding": {
          "color": {
           "field": "variable",
           "type": "nominal"
          },
          "x": {
           "field": "value",
           "type": "quantitative"
          },
          "y": {
           "field": "ECDF",
           "type": "quantitative"
          }
         },
         "mark": {
          "interpolate": "step-before",
          "type": "line"
         }
        },
        {
         "data": {
          "values": [
           {
            "ECDF": 0.9,
            "embryo": 1,
            "value": 2.1641142560079345,
            "variable": "cntl"
           },
           {
            "ECDF": 1,
            "embryo": 2,
            "value": 3.063779990675722,
            "variable": "cntl"
           },
           {
            "ECDF": 0.8,
            "embryo": 3,
            "value": 1.5506952422186828,
            "variable": "cntl"
           },
           {
            "ECDF": 0.4,
            "embryo": 4,
            "value": 0.875283589788765,
            "variable": "cntl"
           },
           {
            "ECDF": 0.3,
            "embryo": 5,
            "value": 0.7668333526800205,
            "variable": "cntl"
           },
           {
            "ECDF": 0.7,
            "embryo": 6,
            "value": 1.425504787118721,
            "variable": "cntl"
           },
           {
            "ECDF": 0.5,
            "embryo": 7,
            "value": 0.8841132662341247,
            "variable": "cntl"
           },
           {
            "ECDF": 0.6,
            "embryo": 8,
            "value": 1.0134330363571926,
            "variable": "cntl"
           },
           {
            "ECDF": 0.1,
            "embryo": 9,
            "value": 0.5112566731779745,
            "variable": "cntl"
           },
           {
            "ECDF": 0.2,
            "embryo": 10,
            "value": 0.6133500652176124,
            "variable": "cntl"
           },
           {
            "ECDF": 0.9,
            "embryo": 1,
            "value": 1.541820032074219,
            "variable": "expt"
           },
           {
            "ECDF": 1,
            "embryo": 2,
            "value": 2.473018495876802,
            "variable": "expt"
           },
           {
            "ECDF": 0.7,
            "embryo": 3,
            "value": 1.1103328192738116,
            "variable": "expt"
           },
           {
            "ECDF": 0.5,
            "embryo": 4,
            "value": 0.7421724414367796,
            "variable": "expt"
           },
           {
            "ECDF": 0.2,
            "embryo": 5,
            "value": 0.4920773011173459,
            "variable": "expt"
           },
           {
            "ECDF": 0.8,
            "embryo": 6,
            "value": 1.150768511461152,
            "variable": "expt"
           },
           {
            "ECDF": 0.4,
            "embryo": 7,
            "value": 0.680490761357708,
            "variable": "expt"
           },
           {
            "ECDF": 0.6,
            "embryo": 8,
            "value": 0.7732862366050636,
            "variable": "expt"
           },
           {
            "ECDF": 0.1,
            "embryo": 9,
            "value": 0.4348389006379611,
            "variable": "expt"
           },
           {
            "ECDF": 0.3,
            "embryo": 10,
            "value": 0.5039417470579904,
            "variable": "expt"
           }
          ]
         },
         "encoding": {
          "color": {
           "field": "variable",
           "type": "nominal"
          },
          "x": {
           "field": "value",
           "type": "quantitative"
          },
          "y": {
           "field": "ECDF",
           "type": "quantitative"
          }
         },
         "mark": {
          "filled": true,
          "interpolate": "step-before",
          "opacity": 0.8,
          "size": 50,
          "type": "point"
         }
        }
       ]
      },
      "image/png": "[encoded data removed]",
      "text/plain": [
       "<VegaLite 2 object>\n",
       "\n",
       "If you see this message, it means the renderer has not been properly enabled\n",
       "for the frontend that you are using. For more information, see\n",
       "https://altair-viz.github.io/user_guide/troubleshooting.html\n"
      ]
     },
     "execution_count": 45,
     "metadata": {},
     "output_type": "execute_result"
    }
   ],
   "source": [
    "# Compute ECDF\n",
    "norm_values2['ECDF'] = norm_values2.groupby('variable')[\"value\"].transform(bootcamp_utils.ecdf_y)\n",
    "\n",
    "# Make the plot\n",
    "dot = alt.Chart(norm_values2\n",
    "    ).mark_point(\n",
    "        size=50,\n",
    "        filled=True,\n",
    "        opacity=0.8,\n",
    "        interpolate='step-before'\n",
    "    ).encode(\n",
    "        x=alt.X('value:Q'),\n",
    "        y='ECDF:Q',\n",
    "        color='variable:N'\n",
    "    )\n",
    "\n",
    "line = alt.Chart(norm_values2\n",
    "    ).mark_line(\n",
    "        interpolate='step-before'\n",
    "    ).encode(\n",
    "        x=alt.X('value:Q'),\n",
    "        y='ECDF:Q',\n",
    "        color='variable:N'\n",
    "    )\n",
    "line  | dot\n",
    "# PROBLEM, the lines on the line plot don't actually represent the ECDF formal plotting"
   ]
  },
  {
   "cell_type": "code",
   "execution_count": 74,
   "metadata": {},
   "outputs": [],
   "source": [
    "df2 = norm_values2.drop('ECDF', axis=1)"
   ]
  },
  {
   "cell_type": "code",
   "execution_count": 81,
   "metadata": {},
   "outputs": [],
   "source": [
    "# Number of replicates\n",
    "n_reps = 100000\n",
    "\n",
    "# Initialize bootstrap replicas array\n",
    "cntl = np.empty(n_reps)\n",
    "expt = np.empty(n_reps)\n",
    "\n",
    "# Compute replicates\n",
    "for i in range(n_reps):\n",
    "    bs_sample_cntl = np.random.choice(df2.loc[df2['variable'] == 'cntl', 'value'], \n",
    "                                        size=len(df2.loc[df2['variable'] == 'cntl']))\n",
    "    cntl[i] = np.mean(bs_sample_cntl)\n",
    "    \n",
    "for i in range(n_reps):\n",
    "    bs_sample_expt = np.random.choice(df2.loc[df2['variable'] == 'expt', 'value'], \n",
    "                                        size=len(df2.loc[df2['variable'] == 'expt']))\n",
    "    expt[i] = np.mean(bs_sample_expt)\n",
    "    \n",
    "# Compute ECDF\n",
    "x_cntl, y_cntl = bootcamp_utils.ecdf_vals(cntl)\n",
    "x_expt, y_expt = bootcamp_utils.ecdf_vals(expt)\n",
    "\n",
    "# Thinned set for plotting\n",
    "df_ecdf_cntl = pd.DataFrame(data={'mean cntl value': x_cntl[::1000],\n",
    "                                  'ECDF': y_cntl[::1000]})\n",
    "df_ecdf_expt = pd.DataFrame(data={'mean expt value': x_expt[::1000],\n",
    "                                  'ECDF': y_expt[::1000]})"
   ]
  },
  {
   "cell_type": "code",
   "execution_count": 100,
   "metadata": {},
   "outputs": [
    {
     "data": {
      "application/vnd.vegalite.v2+json": {
       "$schema": "https://vega.github.io/schema/vega-lite/v2.4.3.json",
       "config": {
        "view": {
         "height": 300,
         "width": 400
        }
       },
       "layer": [
        {
         "data": {
          "values": [
           {
            "ECDF": 1e-05,
            "mean cntl value": 0.6411307097067644
           },
           {
            "ECDF": 0.01001,
            "mean cntl value": 0.812901513761257
           },
           {
            "ECDF": 0.02001,
            "mean cntl value": 0.85284242751829
           },
           {
            "ECDF": 0.03001,
            "mean cntl value": 0.8801132805717471
           },
           {
            "ECDF": 0.04001,
            "mean cntl value": 0.9023851172583243
           },
           {
            "ECDF": 0.05001,
            "mean cntl value": 0.922200069371845
           },
           {
            "ECDF": 0.06001,
            "mean cntl value": 0.9380049461454684
           },
           {
            "ECDF": 0.07001,
            "mean cntl value": 0.9518213236649103
           },
           {
            "ECDF": 0.08001,
            "mean cntl value": 0.964940628537396
           },
           {
            "ECDF": 0.09001,
            "mean cntl value": 0.9772221891048407
           },
           {
            "ECDF": 0.10001,
            "mean cntl value": 0.9879605673878133
           },
           {
            "ECDF": 0.11001,
            "mean cntl value": 0.9982765520196788
           },
           {
            "ECDF": 0.12001,
            "mean cntl value": 1.0080195450011862
           },
           {
            "ECDF": 0.13001,
            "mean cntl value": 1.0183142571377994
           },
           {
            "ECDF": 0.14001,
            "mean cntl value": 1.028038902969172
           },
           {
            "ECDF": 0.15001,
            "mean cntl value": 1.037020908199294
           },
           {
            "ECDF": 0.16001,
            "mean cntl value": 1.0455423532501746
           },
           {
            "ECDF": 0.17001,
            "mean cntl value": 1.0544975497148692
           },
           {
            "ECDF": 0.18001,
            "mean cntl value": 1.0631270376668311
           },
           {
            "ECDF": 0.19001,
            "mean cntl value": 1.0699619860378085
           },
           {
            "ECDF": 0.20001,
            "mean cntl value": 1.078475366413072
           },
           {
            "ECDF": 0.21001,
            "mean cntl value": 1.0850413305756983
           },
           {
            "ECDF": 0.22001,
            "mean cntl value": 1.0931348318911094
           },
           {
            "ECDF": 0.23001,
            "mean cntl value": 1.100156649175561
           },
           {
            "ECDF": 0.24001,
            "mean cntl value": 1.1070383804536663
           },
           {
            "ECDF": 0.25001,
            "mean cntl value": 1.1146090738658
           },
           {
            "ECDF": 0.26001,
            "mean cntl value": 1.1207933698330623
           },
           {
            "ECDF": 0.27001,
            "mean cntl value": 1.1282514226004152
           },
           {
            "ECDF": 0.28001,
            "mean cntl value": 1.1338686612408009
           },
           {
            "ECDF": 0.29001,
            "mean cntl value": 1.1410497094605407
           },
           {
            "ECDF": 0.30001,
            "mean cntl value": 1.1467859063151562
           },
           {
            "ECDF": 0.31001,
            "mean cntl value": 1.154006741464164
           },
           {
            "ECDF": 0.32001,
            "mean cntl value": 1.1595522349627778
           },
           {
            "ECDF": 0.33001,
            "mean cntl value": 1.1663600942731198
           },
           {
            "ECDF": 0.34001,
            "mean cntl value": 1.1721032386852774
           },
           {
            "ECDF": 0.35001,
            "mean cntl value": 1.1789209607817024
           },
           {
            "ECDF": 0.36001,
            "mean cntl value": 1.1846032598102558
           },
           {
            "ECDF": 0.37001,
            "mean cntl value": 1.190685556513634
           },
           {
            "ECDF": 0.38001,
            "mean cntl value": 1.1967724027207711
           },
           {
            "ECDF": 0.39001,
            "mean cntl value": 1.202898315949221
           },
           {
            "ECDF": 0.40001,
            "mean cntl value": 1.2091661449862925
           },
           {
            "ECDF": 0.41001,
            "mean cntl value": 1.2147233284892835
           },
           {
            "ECDF": 0.42001,
            "mean cntl value": 1.2211465891810587
           },
           {
            "ECDF": 0.43001,
            "mean cntl value": 1.2267904237155964
           },
           {
            "ECDF": 0.44001,
            "mean cntl value": 1.233153821886598
           },
           {
            "ECDF": 0.45001,
            "mean cntl value": 1.238812388359087
           },
           {
            "ECDF": 0.46001,
            "mean cntl value": 1.2458835031419215
           },
           {
            "ECDF": 0.47001,
            "mean cntl value": 1.2512749455235546
           },
           {
            "ECDF": 0.48001,
            "mean cntl value": 1.2584205901741052
           },
           {
            "ECDF": 0.49001,
            "mean cntl value": 1.2636031962414542
           },
           {
            "ECDF": 0.50001,
            "mean cntl value": 1.2704515580196887
           },
           {
            "ECDF": 0.51001,
            "mean cntl value": 1.275884756808899
           },
           {
            "ECDF": 0.52001,
            "mean cntl value": 1.2827172121638537
           },
           {
            "ECDF": 0.53001,
            "mean cntl value": 1.2881824821768944
           },
           {
            "ECDF": 0.54001,
            "mean cntl value": 1.294755083230624
           },
           {
            "ECDF": 0.55001,
            "mean cntl value": 1.3003450845301088
           },
           {
            "ECDF": 0.56001,
            "mean cntl value": 1.3071229282611712
           },
           {
            "ECDF": 0.57001,
            "mean cntl value": 1.3129110561494126
           },
           {
            "ECDF": 0.58001,
            "mean cntl value": 1.3196419737711675
           },
           {
            "ECDF": 0.59001,
            "mean cntl value": 1.3255854928823163
           },
           {
            "ECDF": 0.60001,
            "mean cntl value": 1.3322676647090652
           },
           {
            "ECDF": 0.61001,
            "mean cntl value": 1.338726285954253
           },
           {
            "ECDF": 0.62001,
            "mean cntl value": 1.3456412218519502
           },
           {
            "ECDF": 0.63001,
            "mean cntl value": 1.3518206017470091
           },
           {
            "ECDF": 0.64001,
            "mean cntl value": 1.3594224101858239
           },
           {
            "ECDF": 0.65001,
            "mean cntl value": 1.3652373468394927
           },
           {
            "ECDF": 0.66001,
            "mean cntl value": 1.3728382956943173
           },
           {
            "ECDF": 0.67001,
            "mean cntl value": 1.3789116537866117
           },
           {
            "ECDF": 0.68001,
            "mean cntl value": 1.3868907252937117
           },
           {
            "ECDF": 0.69001,
            "mean cntl value": 1.3931534466360813
           },
           {
            "ECDF": 0.70001,
            "mean cntl value": 1.4007840953256618
           },
           {
            "ECDF": 0.71001,
            "mean cntl value": 1.4080300325657256
           },
           {
            "ECDF": 0.72001,
            "mean cntl value": 1.4157799067937429
           },
           {
            "ECDF": 0.73001,
            "mean cntl value": 1.4243299561365361
           },
           {
            "ECDF": 0.74001,
            "mean cntl value": 1.4312451279930865
           },
           {
            "ECDF": 0.75001,
            "mean cntl value": 1.4399984876475023
           },
           {
            "ECDF": 0.76001,
            "mean cntl value": 1.4482692956401668
           },
           {
            "ECDF": 0.77001,
            "mean cntl value": 1.4565917329430682
           },
           {
            "ECDF": 0.78001,
            "mean cntl value": 1.4660122750496156
           },
           {
            "ECDF": 0.79001,
            "mean cntl value": 1.4754909743231448
           },
           {
            "ECDF": 0.80001,
            "mean cntl value": 1.4845950214534458
           },
           {
            "ECDF": 0.81001,
            "mean cntl value": 1.4941056815234584
           },
           {
            "ECDF": 0.82001,
            "mean cntl value": 1.5045873145200088
           },
           {
            "ECDF": 0.83001,
            "mean cntl value": 1.5155510389110283
           },
           {
            "ECDF": 0.84001,
            "mean cntl value": 1.526618815626503
           },
           {
            "ECDF": 0.85001,
            "mean cntl value": 1.537302360140918
           },
           {
            "ECDF": 0.86001,
            "mean cntl value": 1.5492915069879154
           },
           {
            "ECDF": 0.87001,
            "mean cntl value": 1.5622972632113121
           },
           {
            "ECDF": 0.88001,
            "mean cntl value": 1.5756941243347877
           },
           {
            "ECDF": 0.89001,
            "mean cntl value": 1.5896441704311794
           },
           {
            "ECDF": 0.90001,
            "mean cntl value": 1.6049493112278217
           },
           {
            "ECDF": 0.91001,
            "mean cntl value": 1.6212275337279063
           },
           {
            "ECDF": 0.92001,
            "mean cntl value": 1.639169520885335
           },
           {
            "ECDF": 0.93001,
            "mean cntl value": 1.6579479338171097
           },
           {
            "ECDF": 0.94001,
            "mean cntl value": 1.6805774372289233
           },
           {
            "ECDF": 0.95001,
            "mean cntl value": 1.70670553409727
           },
           {
            "ECDF": 0.96001,
            "mean cntl value": 1.7354558759980427
           },
           {
            "ECDF": 0.97001,
            "mean cntl value": 1.774506059305363
           },
           {
            "ECDF": 0.98001,
            "mean cntl value": 1.825165275753863
           },
           {
            "ECDF": 0.99001,
            "mean cntl value": 1.9033701015422622
           }
          ]
         },
         "encoding": {
          "x": {
           "field": "mean cntl value",
           "scale": {
            "zero": false
           },
           "type": "quantitative"
          },
          "y": {
           "field": "ECDF",
           "type": "quantitative"
          }
         },
         "mark": {
          "color": "blue",
          "opacity": 0.6,
          "type": "point"
         }
        },
        {
         "data": {
          "values": [
           {
            "ECDF": 1e-05,
            "mean expt value": 0.4822994469016897
           },
           {
            "ECDF": 0.01001,
            "mean expt value": 0.6269460174191005
           },
           {
            "ECDF": 0.02001,
            "mean expt value": 0.6569173059983372
           },
           {
            "ECDF": 0.03001,
            "mean expt value": 0.677926784593515
           },
           {
            "ECDF": 0.04001,
            "mean expt value": 0.6929110785428155
           },
           {
            "ECDF": 0.05001,
            "mean expt value": 0.7064920061022553
           },
           {
            "ECDF": 0.06001,
            "mean expt value": 0.7186627092088547
           },
           {
            "ECDF": 0.07001,
            "mean expt value": 0.7295229611680639
           },
           {
            "ECDF": 0.08001,
            "mean expt value": 0.7395690654854903
           },
           {
            "ECDF": 0.09001,
            "mean expt value": 0.7492619348598638
           },
           {
            "ECDF": 0.10001,
            "mean expt value": 0.7576682948754307
           },
           {
            "ECDF": 0.11001,
            "mean expt value": 0.7659351483127586
           },
           {
            "ECDF": 0.12001,
            "mean expt value": 0.7737580295704907
           },
           {
            "ECDF": 0.13001,
            "mean expt value": 0.7812267513532009
           },
           {
            "ECDF": 0.14001,
            "mean expt value": 0.7884016489553125
           },
           {
            "ECDF": 0.15001,
            "mean expt value": 0.795291984730766
           },
           {
            "ECDF": 0.16001,
            "mean expt value": 0.8018810178935677
           },
           {
            "ECDF": 0.17001,
            "mean expt value": 0.8083948775392711
           },
           {
            "ECDF": 0.18001,
            "mean expt value": 0.8148173004393373
           },
           {
            "ECDF": 0.19001,
            "mean expt value": 0.8207458267226782
           },
           {
            "ECDF": 0.20001,
            "mean expt value": 0.8263040338614017
           },
           {
            "ECDF": 0.21001,
            "mean expt value": 0.8322325601447428
           },
           {
            "ECDF": 0.22001,
            "mean expt value": 0.838412751913687
           },
           {
            "ECDF": 0.23001,
            "mean expt value": 0.8436072791603744
           },
           {
            "ECDF": 0.24001,
            "mean expt value": 0.8491099179198274
           },
           {
            "ECDF": 0.25001,
            "mean expt value": 0.854450484989553
           },
           {
            "ECDF": 0.26001,
            "mean expt value": 0.8595112395877402
           },
           {
            "ECDF": 0.27001,
            "mean expt value": 0.8646071425639065
           },
           {
            "ECDF": 0.28001,
            "mean expt value": 0.869512019511788
           },
           {
            "ECDF": 0.29001,
            "mean expt value": 0.8748579222804704
           },
           {
            "ECDF": 0.30001,
            "mean expt value": 0.8797577876956233
           },
           {
            "ECDF": 0.31001,
            "mean expt value": 0.8844781863549713
           },
           {
            "ECDF": 0.32001,
            "mean expt value": 0.8895145007945635
           },
           {
            "ECDF": 0.33001,
            "mean expt value": 0.8945799991189316
           },
           {
            "ECDF": 0.34001,
            "mean expt value": 0.8995653488381705
           },
           {
            "ECDF": 0.35001,
            "mean expt value": 0.9043414614846412
           },
           {
            "ECDF": 0.36001,
            "mean expt value": 0.9093788812933671
           },
           {
            "ECDF": 0.37001,
            "mean expt value": 0.914037258453703
           },
           {
            "ECDF": 0.38001,
            "mean expt value": 0.9188289087997358
           },
           {
            "ECDF": 0.39001,
            "mean expt value": 0.9234930070397736
           },
           {
            "ECDF": 0.40001,
            "mean expt value": 0.9283046062523557
           },
           {
            "ECDF": 0.41001,
            "mean expt value": 0.9329466608515385
           },
           {
            "ECDF": 0.42001,
            "mean expt value": 0.9377287203989724
           },
           {
            "ECDF": 0.43001,
            "mean expt value": 0.9423498907633718
           },
           {
            "ECDF": 0.44001,
            "mean expt value": 0.9471260034098427
           },
           {
            "ECDF": 0.45001,
            "mean expt value": 0.9521017623304825
           },
           {
            "ECDF": 0.46001,
            "mean expt value": 0.9569324660027029
           },
           {
            "ECDF": 0.47001,
            "mean expt value": 0.96180604472901
           },
           {
            "ECDF": 0.48001,
            "mean expt value": 0.9665917305818399
           },
           {
            "ECDF": 0.49001,
            "mean expt value": 0.971231281837
           },
           {
            "ECDF": 0.50001,
            "mean expt value": 0.97617908666052
           },
           {
            "ECDF": 0.51001,
            "mean expt value": 0.981002247027484
           },
           {
            "ECDF": 0.52001,
            "mean expt value": 0.9859148790799788
           },
           {
            "ECDF": 0.53001,
            "mean expt value": 0.9905885505263756
           },
           {
            "ECDF": 0.54001,
            "mean expt value": 0.9955142589196961
           },
           {
            "ECDF": 0.55001,
            "mean expt value": 1.0004983788512791
           },
           {
            "ECDF": 0.56001,
            "mean expt value": 1.0053025524211523
           },
           {
            "ECDF": 0.57001,
            "mean expt value": 1.01061271483908
           },
           {
            "ECDF": 0.58001,
            "mean expt value": 1.0152842387218268
           },
           {
            "ECDF": 0.59001,
            "mean expt value": 1.02050382408509
           },
           {
            "ECDF": 0.60001,
            "mean expt value": 1.0255263806002657
           },
           {
            "ECDF": 0.61001,
            "mean expt value": 1.0306500258741949
           },
           {
            "ECDF": 0.62001,
            "mean expt value": 1.0358093695135921
           },
           {
            "ECDF": 0.63001,
            "mean expt value": 1.0408666101732547
           },
           {
            "ECDF": 0.64001,
            "mean expt value": 1.0465393731339685
           },
           {
            "ECDF": 0.65001,
            "mean expt value": 1.0520758363469347
           },
           {
            "ECDF": 0.66001,
            "mean expt value": 1.0575252104585566
           },
           {
            "ECDF": 0.67001,
            "mean expt value": 1.0628657775282822
           },
           {
            "ECDF": 0.68001,
            "mean expt value": 1.068531258827303
           },
           {
            "ECDF": 0.69001,
            "mean expt value": 1.0742901228346975
           },
           {
            "ECDF": 0.70001,
            "mean expt value": 1.0805374464454718
           },
           {
            "ECDF": 0.71001,
            "mean expt value": 1.0861750610282068
           },
           {
            "ECDF": 0.72001,
            "mean expt value": 1.0919564421193764
           },
           {
            "ECDF": 0.73001,
            "mean expt value": 1.0981792011530334
           },
           {
            "ECDF": 0.74001,
            "mean expt value": 1.1042838812167468
           },
           {
            "ECDF": 0.75001,
            "mean expt value": 1.1106931993796887
           },
           {
            "ECDF": 0.76001,
            "mean expt value": 1.1172672587639716
           },
           {
            "ECDF": 0.77001,
            "mean expt value": 1.124308045529451
           },
           {
            "ECDF": 0.78001,
            "mean expt value": 1.13101515236652
           },
           {
            "ECDF": 0.79001,
            "mean expt value": 1.137978948685022
           },
           {
            "ECDF": 0.80001,
            "mean expt value": 1.1445658870735185
           },
           {
            "ECDF": 0.81001,
            "mean expt value": 1.1527767254903243
           },
           {
            "ECDF": 0.82001,
            "mean expt value": 1.161260288924092
           },
           {
            "ECDF": 0.83001,
            "mean expt value": 1.1686268184608184
           },
           {
            "ECDF": 0.84001,
            "mean expt value": 1.1778992961232178
           },
           {
            "ECDF": 0.85001,
            "mean expt value": 1.1871057649051602
           },
           {
            "ECDF": 0.86001,
            "mean expt value": 1.1962172830029405
           },
           {
            "ECDF": 0.87001,
            "mean expt value": 1.206340021986971
           },
           {
            "ECDF": 0.88001,
            "mean expt value": 1.2177382038076767
           },
           {
            "ECDF": 0.89001,
            "mean expt value": 1.2291447466393257
           },
           {
            "ECDF": 0.90001,
            "mean expt value": 1.24140867469188
           },
           {
            "ECDF": 0.91001,
            "mean expt value": 1.2549242610208997
           },
           {
            "ECDF": 0.92001,
            "mean expt value": 1.268333603229573
           },
           {
            "ECDF": 0.93001,
            "mean expt value": 1.2847170643879327
           },
           {
            "ECDF": 0.94001,
            "mean expt value": 1.3019240819341245
           },
           {
            "ECDF": 0.95001,
            "mean expt value": 1.323206303138504
           },
           {
            "ECDF": 0.96001,
            "mean expt value": 1.3461713669864035
           },
           {
            "ECDF": 0.97001,
            "mean expt value": 1.3764568371825052
           },
           {
            "ECDF": 0.98001,
            "mean expt value": 1.416082951870385
           },
           {
            "ECDF": 0.99001,
            "mean expt value": 1.4814275963396677
           }
          ]
         },
         "encoding": {
          "x": {
           "field": "mean expt value",
           "scale": {
            "zero": false
           },
           "type": "quantitative"
          },
          "y": {
           "field": "ECDF",
           "type": "quantitative"
          }
         },
         "mark": {
          "color": "orange",
          "opacity": 0.6,
          "type": "point"
         }
        }
       ]
      },
      "image/png": "[encoded data removed]",
      "text/plain": [
       "<VegaLite 2 object>\n",
       "\n",
       "If you see this message, it means the renderer has not been properly enabled\n",
       "for the frontend that you are using. For more information, see\n",
       "https://altair-viz.github.io/user_guide/troubleshooting.html\n"
      ]
     },
     "execution_count": 100,
     "metadata": {},
     "output_type": "execute_result"
    }
   ],
   "source": [
    "# Make the plot\n",
    "control = alt.Chart(df_ecdf_cntl\n",
    "                   ).mark_point(\n",
    "                    color='blue',\n",
    "                    opacity=0.6\n",
    "                   ).encode(\n",
    "                        x=alt.X('mean cntl value:Q', \n",
    "                                scale=alt.Scale(zero=False)),\n",
    "                        y='ECDF:Q'\n",
    "                    )\n",
    "\n",
    "experiment = alt.Chart(df_ecdf_expt\n",
    "                   ).mark_point(\n",
    "                    color='orange',\n",
    "                    opacity=0.6\n",
    "                   ).encode(\n",
    "                        x=alt.X('mean expt value:Q', \n",
    "                                scale=alt.Scale(zero=False)),\n",
    "                        y='ECDF:Q'\n",
    "                    )\n",
    "\n",
    "control + experiment"
   ]
  },
  {
   "cell_type": "code",
   "execution_count": 90,
   "metadata": {},
   "outputs": [
    {
     "data": {
      "text/plain": [
       "\u001b[0;31mSignature:\u001b[0m \u001b[0malt\u001b[0m\u001b[0;34m.\u001b[0m\u001b[0mChart\u001b[0m\u001b[0;34m.\u001b[0m\u001b[0mconfigure\u001b[0m\u001b[0;34m(\u001b[0m\u001b[0mself\u001b[0m\u001b[0;34m,\u001b[0m \u001b[0marea\u001b[0m\u001b[0;34m=\u001b[0m\u001b[0mUndefined\u001b[0m\u001b[0;34m,\u001b[0m \u001b[0mautosize\u001b[0m\u001b[0;34m=\u001b[0m\u001b[0mUndefined\u001b[0m\u001b[0;34m,\u001b[0m \u001b[0maxis\u001b[0m\u001b[0;34m=\u001b[0m\u001b[0mUndefined\u001b[0m\u001b[0;34m,\u001b[0m \u001b[0maxisBand\u001b[0m\u001b[0;34m=\u001b[0m\u001b[0mUndefined\u001b[0m\u001b[0;34m,\u001b[0m \u001b[0maxisBottom\u001b[0m\u001b[0;34m=\u001b[0m\u001b[0mUndefined\u001b[0m\u001b[0;34m,\u001b[0m \u001b[0maxisLeft\u001b[0m\u001b[0;34m=\u001b[0m\u001b[0mUndefined\u001b[0m\u001b[0;34m,\u001b[0m \u001b[0maxisRight\u001b[0m\u001b[0;34m=\u001b[0m\u001b[0mUndefined\u001b[0m\u001b[0;34m,\u001b[0m \u001b[0maxisTop\u001b[0m\u001b[0;34m=\u001b[0m\u001b[0mUndefined\u001b[0m\u001b[0;34m,\u001b[0m \u001b[0maxisX\u001b[0m\u001b[0;34m=\u001b[0m\u001b[0mUndefined\u001b[0m\u001b[0;34m,\u001b[0m \u001b[0maxisY\u001b[0m\u001b[0;34m=\u001b[0m\u001b[0mUndefined\u001b[0m\u001b[0;34m,\u001b[0m \u001b[0mbackground\u001b[0m\u001b[0;34m=\u001b[0m\u001b[0mUndefined\u001b[0m\u001b[0;34m,\u001b[0m \u001b[0mbar\u001b[0m\u001b[0;34m=\u001b[0m\u001b[0mUndefined\u001b[0m\u001b[0;34m,\u001b[0m \u001b[0mcircle\u001b[0m\u001b[0;34m=\u001b[0m\u001b[0mUndefined\u001b[0m\u001b[0;34m,\u001b[0m \u001b[0mcountTitle\u001b[0m\u001b[0;34m=\u001b[0m\u001b[0mUndefined\u001b[0m\u001b[0;34m,\u001b[0m \u001b[0mdatasets\u001b[0m\u001b[0;34m=\u001b[0m\u001b[0mUndefined\u001b[0m\u001b[0;34m,\u001b[0m \u001b[0mfieldTitle\u001b[0m\u001b[0;34m=\u001b[0m\u001b[0mUndefined\u001b[0m\u001b[0;34m,\u001b[0m \u001b[0mgeoshape\u001b[0m\u001b[0;34m=\u001b[0m\u001b[0mUndefined\u001b[0m\u001b[0;34m,\u001b[0m \u001b[0minvalidValues\u001b[0m\u001b[0;34m=\u001b[0m\u001b[0mUndefined\u001b[0m\u001b[0;34m,\u001b[0m \u001b[0mlegend\u001b[0m\u001b[0;34m=\u001b[0m\u001b[0mUndefined\u001b[0m\u001b[0;34m,\u001b[0m \u001b[0mline\u001b[0m\u001b[0;34m=\u001b[0m\u001b[0mUndefined\u001b[0m\u001b[0;34m,\u001b[0m \u001b[0mmark\u001b[0m\u001b[0;34m=\u001b[0m\u001b[0mUndefined\u001b[0m\u001b[0;34m,\u001b[0m \u001b[0mnumberFormat\u001b[0m\u001b[0;34m=\u001b[0m\u001b[0mUndefined\u001b[0m\u001b[0;34m,\u001b[0m \u001b[0mpadding\u001b[0m\u001b[0;34m=\u001b[0m\u001b[0mUndefined\u001b[0m\u001b[0;34m,\u001b[0m \u001b[0mpoint\u001b[0m\u001b[0;34m=\u001b[0m\u001b[0mUndefined\u001b[0m\u001b[0;34m,\u001b[0m \u001b[0mprojection\u001b[0m\u001b[0;34m=\u001b[0m\u001b[0mUndefined\u001b[0m\u001b[0;34m,\u001b[0m \u001b[0mrange\u001b[0m\u001b[0;34m=\u001b[0m\u001b[0mUndefined\u001b[0m\u001b[0;34m,\u001b[0m \u001b[0mrect\u001b[0m\u001b[0;34m=\u001b[0m\u001b[0mUndefined\u001b[0m\u001b[0;34m,\u001b[0m \u001b[0mrule\u001b[0m\u001b[0;34m=\u001b[0m\u001b[0mUndefined\u001b[0m\u001b[0;34m,\u001b[0m \u001b[0mscale\u001b[0m\u001b[0;34m=\u001b[0m\u001b[0mUndefined\u001b[0m\u001b[0;34m,\u001b[0m \u001b[0mselection\u001b[0m\u001b[0;34m=\u001b[0m\u001b[0mUndefined\u001b[0m\u001b[0;34m,\u001b[0m \u001b[0msquare\u001b[0m\u001b[0;34m=\u001b[0m\u001b[0mUndefined\u001b[0m\u001b[0;34m,\u001b[0m \u001b[0mstack\u001b[0m\u001b[0;34m=\u001b[0m\u001b[0mUndefined\u001b[0m\u001b[0;34m,\u001b[0m \u001b[0mstyle\u001b[0m\u001b[0;34m=\u001b[0m\u001b[0mUndefined\u001b[0m\u001b[0;34m,\u001b[0m \u001b[0mtext\u001b[0m\u001b[0;34m=\u001b[0m\u001b[0mUndefined\u001b[0m\u001b[0;34m,\u001b[0m \u001b[0mtick\u001b[0m\u001b[0;34m=\u001b[0m\u001b[0mUndefined\u001b[0m\u001b[0;34m,\u001b[0m \u001b[0mtimeFormat\u001b[0m\u001b[0;34m=\u001b[0m\u001b[0mUndefined\u001b[0m\u001b[0;34m,\u001b[0m \u001b[0mtitle\u001b[0m\u001b[0;34m=\u001b[0m\u001b[0mUndefined\u001b[0m\u001b[0;34m,\u001b[0m \u001b[0mtrail\u001b[0m\u001b[0;34m=\u001b[0m\u001b[0mUndefined\u001b[0m\u001b[0;34m,\u001b[0m \u001b[0mview\u001b[0m\u001b[0;34m=\u001b[0m\u001b[0mUndefined\u001b[0m\u001b[0;34m,\u001b[0m \u001b[0;34m**\u001b[0m\u001b[0mkwds\u001b[0m\u001b[0;34m)\u001b[0m\u001b[0;34m\u001b[0m\u001b[0m\n",
       "\u001b[0;31mDocstring:\u001b[0m\n",
       "Config schema wrapper\n",
       "\n",
       "Mapping(required=[])\n",
       "\n",
       "Attributes\n",
       "----------\n",
       "area : AreaConfig\n",
       "    Area-Specific Config\n",
       "autosize : anyOf(AutosizeType, AutoSizeParams)\n",
       "    Sets how the visualization size should be determined. If a string, should be one of\n",
       "    ``\"pad\"``, ``\"fit\"`` or ``\"none\"``. Object values can additionally specify\n",
       "    parameters for content sizing and automatic resizing. ``\"fit\"`` is only supported\n",
       "    for single and layered views that don't use ``rangeStep``.  **Default value** :\n",
       "    ``pad``\n",
       "axis : AxisConfig\n",
       "    Axis configuration, which determines default properties for all ``x`` and ``y``\n",
       "    `axes <axis.html>`_. For a full list of axis configuration options, please see the\n",
       "    `corresponding section of the axis documentation <axis.html#config>`_.\n",
       "axisBand : VgAxisConfig\n",
       "    Specific axis config for axes with \"band\" scales.\n",
       "axisBottom : VgAxisConfig\n",
       "    Specific axis config for x-axis along the bottom edge of the chart.\n",
       "axisLeft : VgAxisConfig\n",
       "    Specific axis config for y-axis along the left edge of the chart.\n",
       "axisRight : VgAxisConfig\n",
       "    Specific axis config for y-axis along the right edge of the chart.\n",
       "axisTop : VgAxisConfig\n",
       "    Specific axis config for x-axis along the top edge of the chart.\n",
       "axisX : VgAxisConfig\n",
       "    X-axis specific config.\n",
       "axisY : VgAxisConfig\n",
       "    Y-axis specific config.\n",
       "background : string\n",
       "    CSS color property to use as the background of visualization.  **Default value:**\n",
       "    none (transparent)\n",
       "bar : BarConfig\n",
       "    Bar-Specific Config\n",
       "circle : MarkConfig\n",
       "    Circle-Specific Config\n",
       "countTitle : string\n",
       "    Default axis and legend title for count fields.  **Default value:** ``'Number of\n",
       "    Records'``.\n",
       "datasets : Datasets\n",
       "    A global data store for named datasets. This is a mapping from names to inline\n",
       "    datasets. This can be an array of objects or primitive values or a string. Arrays of\n",
       "     primitive values are ingested as objects with a ``data`` property.\n",
       "fieldTitle : enum('verbal', 'functional', 'plain')\n",
       "    Defines how Vega-Lite generates title for fields.  There are three possible styles:\n",
       "       * ``\"verbal\"`` (Default) - displays function in a verbal style (e.g., \"Sum of\n",
       "    field\", \"Year-month of date\", \"field (binned)\"). * ``\"function\"`` - displays\n",
       "    function using parentheses and capitalized texts (e.g., \"SUM(field)\",\n",
       "    \"YEARMONTH(date)\", \"BIN(field)\"). * ``\"plain\"`` - displays only the field name\n",
       "    without functions (e.g., \"field\", \"date\", \"field\").\n",
       "geoshape : MarkConfig\n",
       "    Geoshape-Specific Config\n",
       "invalidValues : enum('filter', None)\n",
       "    Defines how Vega-Lite should handle invalid values ( ``null`` and ``NaN`` ).   * If\n",
       "    set to ``\"filter\"`` (default), all data items with null values will be skipped (for\n",
       "    line, trail, and area marks) or filtered (for other marks). * If ``null``, all data\n",
       "    items are included. In this case, invalid values will be interpreted as zeroes.\n",
       "legend : LegendConfig\n",
       "    Legend configuration, which determines default properties for all `legends\n",
       "    <legend.html>`_. For a full list of legend configuration options, please see the\n",
       "    `corresponding section of in the legend documentation <legend.html#config>`_.\n",
       "line : LineConfig\n",
       "    Line-Specific Config\n",
       "mark : MarkConfig\n",
       "    Mark Config\n",
       "numberFormat : string\n",
       "    D3 Number format for axis labels and text tables. For example \"s\" for SI units. Use\n",
       "    `D3's number format pattern <https://github.com/d3/d3-format#locale_format>`_.\n",
       "padding : Padding\n",
       "    The default visualization padding, in pixels, from the edge of the visualization\n",
       "    canvas to the data rectangle.  If a number, specifies padding for all sides. If an\n",
       "    object, the value should have the format ``{\"left\": 5, \"top\": 5, \"right\": 5,\n",
       "    \"bottom\": 5}`` to specify padding for each side of the visualization.  **Default\n",
       "    value** : ``5``\n",
       "point : MarkConfig\n",
       "    Point-Specific Config\n",
       "projection : ProjectionConfig\n",
       "    Projection configuration, which determines default properties for all `projections\n",
       "    <projection.html>`_. For a full list of projection configuration options, please see\n",
       "     the `corresponding section of the projection documentation\n",
       "    <projection.html#config>`_.\n",
       "range : RangeConfig\n",
       "    An object hash that defines default range arrays or schemes for using with scales.\n",
       "    For a full list of scale range configuration options, please see the `corresponding\n",
       "    section of the scale documentation <scale.html#config>`_.\n",
       "rect : MarkConfig\n",
       "    Rect-Specific Config\n",
       "rule : MarkConfig\n",
       "    Rule-Specific Config\n",
       "scale : ScaleConfig\n",
       "    Scale configuration determines default properties for all `scales <scale.html>`_.\n",
       "    For a full list of scale configuration options, please see the `corresponding\n",
       "    section of the scale documentation <scale.html#config>`_.\n",
       "selection : SelectionConfig\n",
       "    An object hash for defining default properties for each type of selections.\n",
       "square : MarkConfig\n",
       "    Square-Specific Config\n",
       "stack : StackOffset\n",
       "    Default stack offset for stackable mark.\n",
       "style : StyleConfigIndex\n",
       "    An object hash that defines key-value mappings to determine default properties for\n",
       "    marks with a given `style <mark.html#mark-def>`_.  The keys represent styles names;\n",
       "    the values have to be valid `mark configuration objects <mark.html#config>`_.\n",
       "text : TextConfig\n",
       "    Text-Specific Config\n",
       "tick : TickConfig\n",
       "    Tick-Specific Config\n",
       "timeFormat : string\n",
       "    Default datetime format for axis and legend labels. The format can be set directly\n",
       "    on each axis and legend. Use `D3's time format pattern\n",
       "    <https://github.com/d3/d3-time-format#locale_format>`_.  **Default value:** ``'%b\n",
       "    %d, %Y'``.\n",
       "title : VgTitleConfig\n",
       "    Title configuration, which determines default properties for all `titles\n",
       "    <title.html>`_. For a full list of title configuration options, please see the\n",
       "    `corresponding section of the title documentation <title.html#config>`_.\n",
       "trail : LineConfig\n",
       "    Trail-Specific Config\n",
       "view : ViewConfig\n",
       "    Default properties for `single view plots <spec.html#single>`_.\n",
       "\u001b[0;31mFile:\u001b[0m      /anaconda3/lib/python3.6/site-packages/altair/vegalite/v2/schema/core.py\n",
       "\u001b[0;31mType:\u001b[0m      function\n"
      ]
     },
     "metadata": {},
     "output_type": "display_data"
    }
   ],
   "source": []
  },
  {
   "cell_type": "code",
   "execution_count": null,
   "metadata": {},
   "outputs": [],
   "source": []
  }
 ],
 "metadata": {
  "kernelspec": {
   "display_name": "Python 3",
   "language": "python",
   "name": "python3"
  },
  "language_info": {
   "codemirror_mode": {
    "name": "ipython",
    "version": 3
   },
   "file_extension": ".py",
   "mimetype": "text/x-python",
   "name": "python",
   "nbconvert_exporter": "python",
   "pygments_lexer": "ipython3",
   "version": "3.6.5"
  }
 },
 "nbformat": 4,
 "nbformat_minor": 2
}
