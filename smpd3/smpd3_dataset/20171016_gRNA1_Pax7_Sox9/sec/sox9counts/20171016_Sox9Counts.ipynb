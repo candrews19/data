{
 "cells": [
  {
   "cell_type": "code",
   "execution_count": 1,
   "metadata": {},
   "outputs": [],
   "source": [
    "import os\n",
    "import glob\n",
    "import pandas as pd"
   ]
  },
  {
   "cell_type": "code",
   "execution_count": 2,
   "metadata": {},
   "outputs": [
    {
     "data": {
      "text/plain": [
       "'/Users/michaelpiacentino/Drive/git/data/smpd3/smpd3_dataset/20171016_gRNA1_Pax7_Sox9/sec/sox9counts'"
      ]
     },
     "execution_count": 2,
     "metadata": {},
     "output_type": "execute_result"
    }
   ],
   "source": [
    "pwd"
   ]
  },
  {
   "cell_type": "code",
   "execution_count": 3,
   "metadata": {},
   "outputs": [
    {
     "data": {
      "text/html": [
       "<div>\n",
       "<style scoped>\n",
       "    .dataframe tbody tr th:only-of-type {\n",
       "        vertical-align: middle;\n",
       "    }\n",
       "\n",
       "    .dataframe tbody tr th {\n",
       "        vertical-align: top;\n",
       "    }\n",
       "\n",
       "    .dataframe thead th {\n",
       "        text-align: right;\n",
       "    }\n",
       "</style>\n",
       "<table border=\"1\" class=\"dataframe\">\n",
       "  <thead>\n",
       "    <tr style=\"text-align: right;\">\n",
       "      <th></th>\n",
       "      <th>Slice</th>\n",
       "      <th>Count</th>\n",
       "      <th>Total Area</th>\n",
       "      <th>Average Size</th>\n",
       "      <th>%Area</th>\n",
       "      <th>Mean</th>\n",
       "      <th>IntDen</th>\n",
       "      <th>Date</th>\n",
       "      <th>Image</th>\n",
       "      <th>Embryo</th>\n",
       "      <th>Somites</th>\n",
       "      <th>Section</th>\n",
       "    </tr>\n",
       "  </thead>\n",
       "  <tbody>\n",
       "    <tr>\n",
       "      <th>0</th>\n",
       "      <td>CntlSide</td>\n",
       "      <td>14</td>\n",
       "      <td>408.213</td>\n",
       "      <td>29.158</td>\n",
       "      <td>3.327</td>\n",
       "      <td>255.0</td>\n",
       "      <td>7435.305</td>\n",
       "      <td>20171016</td>\n",
       "      <td>Emb7_8ss_sec6</td>\n",
       "      <td>Emb7</td>\n",
       "      <td>8ss</td>\n",
       "      <td>sec6</td>\n",
       "    </tr>\n",
       "    <tr>\n",
       "      <th>1</th>\n",
       "      <td>ExptSide</td>\n",
       "      <td>10</td>\n",
       "      <td>379.923</td>\n",
       "      <td>37.992</td>\n",
       "      <td>3.045</td>\n",
       "      <td>255.0</td>\n",
       "      <td>9688.046</td>\n",
       "      <td>20171016</td>\n",
       "      <td>Emb7_8ss_sec6</td>\n",
       "      <td>Emb7</td>\n",
       "      <td>8ss</td>\n",
       "      <td>sec6</td>\n",
       "    </tr>\n",
       "    <tr>\n",
       "      <th>0</th>\n",
       "      <td>CntlSide</td>\n",
       "      <td>0</td>\n",
       "      <td>0.000</td>\n",
       "      <td>NaN</td>\n",
       "      <td>0.000</td>\n",
       "      <td>NaN</td>\n",
       "      <td>NaN</td>\n",
       "      <td>20171016</td>\n",
       "      <td>Emb9_9ss_sec4</td>\n",
       "      <td>Emb9</td>\n",
       "      <td>9ss</td>\n",
       "      <td>sec4</td>\n",
       "    </tr>\n",
       "    <tr>\n",
       "      <th>1</th>\n",
       "      <td>ExptSide</td>\n",
       "      <td>6</td>\n",
       "      <td>229.356</td>\n",
       "      <td>38.226</td>\n",
       "      <td>3.743</td>\n",
       "      <td>255.0</td>\n",
       "      <td>9747.614</td>\n",
       "      <td>20171016</td>\n",
       "      <td>Emb9_9ss_sec4</td>\n",
       "      <td>Emb9</td>\n",
       "      <td>9ss</td>\n",
       "      <td>sec4</td>\n",
       "    </tr>\n",
       "    <tr>\n",
       "      <th>0</th>\n",
       "      <td>CntlSide</td>\n",
       "      <td>28</td>\n",
       "      <td>1117.407</td>\n",
       "      <td>39.907</td>\n",
       "      <td>5.579</td>\n",
       "      <td>255.0</td>\n",
       "      <td>10176.381</td>\n",
       "      <td>20171016</td>\n",
       "      <td>Emb7_8ss_sec5</td>\n",
       "      <td>Emb7</td>\n",
       "      <td>8ss</td>\n",
       "      <td>sec5</td>\n",
       "    </tr>\n",
       "  </tbody>\n",
       "</table>\n",
       "</div>"
      ],
      "text/plain": [
       "      Slice  Count  Total Area  Average Size  %Area   Mean     IntDen  \\\n",
       "0  CntlSide     14     408.213        29.158  3.327  255.0   7435.305   \n",
       "1  ExptSide     10     379.923        37.992  3.045  255.0   9688.046   \n",
       "0  CntlSide      0       0.000           NaN  0.000    NaN        NaN   \n",
       "1  ExptSide      6     229.356        38.226  3.743  255.0   9747.614   \n",
       "0  CntlSide     28    1117.407        39.907  5.579  255.0  10176.381   \n",
       "\n",
       "       Date          Image Embryo Somites Section  \n",
       "0  20171016  Emb7_8ss_sec6   Emb7     8ss    sec6  \n",
       "1  20171016  Emb7_8ss_sec6   Emb7     8ss    sec6  \n",
       "0  20171016  Emb9_9ss_sec4   Emb9     9ss    sec4  \n",
       "1  20171016  Emb9_9ss_sec4   Emb9     9ss    sec4  \n",
       "0  20171016  Emb7_8ss_sec5   Emb7     8ss    sec5  "
      ]
     },
     "execution_count": 3,
     "metadata": {},
     "output_type": "execute_result"
    }
   ],
   "source": [
    "# Add experiment date here to apply to dataframe\n",
    "expt_date = '20171016'\n",
    "treatment = 'SMPD3gRNA1'\n",
    "result_type = 'Sox9Counts'\n",
    "\n",
    "path = os.path.abspath('')+'/sox9csv/'\n",
    "full_df = pd.DataFrame()\n",
    "list_ = []\n",
    "\n",
    "# For loop to bring in files and concatenate them into a single dataframe\n",
    "for file_ in glob.glob(path + \"/*.csv\"):\n",
    "    df = pd.read_csv(file_)\n",
    "    # Determine Image name from file name\n",
    "    df['Date'] = expt_date\n",
    "    df['Image'] = os.path.splitext(os.path.basename(file_))[0]\n",
    "    # Parse Image name\n",
    "    df['Embryo'], df['Somites'], df['Section'] = zip(*df['Image'].map(lambda x: x.split('_')))\n",
    "\n",
    "    list_.append(df)\n",
    "\n",
    "full_df = pd.concat(list_)\n",
    "full_df.head()"
   ]
  },
  {
   "cell_type": "code",
   "execution_count": 4,
   "metadata": {},
   "outputs": [],
   "source": [
    "# Mean counts across sections\n",
    "mean_sections = pd.DataFrame((full_df.groupby(['Embryo', 'Slice'])['Count']).mean())\n",
    "mean_sections\n",
    "# Extract means for Cntl and Expt counts\n",
    "sox9_cntl = mean_sections.xs('CntlSide', level='Slice')['Count'] \n",
    "sox9_expt = mean_sections.xs('ExptSide', level='Slice')['Count']\n",
    "\n",
    "# Generate ratios as Expt/Cntl\n",
    "sox9_ratios = pd.DataFrame(sox9_expt / sox9_cntl)\n",
    "sox9_ratios.columns = ['Expt/Cntl Sox9']"
   ]
  },
  {
   "cell_type": "code",
   "execution_count": 5,
   "metadata": {},
   "outputs": [],
   "source": [
    "# Combine processed values into single dataframe and output as csv file\n",
    "sox9_cntl = pd.DataFrame(sox9_cntl)\n",
    "sox9_cntl.columns = ['Cntl Sox9']\n",
    "sox9_expt = pd.DataFrame(sox9_expt)\n",
    "sox9_expt.columns = ['Expt Sox9']\n",
    "\n",
    "results = pd.concat([sox9_cntl, sox9_expt, sox9_ratios], axis=1, sort=True)\n",
    "results['ID'] = expt_date + '_' + results.index\n",
    "results.to_csv(expt_date + '_' + treatment + '_' + result_type + '_results.csv')"
   ]
  },
  {
   "cell_type": "code",
   "execution_count": 6,
   "metadata": {},
   "outputs": [],
   "source": [
    "# Normalize all values to mean of control group\n",
    "mean_embs = pd.DataFrame((full_df.groupby(['Embryo', 'Slice'])['Count']).mean())\n",
    "mean_cntl = pd.DataFrame((mean_embs.groupby(['Slice'])).mean())\n",
    "norm_values = (mean_embs / mean_cntl.iloc[0]).reset_index()\n",
    "norm_values_pivot = norm_values.pivot(index='Embryo', columns='Slice', values='Count')\n",
    "norm_values_pivot['ID'] = expt_date + '_' + norm_values_pivot.index\n",
    "norm_values_pivot.to_csv(expt_date + '_' + treatment + '_' + result_type + '_norm_values.csv')\n"
   ]
  }
 ],
 "metadata": {
  "kernelspec": {
   "display_name": "Python 3",
   "language": "python",
   "name": "python3"
  },
  "language_info": {
   "codemirror_mode": {
    "name": "ipython",
    "version": 3
   },
   "file_extension": ".py",
   "mimetype": "text/x-python",
   "name": "python",
   "nbconvert_exporter": "python",
   "pygments_lexer": "ipython3",
   "version": "3.6.5"
  }
 },
 "nbformat": 4,
 "nbformat_minor": 2
}
