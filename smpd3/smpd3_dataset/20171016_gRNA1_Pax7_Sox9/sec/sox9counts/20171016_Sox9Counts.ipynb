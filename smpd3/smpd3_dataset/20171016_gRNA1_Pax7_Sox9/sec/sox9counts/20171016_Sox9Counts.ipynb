{
 "cells": [
  {
   "cell_type": "code",
   "execution_count": 7,
   "metadata": {},
   "outputs": [],
   "source": [
    "import os\n",
    "import glob\n",
    "import pandas as pd"
   ]
  },
  {
   "cell_type": "code",
   "execution_count": 8,
   "metadata": {},
   "outputs": [
    {
     "data": {
      "text/plain": [
       "'/Users/michaelpiacentino/Drive/git/data/smpd3/smpd3_dataset/20171016_gRNA1_Pax7_Sox9/sec/sox9counts'"
      ]
     },
     "execution_count": 8,
     "metadata": {},
     "output_type": "execute_result"
    }
   ],
   "source": [
    "pwd"
   ]
  },
  {
   "cell_type": "code",
   "execution_count": 9,
   "metadata": {},
   "outputs": [
    {
     "data": {
      "text/html": [
       "<div>\n",
       "<style scoped>\n",
       "    .dataframe tbody tr th:only-of-type {\n",
       "        vertical-align: middle;\n",
       "    }\n",
       "\n",
       "    .dataframe tbody tr th {\n",
       "        vertical-align: top;\n",
       "    }\n",
       "\n",
       "    .dataframe thead th {\n",
       "        text-align: right;\n",
       "    }\n",
       "</style>\n",
       "<table border=\"1\" class=\"dataframe\">\n",
       "  <thead>\n",
       "    <tr style=\"text-align: right;\">\n",
       "      <th></th>\n",
       "      <th>Slice</th>\n",
       "      <th>Count</th>\n",
       "      <th>Total Area</th>\n",
       "      <th>Average Size</th>\n",
       "      <th>%Area</th>\n",
       "      <th>Mean</th>\n",
       "      <th>IntDen</th>\n",
       "      <th>Date</th>\n",
       "      <th>Image</th>\n",
       "      <th>Embryo</th>\n",
       "      <th>Somites</th>\n",
       "      <th>Section</th>\n",
       "    </tr>\n",
       "  </thead>\n",
       "  <tbody>\n",
       "    <tr>\n",
       "      <th>0</th>\n",
       "      <td>CntlSide</td>\n",
       "      <td>14</td>\n",
       "      <td>508.127</td>\n",
       "      <td>36.295</td>\n",
       "      <td>7.690</td>\n",
       "      <td>255</td>\n",
       "      <td>9255.179</td>\n",
       "      <td>20171016</td>\n",
       "      <td>Emb9_9ss_sec3</td>\n",
       "      <td>Emb9</td>\n",
       "      <td>9ss</td>\n",
       "      <td>sec3</td>\n",
       "    </tr>\n",
       "    <tr>\n",
       "      <th>1</th>\n",
       "      <td>ExptSide</td>\n",
       "      <td>13</td>\n",
       "      <td>705.535</td>\n",
       "      <td>54.272</td>\n",
       "      <td>6.488</td>\n",
       "      <td>255</td>\n",
       "      <td>13839.342</td>\n",
       "      <td>20171016</td>\n",
       "      <td>Emb9_9ss_sec3</td>\n",
       "      <td>Emb9</td>\n",
       "      <td>9ss</td>\n",
       "      <td>sec3</td>\n",
       "    </tr>\n",
       "    <tr>\n",
       "      <th>0</th>\n",
       "      <td>CntlSide</td>\n",
       "      <td>15</td>\n",
       "      <td>586.864</td>\n",
       "      <td>39.124</td>\n",
       "      <td>6.258</td>\n",
       "      <td>255</td>\n",
       "      <td>9976.684</td>\n",
       "      <td>20171016</td>\n",
       "      <td>Emb9_9ss_sec2</td>\n",
       "      <td>Emb9</td>\n",
       "      <td>9ss</td>\n",
       "      <td>sec2</td>\n",
       "    </tr>\n",
       "    <tr>\n",
       "      <th>1</th>\n",
       "      <td>ExptSide</td>\n",
       "      <td>12</td>\n",
       "      <td>485.146</td>\n",
       "      <td>40.429</td>\n",
       "      <td>4.206</td>\n",
       "      <td>255</td>\n",
       "      <td>10309.343</td>\n",
       "      <td>20171016</td>\n",
       "      <td>Emb9_9ss_sec2</td>\n",
       "      <td>Emb9</td>\n",
       "      <td>9ss</td>\n",
       "      <td>sec2</td>\n",
       "    </tr>\n",
       "    <tr>\n",
       "      <th>0</th>\n",
       "      <td>CntlSide</td>\n",
       "      <td>32</td>\n",
       "      <td>1510.830</td>\n",
       "      <td>47.213</td>\n",
       "      <td>10.472</td>\n",
       "      <td>255</td>\n",
       "      <td>12039.429</td>\n",
       "      <td>20171016</td>\n",
       "      <td>Emb9_9ss_sec1</td>\n",
       "      <td>Emb9</td>\n",
       "      <td>9ss</td>\n",
       "      <td>sec1</td>\n",
       "    </tr>\n",
       "  </tbody>\n",
       "</table>\n",
       "</div>"
      ],
      "text/plain": [
       "      Slice  Count  Total Area  Average Size   %Area  Mean     IntDen  \\\n",
       "0  CntlSide     14     508.127        36.295   7.690   255   9255.179   \n",
       "1  ExptSide     13     705.535        54.272   6.488   255  13839.342   \n",
       "0  CntlSide     15     586.864        39.124   6.258   255   9976.684   \n",
       "1  ExptSide     12     485.146        40.429   4.206   255  10309.343   \n",
       "0  CntlSide     32    1510.830        47.213  10.472   255  12039.429   \n",
       "\n",
       "       Date          Image Embryo Somites Section  \n",
       "0  20171016  Emb9_9ss_sec3   Emb9     9ss    sec3  \n",
       "1  20171016  Emb9_9ss_sec3   Emb9     9ss    sec3  \n",
       "0  20171016  Emb9_9ss_sec2   Emb9     9ss    sec2  \n",
       "1  20171016  Emb9_9ss_sec2   Emb9     9ss    sec2  \n",
       "0  20171016  Emb9_9ss_sec1   Emb9     9ss    sec1  "
      ]
     },
     "execution_count": 9,
     "metadata": {},
     "output_type": "execute_result"
    }
   ],
   "source": [
    "# Add experiment date here to apply to dataframe\n",
    "expt_date = '20171016'\n",
    "treatment = 'SMPD3gRNA1'\n",
    "result_type = 'Sox9Counts'\n",
    "\n",
    "path = os.path.abspath('')+'/sox9csv/'\n",
    "full_df = pd.DataFrame()\n",
    "list_ = []\n",
    "\n",
    "# For loop to bring in files and concatenate them into a single dataframe\n",
    "for file_ in glob.glob(path + \"/*.csv\"):\n",
    "    df = pd.read_csv(file_)\n",
    "    # Determine Image name from file name\n",
    "    df['Date'] = expt_date\n",
    "    df['Image'] = os.path.splitext(os.path.basename(file_))[0]\n",
    "    # Parse Image name\n",
    "    df['Embryo'], df['Somites'], df['Section'] = zip(*df['Image'].map(lambda x: x.split('_')))\n",
    "\n",
    "    list_.append(df)\n",
    "\n",
    "full_df = pd.concat(list_)\n",
    "full_df.head()"
   ]
  },
  {
   "cell_type": "code",
   "execution_count": 10,
   "metadata": {},
   "outputs": [],
   "source": [
    "# Mean counts across sections\n",
    "mean_sections = pd.DataFrame((full_df.groupby(['Embryo', 'Slice'])['Count']).mean())\n",
    "mean_sections\n",
    "# Extract means for Cntl and Expt counts\n",
    "sox9_cntl = mean_sections.xs('CntlSide', level='Slice')['Count'] \n",
    "sox9_expt = mean_sections.xs('ExptSide', level='Slice')['Count']\n",
    "\n",
    "# Generate ratios as Expt/Cntl\n",
    "sox9_ratios = pd.DataFrame(sox9_expt / sox9_cntl)\n",
    "sox9_ratios.columns = ['Expt/Cntl Sox9']"
   ]
  },
  {
   "cell_type": "code",
   "execution_count": 11,
   "metadata": {},
   "outputs": [],
   "source": [
    "# Combine processed values into single dataframe and output as csv file\n",
    "sox9_cntl = pd.DataFrame(sox9_cntl)\n",
    "sox9_cntl.columns = ['Cntl Sox9']\n",
    "sox9_expt = pd.DataFrame(sox9_expt)\n",
    "sox9_expt.columns = ['Expt Sox9']\n",
    "\n",
    "results = pd.concat([sox9_cntl, sox9_expt, sox9_ratios], axis=1, sort=True)\n",
    "results['ID'] = expt_date + '_' + results.index\n",
    "results.to_csv(expt_date + '_' + treatment + '_' + result_type + '_results.csv')"
   ]
  },
  {
   "cell_type": "code",
   "execution_count": null,
   "metadata": {},
   "outputs": [],
   "source": []
  }
 ],
 "metadata": {
  "kernelspec": {
   "display_name": "Python 3",
   "language": "python",
   "name": "python3"
  },
  "language_info": {
   "codemirror_mode": {
    "name": "ipython",
    "version": 3
   },
   "file_extension": ".py",
   "mimetype": "text/x-python",
   "name": "python",
   "nbconvert_exporter": "python",
   "pygments_lexer": "ipython3",
   "version": "3.6.5"
  }
 },
 "nbformat": 4,
 "nbformat_minor": 2
}
