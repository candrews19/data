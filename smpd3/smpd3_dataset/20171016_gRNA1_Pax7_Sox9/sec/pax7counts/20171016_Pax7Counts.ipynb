{
 "cells": [
  {
   "cell_type": "code",
   "execution_count": 58,
   "metadata": {},
   "outputs": [],
   "source": [
    "import os\n",
    "import glob\n",
    "import pandas as pd"
   ]
  },
  {
   "cell_type": "code",
   "execution_count": 59,
   "metadata": {},
   "outputs": [
    {
     "data": {
      "text/plain": [
       "'/Users/michaelpiacentino/Drive/git/data/smpd3/smpd3_dataset/20171016_gRNA1_Pax7_Sox9/sec/pax7counts'"
      ]
     },
     "execution_count": 59,
     "metadata": {},
     "output_type": "execute_result"
    }
   ],
   "source": [
    "pwd"
   ]
  },
  {
   "cell_type": "code",
   "execution_count": 60,
   "metadata": {},
   "outputs": [
    {
     "data": {
      "text/html": [
       "<div>\n",
       "<style scoped>\n",
       "    .dataframe tbody tr th:only-of-type {\n",
       "        vertical-align: middle;\n",
       "    }\n",
       "\n",
       "    .dataframe tbody tr th {\n",
       "        vertical-align: top;\n",
       "    }\n",
       "\n",
       "    .dataframe thead th {\n",
       "        text-align: right;\n",
       "    }\n",
       "</style>\n",
       "<table border=\"1\" class=\"dataframe\">\n",
       "  <thead>\n",
       "    <tr style=\"text-align: right;\">\n",
       "      <th></th>\n",
       "      <th>Slice</th>\n",
       "      <th>Count</th>\n",
       "      <th>Total Area</th>\n",
       "      <th>Average Size</th>\n",
       "      <th>%Area</th>\n",
       "      <th>Mean</th>\n",
       "      <th>IntDen</th>\n",
       "      <th>Date</th>\n",
       "      <th>Image</th>\n",
       "      <th>Embryo</th>\n",
       "      <th>Somites</th>\n",
       "      <th>Section</th>\n",
       "    </tr>\n",
       "  </thead>\n",
       "  <tbody>\n",
       "    <tr>\n",
       "      <th>0</th>\n",
       "      <td>CntlSide</td>\n",
       "      <td>15</td>\n",
       "      <td>1549.477</td>\n",
       "      <td>103.298</td>\n",
       "      <td>23.450</td>\n",
       "      <td>255</td>\n",
       "      <td>26341.109</td>\n",
       "      <td>20171016</td>\n",
       "      <td>Emb9_9ss_sec3</td>\n",
       "      <td>Emb9</td>\n",
       "      <td>9ss</td>\n",
       "      <td>sec3</td>\n",
       "    </tr>\n",
       "    <tr>\n",
       "      <th>1</th>\n",
       "      <td>ExptSide</td>\n",
       "      <td>32</td>\n",
       "      <td>2282.116</td>\n",
       "      <td>71.316</td>\n",
       "      <td>20.986</td>\n",
       "      <td>255</td>\n",
       "      <td>18185.615</td>\n",
       "      <td>20171016</td>\n",
       "      <td>Emb9_9ss_sec3</td>\n",
       "      <td>Emb9</td>\n",
       "      <td>9ss</td>\n",
       "      <td>sec3</td>\n",
       "    </tr>\n",
       "    <tr>\n",
       "      <th>0</th>\n",
       "      <td>CntlSide</td>\n",
       "      <td>22</td>\n",
       "      <td>1805.576</td>\n",
       "      <td>82.072</td>\n",
       "      <td>19.252</td>\n",
       "      <td>255</td>\n",
       "      <td>20928.269</td>\n",
       "      <td>20171016</td>\n",
       "      <td>Emb9_9ss_sec2</td>\n",
       "      <td>Emb9</td>\n",
       "      <td>9ss</td>\n",
       "      <td>sec2</td>\n",
       "    </tr>\n",
       "    <tr>\n",
       "      <th>1</th>\n",
       "      <td>ExptSide</td>\n",
       "      <td>38</td>\n",
       "      <td>2575.007</td>\n",
       "      <td>67.763</td>\n",
       "      <td>22.324</td>\n",
       "      <td>255</td>\n",
       "      <td>17279.654</td>\n",
       "      <td>20171016</td>\n",
       "      <td>Emb9_9ss_sec2</td>\n",
       "      <td>Emb9</td>\n",
       "      <td>9ss</td>\n",
       "      <td>sec2</td>\n",
       "    </tr>\n",
       "    <tr>\n",
       "      <th>0</th>\n",
       "      <td>CntlSide</td>\n",
       "      <td>43</td>\n",
       "      <td>2829.097</td>\n",
       "      <td>65.793</td>\n",
       "      <td>19.609</td>\n",
       "      <td>255</td>\n",
       "      <td>16777.201</td>\n",
       "      <td>20171016</td>\n",
       "      <td>Emb9_9ss_sec1</td>\n",
       "      <td>Emb9</td>\n",
       "      <td>9ss</td>\n",
       "      <td>sec1</td>\n",
       "    </tr>\n",
       "  </tbody>\n",
       "</table>\n",
       "</div>"
      ],
      "text/plain": [
       "      Slice  Count  Total Area  Average Size   %Area  Mean     IntDen  \\\n",
       "0  CntlSide     15    1549.477       103.298  23.450   255  26341.109   \n",
       "1  ExptSide     32    2282.116        71.316  20.986   255  18185.615   \n",
       "0  CntlSide     22    1805.576        82.072  19.252   255  20928.269   \n",
       "1  ExptSide     38    2575.007        67.763  22.324   255  17279.654   \n",
       "0  CntlSide     43    2829.097        65.793  19.609   255  16777.201   \n",
       "\n",
       "       Date          Image Embryo Somites Section  \n",
       "0  20171016  Emb9_9ss_sec3   Emb9     9ss    sec3  \n",
       "1  20171016  Emb9_9ss_sec3   Emb9     9ss    sec3  \n",
       "0  20171016  Emb9_9ss_sec2   Emb9     9ss    sec2  \n",
       "1  20171016  Emb9_9ss_sec2   Emb9     9ss    sec2  \n",
       "0  20171016  Emb9_9ss_sec1   Emb9     9ss    sec1  "
      ]
     },
     "execution_count": 60,
     "metadata": {},
     "output_type": "execute_result"
    }
   ],
   "source": [
    "# Add experiment date here to apply to dataframe\n",
    "expt_date = '20171016'\n",
    "treatment = 'SMPD3gRNA1'\n",
    "result_type = 'Pax7Counts'\n",
    "\n",
    "path = os.path.abspath('')+'/pax7csv/'\n",
    "full_df = pd.DataFrame()\n",
    "list_ = []\n",
    "\n",
    "# For loop to bring in files and concatenate them into a single dataframe\n",
    "for file_ in glob.glob(path + \"/*.csv\"):\n",
    "    df = pd.read_csv(file_)\n",
    "    # Determine Image name from file name\n",
    "    df['Date'] = expt_date\n",
    "    df['Image'] = os.path.splitext(os.path.basename(file_))[0]\n",
    "    # Parse Image name\n",
    "    df['Embryo'], df['Somites'], df['Section'] = zip(*df['Image'].map(lambda x: x.split('_')))\n",
    "\n",
    "    list_.append(df)\n",
    "\n",
    "full_df = pd.concat(list_)\n",
    "full_df.head()"
   ]
  },
  {
   "cell_type": "code",
   "execution_count": 61,
   "metadata": {},
   "outputs": [],
   "source": [
    "# Mean counts across sections\n",
    "mean_sections = pd.DataFrame((full_df.groupby(['Embryo', 'Slice'])['Count']).mean())\n",
    "mean_sections\n",
    "# Extract means for Cntl and Expt counts\n",
    "pax7_cntl = mean_sections.xs('CntlSide', level='Slice')['Count'] \n",
    "pax7_expt = mean_sections.xs('ExptSide', level='Slice')['Count']\n",
    "\n",
    "# Generate ratios as Expt/Cntl\n",
    "pax7_ratios = pd.DataFrame(pax7_expt / pax7_cntl)\n",
    "pax7_ratios.columns = ['Expt/Cntl Pax7']"
   ]
  },
  {
   "cell_type": "code",
   "execution_count": 62,
   "metadata": {},
   "outputs": [],
   "source": [
    "# Combine processed values into single dataframe and output as csv file\n",
    "pax7_cntl = pd.DataFrame(pax7_cntl)\n",
    "pax7_cntl.columns = ['Cntl Pax7']\n",
    "pax7_expt = pd.DataFrame(pax7_expt)\n",
    "pax7_expt.columns = ['Expt Pax7']\n",
    "\n",
    "results = pd.concat([pax7_cntl, pax7_expt, pax7_ratios], axis=1, sort=True)\n",
    "results['ID'] = expt_date + '_' + results.index\n",
    "results.to_csv(expt_date + '_' + treatment + '_' + result_type + '_results.csv')"
   ]
  },
  {
   "cell_type": "code",
   "execution_count": null,
   "metadata": {},
   "outputs": [],
   "source": []
  }
 ],
 "metadata": {
  "kernelspec": {
   "display_name": "Python 3",
   "language": "python",
   "name": "python3"
  },
  "language_info": {
   "codemirror_mode": {
    "name": "ipython",
    "version": 3
   },
   "file_extension": ".py",
   "mimetype": "text/x-python",
   "name": "python",
   "nbconvert_exporter": "python",
   "pygments_lexer": "ipython3",
   "version": "3.6.5"
  }
 },
 "nbformat": 4,
 "nbformat_minor": 2
}
