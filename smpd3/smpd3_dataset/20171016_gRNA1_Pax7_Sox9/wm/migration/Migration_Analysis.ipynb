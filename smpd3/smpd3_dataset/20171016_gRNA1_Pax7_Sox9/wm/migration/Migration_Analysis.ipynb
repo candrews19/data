{
 "cells": [
  {
   "cell_type": "code",
   "execution_count": 2,
   "metadata": {},
   "outputs": [],
   "source": [
    "import os\n",
    "import glob\n",
    "import pandas as pd"
   ]
  },
  {
   "cell_type": "code",
   "execution_count": 6,
   "metadata": {},
   "outputs": [],
   "source": [
    "path =r'/Users/michaelpiacentino/Desktop/smpd3_dataset/smpd3_gRNA1/20171016/wm/migration/pax7migrationCSV/'\n",
    "full_df = pd.DataFrame()\n",
    "list_ = []\n",
    "\n",
    "# For loop to bring in files and concatenate them into a single dataframe\n",
    "for file_ in glob.glob(path + \"/*.csv\"):\n",
    "    df = pd.read_csv(file_)\n",
    "    # Determine Image name from file name\n",
    "    df['Image'] = os.path.splitext(os.path.basename(file_))[0]\n",
    "    # Split values in ROI label and Image name columns\n",
    "    df['delete1'], df['ROI'], df['delete2'], df['delete3'] = zip(*df['Label'].map(lambda x: x.split(':')))\n",
    "    df['Embryo'], df['Somites'], df['pic'] = zip(*df['Image'].map(lambda x: x.split('_')))\n",
    "    \n",
    "    # Replace ROI names\n",
    "    df.replace(to_replace=['Cntl1', 'Cntl2', 'Cntl3', 'Cntl4', 'Exp1', 'Exp2', 'Exp3', 'Exp4'],\n",
    "                            value=['Cntl', 'Cntl', 'Cntl', 'Cntl', 'Expt', 'Expt', 'Expt', 'Expt'], \n",
    "                            inplace=True)\n",
    "    list_.append(df)\n",
    "\n",
    "full_df = pd.concat(list_)\n",
    "full_df = full_df.drop(['Label', 'Mean', 'Angle', 'IntDen', 'RawIntDen', 'pic', 'delete1', 'delete2', 'delete3'], axis=1)\n"
   ]
  },
  {
   "cell_type": "code",
   "execution_count": 7,
   "metadata": {},
   "outputs": [],
   "source": [
    "# Mean length values and group\n",
    "area_meanLength = (full_df.groupby(['Embryo', 'ROI'])['Area', 'Length']).mean()"
   ]
  },
  {
   "cell_type": "code",
   "execution_count": 8,
   "metadata": {},
   "outputs": [],
   "source": [
    "# Extract Areas, generate ratios\n",
    "area_cntl = area_meanLength.xs('CntlArea', level='ROI')['Area'] \n",
    "area_expt = area_meanLength.xs('ExptArea', level='ROI')['Area'] \n",
    "\n",
    "# Generate ratios as Expt/Cntl\n",
    "area_ratios = pd.DataFrame(area_expt / area_cntl)\n",
    "area_ratios.columns = ['Expt/Cntl Area']"
   ]
  },
  {
   "cell_type": "code",
   "execution_count": 9,
   "metadata": {},
   "outputs": [],
   "source": [
    "# Extract lengths, generate ratios\n",
    "length_cntl = area_meanLength.xs('Cntl', level='ROI')['Length'] \n",
    "length_expt = area_meanLength.xs('Expt', level='ROI')['Length'] \n",
    "\n",
    "# Generate ratios as Expt/Cntl\n",
    "length_ratios = pd.DataFrame(length_expt / length_cntl)\n",
    "length_ratios.columns = ['Expt/Cntl Length']"
   ]
  },
  {
   "cell_type": "code",
   "execution_count": 10,
   "metadata": {},
   "outputs": [],
   "source": [
    "# Combine processed values into single dataframe and output as csv file 'Results.csv'\n",
    "area_cntl = pd.DataFrame(area_cntl)\n",
    "area_cntl.columns = ['Cntl Area']\n",
    "area_expt = pd.DataFrame(area_expt)\n",
    "area_expt.columns = ['Expt Area']\n",
    "\n",
    "length_cntl = pd.DataFrame(length_cntl)\n",
    "length_cntl.columns = ['Cntl Length']\n",
    "length_expt = pd.DataFrame(length_expt)\n",
    "\n",
    "\n",
    "results = pd.concat([area_cntl, area_expt, area_ratios, length_cntl, length_expt, length_ratios], axis=1, sort=True)\n",
    "results.to_csv('Results.csv')"
   ]
  },
  {
   "cell_type": "code",
   "execution_count": null,
   "metadata": {},
   "outputs": [],
   "source": []
  }
 ],
 "metadata": {
  "kernelspec": {
   "display_name": "Python 3",
   "language": "python",
   "name": "python3"
  },
  "language_info": {
   "codemirror_mode": {
    "name": "ipython",
    "version": 3
   },
   "file_extension": ".py",
   "mimetype": "text/x-python",
   "name": "python",
   "nbconvert_exporter": "python",
   "pygments_lexer": "ipython3",
   "version": "3.6.5"
  }
 },
 "nbformat": 4,
 "nbformat_minor": 2
}
