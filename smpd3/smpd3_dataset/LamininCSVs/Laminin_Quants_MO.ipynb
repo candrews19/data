{
 "cells": [
  {
   "cell_type": "code",
   "execution_count": 2,
   "metadata": {},
   "outputs": [],
   "source": [
    "import os\n",
    "import glob\n",
    "import pandas as pd"
   ]
  },
  {
   "cell_type": "code",
   "execution_count": 3,
   "metadata": {},
   "outputs": [
    {
     "data": {
      "text/plain": [
       "'/Users/michaelpiacentino/Drive/git/data/smpd3/smpd3_dataset/LamininCSVs'"
      ]
     },
     "execution_count": 3,
     "metadata": {},
     "output_type": "execute_result"
    }
   ],
   "source": [
    "pwd"
   ]
  },
  {
   "cell_type": "code",
   "execution_count": 4,
   "metadata": {},
   "outputs": [],
   "source": [
    "# Add experiment date here to apply to dataframe\n",
    "treatment = 'SMPD3MO'\n",
    "result_type = 'LamininQuants'\n",
    "\n",
    "path = os.path.abspath('')\n",
    "full_df = pd.DataFrame()\n",
    "list_ = []\n",
    "\n",
    "# For loop to bring in files and concatenate them into a single dataframe\n",
    "for file_ in glob.glob(path + \"/**_MO**.csv\"):\n",
    "    df = pd.read_csv(file_)\n",
    "    list_.append(df)\n",
    "\n",
    "full_df = pd.concat(list_)"
   ]
  },
  {
   "cell_type": "code",
   "execution_count": 5,
   "metadata": {},
   "outputs": [],
   "source": [
    "cntl_counts = pd.DataFrame(full_df['Control MO'].value_counts())\n",
    "expt_counts = pd.DataFrame(full_df['SMPD3 MO'].value_counts())\n",
    "results = pd.concat([cntl_counts, expt_counts], axis=1, sort=True)\n",
    "results.fillna(0, inplace=True)\n",
    "results = results.astype(int)\n",
    "results.to_csv(treatment + '_' + result_type + '_results.csv')"
   ]
  },
  {
   "cell_type": "code",
   "execution_count": null,
   "metadata": {},
   "outputs": [],
   "source": []
  }
 ],
 "metadata": {
  "kernelspec": {
   "display_name": "Python 3",
   "language": "python",
   "name": "python3"
  },
  "language_info": {
   "codemirror_mode": {
    "name": "ipython",
    "version": 3
   },
   "file_extension": ".py",
   "mimetype": "text/x-python",
   "name": "python",
   "nbconvert_exporter": "python",
   "pygments_lexer": "ipython3",
   "version": "3.6.5"
  }
 },
 "nbformat": 4,
 "nbformat_minor": 2
}
