{
 "cells": [
  {
   "cell_type": "code",
   "execution_count": 1,
   "metadata": {},
   "outputs": [],
   "source": [
    "import os\n",
    "import glob\n",
    "import pandas as pd"
   ]
  },
  {
   "cell_type": "code",
   "execution_count": 2,
   "metadata": {},
   "outputs": [
    {
     "data": {
      "text/plain": [
       "'/Users/michaelpiacentino/Drive/git/data/smpd3/smpd3_dataset/20180514_MO_Pax7_Laminin/wm/migration'"
      ]
     },
     "execution_count": 2,
     "metadata": {},
     "output_type": "execute_result"
    }
   ],
   "source": [
    "pwd"
   ]
  },
  {
   "cell_type": "code",
   "execution_count": 3,
   "metadata": {},
   "outputs": [],
   "source": [
    "# Add experiment date here to apply to dataframe\n",
    "expt_date = '20180514'\n",
    "treatment = 'SMPD3MO'\n",
    "result_type = 'Migration'\n",
    "\n",
    "path = os.path.abspath('')+'/pax7migrationCSV/'\n",
    "full_df = pd.DataFrame()\n",
    "list_ = []\n",
    "\n",
    "# For loop to bring in files and concatenate them into a single dataframe\n",
    "for file_ in glob.glob(path + \"/*.csv\"):\n",
    "    df = pd.read_csv(file_)\n",
    "    # Determine Image name from file name\n",
    "    df['Date'] = expt_date\n",
    "    df['Image'] = os.path.splitext(os.path.basename(file_))[0]\n",
    "    # Split values in ROI label and Image name columns\n",
    "    df['delete1'], df['ROI'], df['delete2'], df['delete3'] = zip(*df['Label'].map(lambda x: x.split(':')))\n",
    "    df['Treatment'], df['Dose'], df['Embryo'], df['Somites'], df['Mag'] = zip(*df['Image'].map(lambda x: x.split('_')))\n",
    "    \n",
    "    # Replace ROI names\n",
    "    # Updated macro to avoid this step in future measurements\n",
    "    df.replace(to_replace=['Cntl1', 'Cntl2', 'Cntl3', 'Cntl4', 'Expt1', 'Expt2', 'Expt3', 'Expt4'],\n",
    "                            value=['Cntl', 'Cntl', 'Cntl', 'Cntl', 'Expt', 'Expt', 'Expt', 'Expt'], \n",
    "                            inplace=True)\n",
    "    list_.append(df)\n",
    "\n",
    "full_df = pd.concat(list_)"
   ]
  },
  {
   "cell_type": "code",
   "execution_count": 4,
   "metadata": {},
   "outputs": [],
   "source": [
    "# Mean length values and group\n",
    "area_meanLength = (full_df.groupby(['Embryo', 'ROI'])['Area', 'Length']).mean()\n",
    "\n",
    "# Extract Areas, generate ratios\n",
    "area_cntl = area_meanLength.xs('CntlArea', level='ROI')['Area'] \n",
    "area_expt = area_meanLength.xs('ExptArea', level='ROI')['Area'] \n",
    "\n",
    "# Generate ratios as Expt/Cntl\n",
    "area_ratios = pd.DataFrame(area_expt / area_cntl)\n",
    "area_ratios.columns = ['Expt/Cntl Area']\n",
    "\n",
    "# Extract lengths, generate ratios\n",
    "length_cntl = area_meanLength.xs('Cntl', level='ROI')['Length']\n",
    "length_expt = area_meanLength.xs('Expt', level='ROI')['Length'] \n",
    "\n",
    "# Generate ratios as Expt/Cntl\n",
    "length_ratios = pd.DataFrame(length_expt / length_cntl)\n",
    "length_ratios.columns = ['Expt/Cntl Length']"
   ]
  },
  {
   "cell_type": "code",
   "execution_count": 5,
   "metadata": {},
   "outputs": [],
   "source": [
    "# Combine processed values into single dataframe and output as csv file 'Results.csv'\n",
    "area_cntl = pd.DataFrame(area_cntl)\n",
    "area_cntl.columns = ['Cntl Area']\n",
    "area_expt = pd.DataFrame(area_expt)\n",
    "area_expt.columns = ['Expt Area']\n",
    "\n",
    "length_cntl = pd.DataFrame(length_cntl)\n",
    "length_cntl.columns = ['Cntl Length']\n",
    "length_expt = pd.DataFrame(length_expt)\n",
    "length_expt.columns = ['Expt Length']\n",
    "\n",
    "\n",
    "results = pd.concat([area_cntl, area_expt, area_ratios, length_cntl, length_expt, length_ratios], axis=1, sort=True)\n",
    "results['ID'] = expt_date + '_' + results.index\n",
    "results.to_csv(expt_date + '_' + treatment + '_' + result_type + '_results.csv')"
   ]
  },
  {
   "cell_type": "code",
   "execution_count": 6,
   "metadata": {},
   "outputs": [],
   "source": [
    "# Normalize all migration area values to mean of control group\n",
    "norm_cntl = area_cntl/(area_cntl.mean())\n",
    "norm_expt = area_expt/(area_expt.mean())\n",
    "norm_areas = pd.concat([norm_cntl, norm_expt], axis=1, sort=False)\n",
    "norm_areas['ID'] = expt_date + '_' + norm_areas.index\n",
    "norm_areas.to_csv(expt_date + '_' + treatment + '_' + result_type + '_norm_areas.csv')\n"
   ]
  },
  {
   "cell_type": "code",
   "execution_count": null,
   "metadata": {},
   "outputs": [],
   "source": []
  }
 ],
 "metadata": {
  "kernelspec": {
   "display_name": "Python 3",
   "language": "python",
   "name": "python3"
  },
  "language_info": {
   "codemirror_mode": {
    "name": "ipython",
    "version": 3
   },
   "file_extension": ".py",
   "mimetype": "text/x-python",
   "name": "python",
   "nbconvert_exporter": "python",
   "pygments_lexer": "ipython3",
   "version": "3.6.5"
  }
 },
 "nbformat": 4,
 "nbformat_minor": 2
}
