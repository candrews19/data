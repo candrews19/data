{
 "cells": [
  {
   "cell_type": "code",
   "execution_count": 3,
   "metadata": {},
   "outputs": [],
   "source": [
    "import numpy as np\n",
    "import pandas as pd\n",
    "import scipy.stats\n",
    "\n",
    "import altair as alt\n",
    "\n",
    "import bootcamp_utils"
   ]
  },
  {
   "cell_type": "code",
   "execution_count": 4,
   "metadata": {},
   "outputs": [
    {
     "data": {
      "text/html": [
       "<div>\n",
       "<style scoped>\n",
       "    .dataframe tbody tr th:only-of-type {\n",
       "        vertical-align: middle;\n",
       "    }\n",
       "\n",
       "    .dataframe tbody tr th {\n",
       "        vertical-align: top;\n",
       "    }\n",
       "\n",
       "    .dataframe thead th {\n",
       "        text-align: right;\n",
       "    }\n",
       "</style>\n",
       "<table border=\"1\" class=\"dataframe\">\n",
       "  <thead>\n",
       "    <tr style=\"text-align: right;\">\n",
       "      <th></th>\n",
       "      <th>experiment</th>\n",
       "      <th>file name</th>\n",
       "      <th>embryo</th>\n",
       "      <th>side</th>\n",
       "      <th>fluor</th>\n",
       "      <th>ctcf</th>\n",
       "    </tr>\n",
       "  </thead>\n",
       "  <tbody>\n",
       "    <tr>\n",
       "      <th>0</th>\n",
       "      <td>2019.06.16_SMPD3_CRISPR</td>\n",
       "      <td>SMPD3_CRISPR_Emb1_10x.czi</td>\n",
       "      <td>1</td>\n",
       "      <td>cntl</td>\n",
       "      <td>tcf lef</td>\n",
       "      <td>5.149187e+08</td>\n",
       "    </tr>\n",
       "    <tr>\n",
       "      <th>1</th>\n",
       "      <td>2019.06.16_SMPD3_CRISPR</td>\n",
       "      <td>SMPD3_CRISPR_Emb2_10x.czi</td>\n",
       "      <td>2</td>\n",
       "      <td>cntl</td>\n",
       "      <td>tcf lef</td>\n",
       "      <td>5.105786e+08</td>\n",
       "    </tr>\n",
       "    <tr>\n",
       "      <th>2</th>\n",
       "      <td>2019.06.16_SMPD3_CRISPR</td>\n",
       "      <td>SMPD3_CRISPR_Emb3_10x.czi</td>\n",
       "      <td>3</td>\n",
       "      <td>cntl</td>\n",
       "      <td>tcf lef</td>\n",
       "      <td>2.439080e+08</td>\n",
       "    </tr>\n",
       "    <tr>\n",
       "      <th>3</th>\n",
       "      <td>2019.06.16_SMPD3_CRISPR</td>\n",
       "      <td>SMPD3_CRISPR_Emb4_10x.czi</td>\n",
       "      <td>4</td>\n",
       "      <td>cntl</td>\n",
       "      <td>tcf lef</td>\n",
       "      <td>7.919257e+07</td>\n",
       "    </tr>\n",
       "    <tr>\n",
       "      <th>4</th>\n",
       "      <td>2019.06.16_SMPD3_CRISPR</td>\n",
       "      <td>SMPD3_CRISPR_Emb5_10x.czi</td>\n",
       "      <td>5</td>\n",
       "      <td>cntl</td>\n",
       "      <td>tcf lef</td>\n",
       "      <td>1.037543e+08</td>\n",
       "    </tr>\n",
       "  </tbody>\n",
       "</table>\n",
       "</div>"
      ],
      "text/plain": [
       "                experiment                  file name  embryo  side    fluor  \\\n",
       "0  2019.06.16_SMPD3_CRISPR  SMPD3_CRISPR_Emb1_10x.czi       1  cntl  tcf lef   \n",
       "1  2019.06.16_SMPD3_CRISPR  SMPD3_CRISPR_Emb2_10x.czi       2  cntl  tcf lef   \n",
       "2  2019.06.16_SMPD3_CRISPR  SMPD3_CRISPR_Emb3_10x.czi       3  cntl  tcf lef   \n",
       "3  2019.06.16_SMPD3_CRISPR  SMPD3_CRISPR_Emb4_10x.czi       4  cntl  tcf lef   \n",
       "4  2019.06.16_SMPD3_CRISPR  SMPD3_CRISPR_Emb5_10x.czi       5  cntl  tcf lef   \n",
       "\n",
       "           ctcf  \n",
       "0  5.149187e+08  \n",
       "1  5.105786e+08  \n",
       "2  2.439080e+08  \n",
       "3  7.919257e+07  \n",
       "4  1.037543e+08  "
      ]
     },
     "execution_count": 4,
     "metadata": {},
     "output_type": "execute_result"
    }
   ],
   "source": [
    "df = pd.read_csv('smpd3_crispr_tcflef.csv')\n",
    "df.head()\n"
   ]
  },
  {
   "cell_type": "code",
   "execution_count": 5,
   "metadata": {},
   "outputs": [
    {
     "data": {
      "text/html": [
       "<div>\n",
       "<style scoped>\n",
       "    .dataframe tbody tr th:only-of-type {\n",
       "        vertical-align: middle;\n",
       "    }\n",
       "\n",
       "    .dataframe tbody tr th {\n",
       "        vertical-align: top;\n",
       "    }\n",
       "\n",
       "    .dataframe thead th {\n",
       "        text-align: right;\n",
       "    }\n",
       "</style>\n",
       "<table border=\"1\" class=\"dataframe\">\n",
       "  <thead>\n",
       "    <tr style=\"text-align: right;\">\n",
       "      <th></th>\n",
       "      <th>embryo</th>\n",
       "      <th>variable</th>\n",
       "      <th>value</th>\n",
       "    </tr>\n",
       "  </thead>\n",
       "  <tbody>\n",
       "    <tr>\n",
       "      <th>0</th>\n",
       "      <td>1</td>\n",
       "      <td>cntl</td>\n",
       "      <td>2.164114</td>\n",
       "    </tr>\n",
       "    <tr>\n",
       "      <th>1</th>\n",
       "      <td>2</td>\n",
       "      <td>cntl</td>\n",
       "      <td>3.063780</td>\n",
       "    </tr>\n",
       "    <tr>\n",
       "      <th>2</th>\n",
       "      <td>3</td>\n",
       "      <td>cntl</td>\n",
       "      <td>1.550695</td>\n",
       "    </tr>\n",
       "    <tr>\n",
       "      <th>3</th>\n",
       "      <td>4</td>\n",
       "      <td>cntl</td>\n",
       "      <td>0.875284</td>\n",
       "    </tr>\n",
       "    <tr>\n",
       "      <th>4</th>\n",
       "      <td>5</td>\n",
       "      <td>cntl</td>\n",
       "      <td>0.766833</td>\n",
       "    </tr>\n",
       "  </tbody>\n",
       "</table>\n",
       "</div>"
      ],
      "text/plain": [
       "   embryo variable     value\n",
       "0       1     cntl  2.164114\n",
       "1       2     cntl  3.063780\n",
       "2       3     cntl  1.550695\n",
       "3       4     cntl  0.875284\n",
       "4       5     cntl  0.766833"
      ]
     },
     "execution_count": 5,
     "metadata": {},
     "output_type": "execute_result"
    }
   ],
   "source": [
    "# Using for loops to collect the ctcf values for each embryo/side/fluor combination to divide values of TCF/Lef over pCIG\n",
    "\n",
    "cntl_norm_tcflef = []\n",
    "expt_norm_tcflef = []\n",
    "\n",
    "for i in range(10):\n",
    "    ctcf_tcf = df.loc[(df['embryo'] == i+1) & (df['side'] == 'cntl') & (df['fluor'] == 'tcf lef'), ['ctcf']]\n",
    "    cntl_tcflef = ctcf_tcf.iloc[0]['ctcf']\n",
    "    ctcf_pCIG = df.loc[(df['embryo'] == i+1) & (df['side'] == 'cntl') & (df['fluor'] == 'pCIG'), ['ctcf']]\n",
    "    cntl_pCIG = ctcf_pCIG.iloc[0]['ctcf']\n",
    "    cntl_norm_tcflef.append(cntl_tcflef / cntl_pCIG)\n",
    "    \n",
    "for i in range(10):\n",
    "    ctcf_tcf = df.loc[(df['embryo'] == i+1) & (df['side'] == 'exp') & (df['fluor'] == 'tcf lef'), ['ctcf']]\n",
    "    expt_tcflef = ctcf_tcf.iloc[0]['ctcf']\n",
    "    ctcf_pCIG = df.loc[(df['embryo'] == i+1) & (df['side'] == 'exp') & (df['fluor'] == 'pCIG'), ['ctcf']]\n",
    "    expt_pCIG = ctcf_pCIG.iloc[0]['ctcf']\n",
    "    expt_norm_tcflef.append(expt_tcflef / expt_pCIG)\n",
    "    \n",
    "norm_values = pd.DataFrame({'cntl' : cntl_norm_tcflef, 'expt': expt_norm_tcflef})\n",
    "norm_values['embryo'] = [i+1 for i in range(len(norm_values))]\n",
    "norm_values2 = pd.melt(norm_values, id_vars='embryo', value_vars=['cntl', 'expt'])\n",
    "norm_values2.head()"
   ]
  },
  {
   "cell_type": "code",
   "execution_count": 6,
   "metadata": {},
   "outputs": [
    {
     "data": {
      "application/vnd.vegalite.v2+json": {
       "$schema": "https://vega.github.io/schema/vega-lite/v2.4.3.json",
       "config": {
        "view": {
         "height": 300,
         "width": 400
        }
       },
       "data": {
        "values": [
         {
          "embryo": 1,
          "value": 2.1641142560079345,
          "variable": "cntl"
         },
         {
          "embryo": 2,
          "value": 3.063779990675722,
          "variable": "cntl"
         },
         {
          "embryo": 3,
          "value": 1.5506952422186828,
          "variable": "cntl"
         },
         {
          "embryo": 4,
          "value": 0.875283589788765,
          "variable": "cntl"
         },
         {
          "embryo": 5,
          "value": 0.7668333526800205,
          "variable": "cntl"
         },
         {
          "embryo": 6,
          "value": 1.425504787118721,
          "variable": "cntl"
         },
         {
          "embryo": 7,
          "value": 0.8841132662341247,
          "variable": "cntl"
         },
         {
          "embryo": 8,
          "value": 1.0134330363571926,
          "variable": "cntl"
         },
         {
          "embryo": 9,
          "value": 0.5112566731779745,
          "variable": "cntl"
         },
         {
          "embryo": 10,
          "value": 0.6133500652176124,
          "variable": "cntl"
         },
         {
          "embryo": 1,
          "value": 1.541820032074219,
          "variable": "expt"
         },
         {
          "embryo": 2,
          "value": 2.473018495876802,
          "variable": "expt"
         },
         {
          "embryo": 3,
          "value": 1.1103328192738116,
          "variable": "expt"
         },
         {
          "embryo": 4,
          "value": 0.7421724414367796,
          "variable": "expt"
         },
         {
          "embryo": 5,
          "value": 0.4920773011173459,
          "variable": "expt"
         },
         {
          "embryo": 6,
          "value": 1.150768511461152,
          "variable": "expt"
         },
         {
          "embryo": 7,
          "value": 0.680490761357708,
          "variable": "expt"
         },
         {
          "embryo": 8,
          "value": 0.7732862366050636,
          "variable": "expt"
         },
         {
          "embryo": 9,
          "value": 0.4348389006379611,
          "variable": "expt"
         },
         {
          "embryo": 10,
          "value": 0.5039417470579904,
          "variable": "expt"
         }
        ]
       },
       "encoding": {
        "color": {
         "field": "variable",
         "type": "nominal"
        },
        "x": {
         "field": "value",
         "type": "quantitative"
        },
        "y": {
         "field": "variable",
         "title": "condition",
         "type": "nominal"
        }
       },
       "height": 100,
       "mark": {
        "size": 70,
        "type": "circle"
       },
       "title": "Normalized TCF/Lef:H2B-RFP Intensity"
      },
      "image/png": "[encoded data removed]",
      "text/plain": [
       "<VegaLite 2 object>\n",
       "\n",
       "If you see this message, it means the renderer has not been properly enabled\n",
       "for the frontend that you are using. For more information, see\n",
       "https://altair-viz.github.io/user_guide/troubleshooting.html\n"
      ]
     },
     "execution_count": 6,
     "metadata": {},
     "output_type": "execute_result"
    }
   ],
   "source": [
    "alt.Chart(norm_values2,\n",
    "    title='Normalized TCF/Lef:H2B-RFP Intensity',\n",
    "    height=100\n",
    "    ).mark_circle(\n",
    "        size=70\n",
    "    ).encode(\n",
    "        x='value:Q',\n",
    "        y=alt.Y('variable:N', title='condition'),\n",
    "        color='variable:N'\n",
    "    )"
   ]
  },
  {
   "cell_type": "code",
   "execution_count": 13,
   "metadata": {},
   "outputs": [
    {
     "data": {
      "text/html": [
       "<div>\n",
       "<style scoped>\n",
       "    .dataframe tbody tr th:only-of-type {\n",
       "        vertical-align: middle;\n",
       "    }\n",
       "\n",
       "    .dataframe tbody tr th {\n",
       "        vertical-align: top;\n",
       "    }\n",
       "\n",
       "    .dataframe thead th {\n",
       "        text-align: right;\n",
       "    }\n",
       "</style>\n",
       "<table border=\"1\" class=\"dataframe\">\n",
       "  <thead>\n",
       "    <tr style=\"text-align: right;\">\n",
       "      <th></th>\n",
       "      <th>embryo</th>\n",
       "      <th>variable</th>\n",
       "      <th>value</th>\n",
       "      <th>ECDF</th>\n",
       "    </tr>\n",
       "  </thead>\n",
       "  <tbody>\n",
       "    <tr>\n",
       "      <th>0</th>\n",
       "      <td>1</td>\n",
       "      <td>cntl</td>\n",
       "      <td>2.164114</td>\n",
       "      <td>0.9</td>\n",
       "    </tr>\n",
       "    <tr>\n",
       "      <th>1</th>\n",
       "      <td>2</td>\n",
       "      <td>cntl</td>\n",
       "      <td>3.063780</td>\n",
       "      <td>1.0</td>\n",
       "    </tr>\n",
       "    <tr>\n",
       "      <th>2</th>\n",
       "      <td>3</td>\n",
       "      <td>cntl</td>\n",
       "      <td>1.550695</td>\n",
       "      <td>0.8</td>\n",
       "    </tr>\n",
       "    <tr>\n",
       "      <th>3</th>\n",
       "      <td>4</td>\n",
       "      <td>cntl</td>\n",
       "      <td>0.875284</td>\n",
       "      <td>0.4</td>\n",
       "    </tr>\n",
       "    <tr>\n",
       "      <th>4</th>\n",
       "      <td>5</td>\n",
       "      <td>cntl</td>\n",
       "      <td>0.766833</td>\n",
       "      <td>0.3</td>\n",
       "    </tr>\n",
       "    <tr>\n",
       "      <th>10</th>\n",
       "      <td>1</td>\n",
       "      <td>expt</td>\n",
       "      <td>1.541820</td>\n",
       "      <td>0.9</td>\n",
       "    </tr>\n",
       "    <tr>\n",
       "      <th>11</th>\n",
       "      <td>2</td>\n",
       "      <td>expt</td>\n",
       "      <td>2.473018</td>\n",
       "      <td>1.0</td>\n",
       "    </tr>\n",
       "    <tr>\n",
       "      <th>12</th>\n",
       "      <td>3</td>\n",
       "      <td>expt</td>\n",
       "      <td>1.110333</td>\n",
       "      <td>0.7</td>\n",
       "    </tr>\n",
       "    <tr>\n",
       "      <th>13</th>\n",
       "      <td>4</td>\n",
       "      <td>expt</td>\n",
       "      <td>0.742172</td>\n",
       "      <td>0.5</td>\n",
       "    </tr>\n",
       "    <tr>\n",
       "      <th>14</th>\n",
       "      <td>5</td>\n",
       "      <td>expt</td>\n",
       "      <td>0.492077</td>\n",
       "      <td>0.2</td>\n",
       "    </tr>\n",
       "  </tbody>\n",
       "</table>\n",
       "</div>"
      ],
      "text/plain": [
       "    embryo variable     value  ECDF\n",
       "0        1     cntl  2.164114   0.9\n",
       "1        2     cntl  3.063780   1.0\n",
       "2        3     cntl  1.550695   0.8\n",
       "3        4     cntl  0.875284   0.4\n",
       "4        5     cntl  0.766833   0.3\n",
       "10       1     expt  1.541820   0.9\n",
       "11       2     expt  2.473018   1.0\n",
       "12       3     expt  1.110333   0.7\n",
       "13       4     expt  0.742172   0.5\n",
       "14       5     expt  0.492077   0.2"
      ]
     },
     "execution_count": 13,
     "metadata": {},
     "output_type": "execute_result"
    }
   ],
   "source": [
    "df3 = norm_values2.groupby('variable')\n",
    "df3.head()"
   ]
  },
  {
   "cell_type": "code",
   "execution_count": 14,
   "metadata": {},
   "outputs": [
    {
     "data": {
      "application/vnd.vegalite.v2+json": {
       "$schema": "https://vega.github.io/schema/vega-lite/v2.4.3.json",
       "config": {
        "view": {
         "height": 300,
         "width": 400
        }
       },
       "hconcat": [
        {
         "layer": [
          {
           "data": {
            "values": [
             {
              "ECDF": 0.9,
              "embryo": 1,
              "value": 2.1641142560079345,
              "variable": "cntl"
             },
             {
              "ECDF": 1,
              "embryo": 2,
              "value": 3.063779990675722,
              "variable": "cntl"
             },
             {
              "ECDF": 0.8,
              "embryo": 3,
              "value": 1.5506952422186828,
              "variable": "cntl"
             },
             {
              "ECDF": 0.4,
              "embryo": 4,
              "value": 0.875283589788765,
              "variable": "cntl"
             },
             {
              "ECDF": 0.3,
              "embryo": 5,
              "value": 0.7668333526800205,
              "variable": "cntl"
             },
             {
              "ECDF": 0.7,
              "embryo": 6,
              "value": 1.425504787118721,
              "variable": "cntl"
             },
             {
              "ECDF": 0.5,
              "embryo": 7,
              "value": 0.8841132662341247,
              "variable": "cntl"
             },
             {
              "ECDF": 0.6,
              "embryo": 8,
              "value": 1.0134330363571926,
              "variable": "cntl"
             },
             {
              "ECDF": 0.1,
              "embryo": 9,
              "value": 0.5112566731779745,
              "variable": "cntl"
             },
             {
              "ECDF": 0.2,
              "embryo": 10,
              "value": 0.6133500652176124,
              "variable": "cntl"
             },
             {
              "ECDF": 0.9,
              "embryo": 1,
              "value": 1.541820032074219,
              "variable": "expt"
             },
             {
              "ECDF": 1,
              "embryo": 2,
              "value": 2.473018495876802,
              "variable": "expt"
             },
             {
              "ECDF": 0.7,
              "embryo": 3,
              "value": 1.1103328192738116,
              "variable": "expt"
             },
             {
              "ECDF": 0.5,
              "embryo": 4,
              "value": 0.7421724414367796,
              "variable": "expt"
             },
             {
              "ECDF": 0.2,
              "embryo": 5,
              "value": 0.4920773011173459,
              "variable": "expt"
             },
             {
              "ECDF": 0.8,
              "embryo": 6,
              "value": 1.150768511461152,
              "variable": "expt"
             },
             {
              "ECDF": 0.4,
              "embryo": 7,
              "value": 0.680490761357708,
              "variable": "expt"
             },
             {
              "ECDF": 0.6,
              "embryo": 8,
              "value": 0.7732862366050636,
              "variable": "expt"
             },
             {
              "ECDF": 0.1,
              "embryo": 9,
              "value": 0.4348389006379611,
              "variable": "expt"
             },
             {
              "ECDF": 0.3,
              "embryo": 10,
              "value": 0.5039417470579904,
              "variable": "expt"
             }
            ]
           },
           "encoding": {
            "color": {
             "field": "variable",
             "type": "nominal"
            },
            "x": {
             "field": "value",
             "type": "quantitative"
            },
            "y": {
             "field": "ECDF",
             "type": "quantitative"
            }
           },
           "mark": "line"
          },
          {
           "data": {
            "values": [
             {
              "ECDF": 0.9,
              "embryo": 1,
              "value": 2.1641142560079345,
              "variable": "cntl"
             },
             {
              "ECDF": 1,
              "embryo": 2,
              "value": 3.063779990675722,
              "variable": "cntl"
             },
             {
              "ECDF": 0.8,
              "embryo": 3,
              "value": 1.5506952422186828,
              "variable": "cntl"
             },
             {
              "ECDF": 0.4,
              "embryo": 4,
              "value": 0.875283589788765,
              "variable": "cntl"
             },
             {
              "ECDF": 0.3,
              "embryo": 5,
              "value": 0.7668333526800205,
              "variable": "cntl"
             },
             {
              "ECDF": 0.7,
              "embryo": 6,
              "value": 1.425504787118721,
              "variable": "cntl"
             },
             {
              "ECDF": 0.5,
              "embryo": 7,
              "value": 0.8841132662341247,
              "variable": "cntl"
             },
             {
              "ECDF": 0.6,
              "embryo": 8,
              "value": 1.0134330363571926,
              "variable": "cntl"
             },
             {
              "ECDF": 0.1,
              "embryo": 9,
              "value": 0.5112566731779745,
              "variable": "cntl"
             },
             {
              "ECDF": 0.2,
              "embryo": 10,
              "value": 0.6133500652176124,
              "variable": "cntl"
             },
             {
              "ECDF": 0.9,
              "embryo": 1,
              "value": 1.541820032074219,
              "variable": "expt"
             },
             {
              "ECDF": 1,
              "embryo": 2,
              "value": 2.473018495876802,
              "variable": "expt"
             },
             {
              "ECDF": 0.7,
              "embryo": 3,
              "value": 1.1103328192738116,
              "variable": "expt"
             },
             {
              "ECDF": 0.5,
              "embryo": 4,
              "value": 0.7421724414367796,
              "variable": "expt"
             },
             {
              "ECDF": 0.2,
              "embryo": 5,
              "value": 0.4920773011173459,
              "variable": "expt"
             },
             {
              "ECDF": 0.8,
              "embryo": 6,
              "value": 1.150768511461152,
              "variable": "expt"
             },
             {
              "ECDF": 0.4,
              "embryo": 7,
              "value": 0.680490761357708,
              "variable": "expt"
             },
             {
              "ECDF": 0.6,
              "embryo": 8,
              "value": 0.7732862366050636,
              "variable": "expt"
             },
             {
              "ECDF": 0.1,
              "embryo": 9,
              "value": 0.4348389006379611,
              "variable": "expt"
             },
             {
              "ECDF": 0.3,
              "embryo": 10,
              "value": 0.5039417470579904,
              "variable": "expt"
             }
            ]
           },
           "encoding": {
            "color": {
             "field": "variable",
             "type": "nominal"
            },
            "x": {
             "field": "value",
             "type": "quantitative"
            },
            "y": {
             "field": "ECDF",
             "type": "quantitative"
            }
           },
           "mark": {
            "filled": true,
            "opacity": 0.8,
            "size": 75,
            "type": "point"
           }
          }
         ]
        },
        {
         "data": {
          "values": [
           {
            "ECDF": 0.9,
            "embryo": 1,
            "value": 2.1641142560079345,
            "variable": "cntl"
           },
           {
            "ECDF": 1,
            "embryo": 2,
            "value": 3.063779990675722,
            "variable": "cntl"
           },
           {
            "ECDF": 0.8,
            "embryo": 3,
            "value": 1.5506952422186828,
            "variable": "cntl"
           },
           {
            "ECDF": 0.4,
            "embryo": 4,
            "value": 0.875283589788765,
            "variable": "cntl"
           },
           {
            "ECDF": 0.3,
            "embryo": 5,
            "value": 0.7668333526800205,
            "variable": "cntl"
           },
           {
            "ECDF": 0.7,
            "embryo": 6,
            "value": 1.425504787118721,
            "variable": "cntl"
           },
           {
            "ECDF": 0.5,
            "embryo": 7,
            "value": 0.8841132662341247,
            "variable": "cntl"
           },
           {
            "ECDF": 0.6,
            "embryo": 8,
            "value": 1.0134330363571926,
            "variable": "cntl"
           },
           {
            "ECDF": 0.1,
            "embryo": 9,
            "value": 0.5112566731779745,
            "variable": "cntl"
           },
           {
            "ECDF": 0.2,
            "embryo": 10,
            "value": 0.6133500652176124,
            "variable": "cntl"
           },
           {
            "ECDF": 0.9,
            "embryo": 1,
            "value": 1.541820032074219,
            "variable": "expt"
           },
           {
            "ECDF": 1,
            "embryo": 2,
            "value": 2.473018495876802,
            "variable": "expt"
           },
           {
            "ECDF": 0.7,
            "embryo": 3,
            "value": 1.1103328192738116,
            "variable": "expt"
           },
           {
            "ECDF": 0.5,
            "embryo": 4,
            "value": 0.7421724414367796,
            "variable": "expt"
           },
           {
            "ECDF": 0.2,
            "embryo": 5,
            "value": 0.4920773011173459,
            "variable": "expt"
           },
           {
            "ECDF": 0.8,
            "embryo": 6,
            "value": 1.150768511461152,
            "variable": "expt"
           },
           {
            "ECDF": 0.4,
            "embryo": 7,
            "value": 0.680490761357708,
            "variable": "expt"
           },
           {
            "ECDF": 0.6,
            "embryo": 8,
            "value": 0.7732862366050636,
            "variable": "expt"
           },
           {
            "ECDF": 0.1,
            "embryo": 9,
            "value": 0.4348389006379611,
            "variable": "expt"
           },
           {
            "ECDF": 0.3,
            "embryo": 10,
            "value": 0.5039417470579904,
            "variable": "expt"
           }
          ]
         },
         "encoding": {
          "color": {
           "field": "variable",
           "type": "nominal"
          },
          "x": {
           "field": "value",
           "type": "quantitative"
          },
          "y": {
           "field": "ECDF",
           "type": "quantitative"
          }
         },
         "mark": {
          "filled": true,
          "opacity": 0.8,
          "size": 75,
          "type": "point"
         }
        }
       ]
      },
      "image/png": "[encoded data removed]",
      "text/plain": [
       "<VegaLite 2 object>\n",
       "\n",
       "If you see this message, it means the renderer has not been properly enabled\n",
       "for the frontend that you are using. For more information, see\n",
       "https://altair-viz.github.io/user_guide/troubleshooting.html\n"
      ]
     },
     "execution_count": 14,
     "metadata": {},
     "output_type": "execute_result"
    }
   ],
   "source": [
    "# Compute ECDF\n",
    "norm_values2['ECDF'] = norm_values2.groupby('variable')[\"value\"].transform(bootcamp_utils.ecdf_y)\n",
    "\n",
    "# Make the plot\n",
    "dot = alt.Chart(norm_values2\n",
    "    ).mark_point(\n",
    "        size=75,\n",
    "        filled=True,\n",
    "        opacity=0.8\n",
    "    ).encode(\n",
    "        x=alt.X('value:Q'),\n",
    "        y='ECDF:Q',\n",
    "        color='variable:N'\n",
    "    )\n",
    "\n",
    "line = alt.Chart(norm_values2\n",
    "    ).mark_line(\n",
    "    ).encode(\n",
    "        x=alt.X('value:Q'),\n",
    "        y='ECDF:Q',\n",
    "        color='variable:N'\n",
    "    )\n",
    "line + dot | dot\n",
    "\n",
    "# PROBLEM, the lines on the line plot don't actually represent the ECDF formal plotting"
   ]
  },
  {
   "cell_type": "code",
   "execution_count": null,
   "metadata": {},
   "outputs": [],
   "source": []
  }
 ],
 "metadata": {
  "kernelspec": {
   "display_name": "Python 3",
   "language": "python",
   "name": "python3"
  },
  "language_info": {
   "codemirror_mode": {
    "name": "ipython",
    "version": 3
   },
   "file_extension": ".py",
   "mimetype": "text/x-python",
   "name": "python",
   "nbconvert_exporter": "python",
   "pygments_lexer": "ipython3",
   "version": "3.6.5"
  }
 },
 "nbformat": 4,
 "nbformat_minor": 2
}
