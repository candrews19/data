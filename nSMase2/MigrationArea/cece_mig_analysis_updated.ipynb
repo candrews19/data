{
 "cells": [
  {
   "cell_type": "markdown",
   "metadata": {},
   "source": [
    "# PLEASE NOTE!\n",
    "Right now this notebook is entirely Cece messing with stuff. It is probably not functional."
   ]
  },
  {
   "cell_type": "code",
   "execution_count": 1,
   "metadata": {},
   "outputs": [],
   "source": [
    "# Import packages\n",
    "import os\n",
    "import glob\n",
    "import pandas as pd\n",
    "import seaborn as sns\n",
    "import matplotlib.pyplot as plt\n",
    "import numpy as np\n",
    "import scipy.stats as stats\n",
    "import datetime\n",
    "\n",
    "# Import dabest for plotting. Set path to DABEST folder.\n",
    "import sys\n",
    "sys.path.insert(0, '/Users/CeceliaAndrews/DABEST-python')\n",
    "import dabest\n",
    "\n",
    "# Import Cece's migration analysis and bootstrapping modules.\n",
    "# If you are working in git repository data/nSMase2/MigrationArea\n",
    "# you should not need to change the path.\n",
    "#import mig_analysis as ma\n",
    "#import cece_bootstrapping as cbs\n",
    "sys.path.append('/Users/CeceliaAndrews/mike')\n",
    "from bronnerlab_tools import *"
   ]
  },
  {
   "cell_type": "code",
   "execution_count": 2,
   "metadata": {},
   "outputs": [
    {
     "name": "stdout",
     "output_type": "stream",
     "text": [
      "Yup!\n"
     ]
    }
   ],
   "source": [
    "_bootstrap.does_this_thing_work()"
   ]
  },
  {
   "cell_type": "code",
   "execution_count": 4,
   "metadata": {},
   "outputs": [],
   "source": [
    "import statsmodels"
   ]
  },
  {
   "cell_type": "code",
   "execution_count": 3,
   "metadata": {
    "scrolled": false
   },
   "outputs": [
    {
     "name": "stdout",
     "output_type": "stream",
     "text": [
      "Number of files in this folder: 58\n",
      "\n",
      "\n",
      "In first file:\n",
      "Number of rows: 2\n",
      "Number of columns: 6\n",
      "Column names: [' ' 'Label' 'Area' 'Mean' 'IntDen' 'RawIntDen']\n",
      "Image name: 20180715_SMPD3MONC11m3bCat_0,8mM2ugul_Pax7GFP_Emb6_8ss_10x\n",
      "Image name components:\n",
      "20180715\n",
      "SMPD3MONC11m3bCat\n",
      "0,8mM2ugul\n",
      "Pax7GFP\n",
      "Emb6\n",
      "8ss\n",
      "10x\n",
      "\n",
      "\n",
      "You're good to go! All files match expected format.\n"
     ]
    },
    {
     "data": {
      "text/html": [
       "<div>\n",
       "<style scoped>\n",
       "    .dataframe tbody tr th:only-of-type {\n",
       "        vertical-align: middle;\n",
       "    }\n",
       "\n",
       "    .dataframe tbody tr th {\n",
       "        vertical-align: top;\n",
       "    }\n",
       "\n",
       "    .dataframe thead th {\n",
       "        text-align: right;\n",
       "    }\n",
       "</style>\n",
       "<table border=\"1\" class=\"dataframe\">\n",
       "  <thead>\n",
       "    <tr style=\"text-align: right;\">\n",
       "      <th></th>\n",
       "      <th>Date</th>\n",
       "      <th>Treatment</th>\n",
       "      <th>Dose</th>\n",
       "      <th>Image</th>\n",
       "      <th>Somites</th>\n",
       "      <th>Control Area</th>\n",
       "      <th>Experiment Area</th>\n",
       "      <th>Exp/Ctl Area</th>\n",
       "      <th>Norm Control Area</th>\n",
       "      <th>Norm Experiment Area</th>\n",
       "    </tr>\n",
       "  </thead>\n",
       "  <tbody>\n",
       "    <tr>\n",
       "      <th>0</th>\n",
       "      <td>20180715</td>\n",
       "      <td>SMPD3MONC11m3bCat</td>\n",
       "      <td>0,8mM2ugul</td>\n",
       "      <td>20180715_SMPD3MONC11m3bCat_0,8mM2ugul_Pax7GFP_...</td>\n",
       "      <td>8ss</td>\n",
       "      <td>72103.705</td>\n",
       "      <td>23918.319</td>\n",
       "      <td>0.331721</td>\n",
       "      <td>1.119337</td>\n",
       "      <td>0.371308</td>\n",
       "    </tr>\n",
       "    <tr>\n",
       "      <th>1</th>\n",
       "      <td>20180630</td>\n",
       "      <td>SMPD3MO</td>\n",
       "      <td>0,8mM</td>\n",
       "      <td>20180630_SMPD3MO_0,8mM_Pax7_Emb5_8ss_10x</td>\n",
       "      <td>8ss</td>\n",
       "      <td>80452.846</td>\n",
       "      <td>47922.588</td>\n",
       "      <td>0.595661</td>\n",
       "      <td>0.955197</td>\n",
       "      <td>0.568973</td>\n",
       "    </tr>\n",
       "    <tr>\n",
       "      <th>2</th>\n",
       "      <td>20181119</td>\n",
       "      <td>SMPD3MO</td>\n",
       "      <td>0,6mM</td>\n",
       "      <td>20181119_SMPD3MO_0,6mM_Pax7_Emb6_7ss_10x</td>\n",
       "      <td>7ss</td>\n",
       "      <td>47346.082</td>\n",
       "      <td>27928.306</td>\n",
       "      <td>0.589876</td>\n",
       "      <td>0.562129</td>\n",
       "      <td>0.331586</td>\n",
       "    </tr>\n",
       "    <tr>\n",
       "      <th>3</th>\n",
       "      <td>20180630</td>\n",
       "      <td>SMPD3MO</td>\n",
       "      <td>0,8mM</td>\n",
       "      <td>20180630_SMPD3MO_0,8mM_Pax7_Emb3_9ss_10x</td>\n",
       "      <td>9ss</td>\n",
       "      <td>146043.286</td>\n",
       "      <td>47621.453</td>\n",
       "      <td>0.326078</td>\n",
       "      <td>1.733937</td>\n",
       "      <td>0.565398</td>\n",
       "    </tr>\n",
       "    <tr>\n",
       "      <th>4</th>\n",
       "      <td>20180514</td>\n",
       "      <td>SMPD3MO</td>\n",
       "      <td>0,8mM</td>\n",
       "      <td>20180514_SMPD3MO_0,8mM_Pax7Laminin_Emb6_8ss_10x</td>\n",
       "      <td>8ss</td>\n",
       "      <td>72508.322</td>\n",
       "      <td>52025.129</td>\n",
       "      <td>0.717506</td>\n",
       "      <td>0.860874</td>\n",
       "      <td>0.617682</td>\n",
       "    </tr>\n",
       "    <tr>\n",
       "      <th>5</th>\n",
       "      <td>20190603</td>\n",
       "      <td>SMPD3MONC11m3bCat</td>\n",
       "      <td>0,8mM2ugul</td>\n",
       "      <td>20190603_SMPD3MONC11m3bCat_0,8mM2ugul_Cad6bRFP...</td>\n",
       "      <td>8ss</td>\n",
       "      <td>66671.106</td>\n",
       "      <td>20264.501</td>\n",
       "      <td>0.303947</td>\n",
       "      <td>1.035002</td>\n",
       "      <td>0.314586</td>\n",
       "    </tr>\n",
       "    <tr>\n",
       "      <th>6</th>\n",
       "      <td>20181102</td>\n",
       "      <td>SMPD3gRNA1RNP</td>\n",
       "      <td>0,35ugul</td>\n",
       "      <td>20181102_SMPD3gRNA1RNP_0,35ugul_Pax7Laminin_Em...</td>\n",
       "      <td>7ss</td>\n",
       "      <td>56474.135</td>\n",
       "      <td>44153.345</td>\n",
       "      <td>0.781833</td>\n",
       "      <td>1.411108</td>\n",
       "      <td>1.103251</td>\n",
       "    </tr>\n",
       "    <tr>\n",
       "      <th>7</th>\n",
       "      <td>20180715</td>\n",
       "      <td>SMPD3MONC11m3bCat</td>\n",
       "      <td>0,8mM2ugul</td>\n",
       "      <td>20180715_SMPD3MONC11m3bCat_0,8mM2ugul_Pax7GFP_...</td>\n",
       "      <td>7ss</td>\n",
       "      <td>50204.911</td>\n",
       "      <td>35216.774</td>\n",
       "      <td>0.701461</td>\n",
       "      <td>0.779381</td>\n",
       "      <td>0.546705</td>\n",
       "    </tr>\n",
       "    <tr>\n",
       "      <th>8</th>\n",
       "      <td>20181119</td>\n",
       "      <td>SMPD3MO</td>\n",
       "      <td>1,0mM</td>\n",
       "      <td>20181119_SMPD3MO_1,0mM_Pax7_Emb5_6ss_10x</td>\n",
       "      <td>6ss</td>\n",
       "      <td>41534.435</td>\n",
       "      <td>22358.227</td>\n",
       "      <td>0.538306</td>\n",
       "      <td>0.493128</td>\n",
       "      <td>0.265454</td>\n",
       "    </tr>\n",
       "    <tr>\n",
       "      <th>9</th>\n",
       "      <td>20181102</td>\n",
       "      <td>SMPD3gRNA1RNP</td>\n",
       "      <td>0,35ugul</td>\n",
       "      <td>20181102_SMPD3gRNA1RNP_0,35ugul_Pax7Laminin_Em...</td>\n",
       "      <td>7ss</td>\n",
       "      <td>34125.389</td>\n",
       "      <td>26955.850</td>\n",
       "      <td>0.789906</td>\n",
       "      <td>0.852684</td>\n",
       "      <td>0.673540</td>\n",
       "    </tr>\n",
       "  </tbody>\n",
       "</table>\n",
       "</div>"
      ],
      "text/plain": [
       "       Date          Treatment        Dose  \\\n",
       "0  20180715  SMPD3MONC11m3bCat  0,8mM2ugul   \n",
       "1  20180630            SMPD3MO       0,8mM   \n",
       "2  20181119            SMPD3MO       0,6mM   \n",
       "3  20180630            SMPD3MO       0,8mM   \n",
       "4  20180514            SMPD3MO       0,8mM   \n",
       "5  20190603  SMPD3MONC11m3bCat  0,8mM2ugul   \n",
       "6  20181102      SMPD3gRNA1RNP    0,35ugul   \n",
       "7  20180715  SMPD3MONC11m3bCat  0,8mM2ugul   \n",
       "8  20181119            SMPD3MO       1,0mM   \n",
       "9  20181102      SMPD3gRNA1RNP    0,35ugul   \n",
       "\n",
       "                                               Image Somites  Control Area  \\\n",
       "0  20180715_SMPD3MONC11m3bCat_0,8mM2ugul_Pax7GFP_...     8ss     72103.705   \n",
       "1           20180630_SMPD3MO_0,8mM_Pax7_Emb5_8ss_10x     8ss     80452.846   \n",
       "2           20181119_SMPD3MO_0,6mM_Pax7_Emb6_7ss_10x     7ss     47346.082   \n",
       "3           20180630_SMPD3MO_0,8mM_Pax7_Emb3_9ss_10x     9ss    146043.286   \n",
       "4    20180514_SMPD3MO_0,8mM_Pax7Laminin_Emb6_8ss_10x     8ss     72508.322   \n",
       "5  20190603_SMPD3MONC11m3bCat_0,8mM2ugul_Cad6bRFP...     8ss     66671.106   \n",
       "6  20181102_SMPD3gRNA1RNP_0,35ugul_Pax7Laminin_Em...     7ss     56474.135   \n",
       "7  20180715_SMPD3MONC11m3bCat_0,8mM2ugul_Pax7GFP_...     7ss     50204.911   \n",
       "8           20181119_SMPD3MO_1,0mM_Pax7_Emb5_6ss_10x     6ss     41534.435   \n",
       "9  20181102_SMPD3gRNA1RNP_0,35ugul_Pax7Laminin_Em...     7ss     34125.389   \n",
       "\n",
       "   Experiment Area  Exp/Ctl Area  Norm Control Area  Norm Experiment Area  \n",
       "0        23918.319      0.331721           1.119337              0.371308  \n",
       "1        47922.588      0.595661           0.955197              0.568973  \n",
       "2        27928.306      0.589876           0.562129              0.331586  \n",
       "3        47621.453      0.326078           1.733937              0.565398  \n",
       "4        52025.129      0.717506           0.860874              0.617682  \n",
       "5        20264.501      0.303947           1.035002              0.314586  \n",
       "6        44153.345      0.781833           1.411108              1.103251  \n",
       "7        35216.774      0.701461           0.779381              0.546705  \n",
       "8        22358.227      0.538306           0.493128              0.265454  \n",
       "9        26955.850      0.789906           0.852684              0.673540  "
      ]
     },
     "execution_count": 3,
     "metadata": {},
     "output_type": "execute_result"
    }
   ],
   "source": [
    "# Set path to data we want to analyze\n",
    "path = os.path.abspath('')+'/CSVs/'\n",
    "\n",
    "# Load data as a dataframe with the columns we want.\n",
    "# get_ultimate_dataframe includes tests to confirm the csv files look how we want them.\n",
    "# The function will print info about the csvs.\n",
    "df_data = mig_analysis.get_ultimate_dataframe(path)\n",
    "df_data.head(10)"
   ]
  },
  {
   "cell_type": "code",
   "execution_count": 4,
   "metadata": {},
   "outputs": [],
   "source": [
    "# Save dataframe as csv\n",
    "#df_data.to_csv(mig_analysis.get_analysis_date() + '_MigrationResults.csv')"
   ]
  },
  {
   "cell_type": "code",
   "execution_count": 5,
   "metadata": {
    "scrolled": false
   },
   "outputs": [
    {
     "name": "stdout",
     "output_type": "stream",
     "text": [
      "Mean\n",
      "                   Control Area  Experiment Area  Exp/Ctl Area\n",
      "Treatment                                                     \n",
      "NC11m3Dyn1K44A     75394.862500     55435.104125      0.701372\n",
      "SMPD3MO            84226.407037     49172.997333      0.603374\n",
      "SMPD3MONC11m3bCat  64416.428750     28288.802625      0.462259\n",
      "SMPD3gRNA1DNA      84971.282750     63640.824000      0.753154\n",
      "SMPD3gRNA1RNP      40021.131571     32142.082286      0.804300\n",
      "\n",
      "\n",
      "SEM\n",
      "                   Control Area  Experiment Area  Exp/Ctl Area\n",
      "Treatment                                                     \n",
      "NC11m3Dyn1K44A     14635.854727     13693.525325      0.037887\n",
      "SMPD3MO             6747.873789      4089.042977      0.028058\n",
      "SMPD3MONC11m3bCat   4855.633971      2025.209200      0.054928\n",
      "SMPD3gRNA1DNA       7102.405584      6431.628777      0.061069\n",
      "SMPD3gRNA1RNP       4141.117489      3569.071976      0.034698\n",
      "\n",
      "\n",
      "Correlation\n",
      "                                   Control Area  Experiment Area\n",
      "Treatment                                                       \n",
      "NC11m3Dyn1K44A    Control Area         1.000000         0.985860\n",
      "                  Experiment Area      0.985860         1.000000\n",
      "SMPD3MO           Control Area         1.000000         0.804412\n",
      "                  Experiment Area      0.804412         1.000000\n",
      "SMPD3MONC11m3bCat Control Area         1.000000        -0.209264\n",
      "                  Experiment Area     -0.209264         1.000000\n",
      "SMPD3gRNA1DNA     Control Area         1.000000         0.638671\n",
      "                  Experiment Area      0.638671         1.000000\n",
      "SMPD3gRNA1RNP     Control Area         1.000000         0.929832\n",
      "                  Experiment Area      0.929832         1.000000\n"
     ]
    }
   ],
   "source": [
    "# Print summary statistics for each experiment\n",
    "mig_analysis.print_stats(df_data)"
   ]
  },
  {
   "cell_type": "code",
   "execution_count": 6,
   "metadata": {
    "scrolled": true
   },
   "outputs": [
    {
     "data": {
      "text/html": [
       "<div>\n",
       "<style scoped>\n",
       "    .dataframe tbody tr th:only-of-type {\n",
       "        vertical-align: middle;\n",
       "    }\n",
       "\n",
       "    .dataframe tbody tr th {\n",
       "        vertical-align: top;\n",
       "    }\n",
       "\n",
       "    .dataframe thead th {\n",
       "        text-align: right;\n",
       "    }\n",
       "</style>\n",
       "<table border=\"1\" class=\"dataframe\">\n",
       "  <thead>\n",
       "    <tr style=\"text-align: right;\">\n",
       "      <th></th>\n",
       "      <th>Treatment</th>\n",
       "      <th>Control Area Mean</th>\n",
       "      <th>Control Area SEM</th>\n",
       "      <th>Experiment Area Mean</th>\n",
       "      <th>Experiment Area SEM</th>\n",
       "      <th>Exp/Ctl Mean</th>\n",
       "      <th>Exp/Ctl SEM</th>\n",
       "      <th>Correlation</th>\n",
       "    </tr>\n",
       "  </thead>\n",
       "  <tbody>\n",
       "    <tr>\n",
       "      <th>0</th>\n",
       "      <td>SMPD3MONC11m3bCat</td>\n",
       "      <td>64416.428750</td>\n",
       "      <td>4855.633971</td>\n",
       "      <td>28288.802625</td>\n",
       "      <td>2025.209200</td>\n",
       "      <td>0.462259</td>\n",
       "      <td>0.054928</td>\n",
       "      <td>-0.209264</td>\n",
       "    </tr>\n",
       "    <tr>\n",
       "      <th>1</th>\n",
       "      <td>SMPD3MO</td>\n",
       "      <td>84226.407037</td>\n",
       "      <td>6747.873789</td>\n",
       "      <td>49172.997333</td>\n",
       "      <td>4089.042977</td>\n",
       "      <td>0.603374</td>\n",
       "      <td>0.028058</td>\n",
       "      <td>0.804412</td>\n",
       "    </tr>\n",
       "    <tr>\n",
       "      <th>2</th>\n",
       "      <td>SMPD3gRNA1RNP</td>\n",
       "      <td>40021.131571</td>\n",
       "      <td>4141.117489</td>\n",
       "      <td>32142.082286</td>\n",
       "      <td>3569.071976</td>\n",
       "      <td>0.804300</td>\n",
       "      <td>0.034698</td>\n",
       "      <td>0.929832</td>\n",
       "    </tr>\n",
       "    <tr>\n",
       "      <th>3</th>\n",
       "      <td>SMPD3gRNA1DNA</td>\n",
       "      <td>84971.282750</td>\n",
       "      <td>7102.405584</td>\n",
       "      <td>63640.824000</td>\n",
       "      <td>6431.628777</td>\n",
       "      <td>0.753154</td>\n",
       "      <td>0.061069</td>\n",
       "      <td>0.638671</td>\n",
       "    </tr>\n",
       "    <tr>\n",
       "      <th>4</th>\n",
       "      <td>NC11m3Dyn1K44A</td>\n",
       "      <td>75394.862500</td>\n",
       "      <td>14635.854727</td>\n",
       "      <td>55435.104125</td>\n",
       "      <td>13693.525325</td>\n",
       "      <td>0.701372</td>\n",
       "      <td>0.037887</td>\n",
       "      <td>0.985860</td>\n",
       "    </tr>\n",
       "  </tbody>\n",
       "</table>\n",
       "</div>"
      ],
      "text/plain": [
       "           Treatment  Control Area Mean  Control Area SEM  \\\n",
       "0  SMPD3MONC11m3bCat       64416.428750       4855.633971   \n",
       "1            SMPD3MO       84226.407037       6747.873789   \n",
       "2      SMPD3gRNA1RNP       40021.131571       4141.117489   \n",
       "3      SMPD3gRNA1DNA       84971.282750       7102.405584   \n",
       "4     NC11m3Dyn1K44A       75394.862500      14635.854727   \n",
       "\n",
       "   Experiment Area Mean  Experiment Area SEM  Exp/Ctl Mean  Exp/Ctl SEM  \\\n",
       "0          28288.802625          2025.209200      0.462259     0.054928   \n",
       "1          49172.997333          4089.042977      0.603374     0.028058   \n",
       "2          32142.082286          3569.071976      0.804300     0.034698   \n",
       "3          63640.824000          6431.628777      0.753154     0.061069   \n",
       "4          55435.104125         13693.525325      0.701372     0.037887   \n",
       "\n",
       "   Correlation  \n",
       "0    -0.209264  \n",
       "1     0.804412  \n",
       "2     0.929832  \n",
       "3     0.638671  \n",
       "4     0.985860  "
      ]
     },
     "execution_count": 6,
     "metadata": {},
     "output_type": "execute_result"
    }
   ],
   "source": [
    "# Create dataframe of summary statistics for each experiment\n",
    "df_stats = mig_analysis.get_stats_df(df_data)\n",
    "df_stats"
   ]
  },
  {
   "cell_type": "code",
   "execution_count": 7,
   "metadata": {},
   "outputs": [
    {
     "data": {
      "text/html": [
       "<div>\n",
       "<style scoped>\n",
       "    .dataframe tbody tr th:only-of-type {\n",
       "        vertical-align: middle;\n",
       "    }\n",
       "\n",
       "    .dataframe tbody tr th {\n",
       "        vertical-align: top;\n",
       "    }\n",
       "\n",
       "    .dataframe thead th {\n",
       "        text-align: right;\n",
       "    }\n",
       "</style>\n",
       "<table border=\"1\" class=\"dataframe\">\n",
       "  <thead>\n",
       "    <tr style=\"text-align: right;\">\n",
       "      <th></th>\n",
       "      <th>Date</th>\n",
       "      <th>Treatment</th>\n",
       "      <th>Dose</th>\n",
       "      <th>Image</th>\n",
       "      <th>Somites</th>\n",
       "      <th>Control Area</th>\n",
       "      <th>Experiment Area</th>\n",
       "      <th>Exp/Ctl Area</th>\n",
       "      <th>Norm Control Area</th>\n",
       "      <th>Norm Experiment Area</th>\n",
       "    </tr>\n",
       "  </thead>\n",
       "  <tbody>\n",
       "    <tr>\n",
       "      <th>1</th>\n",
       "      <td>20180630</td>\n",
       "      <td>SMPD3MO</td>\n",
       "      <td>0,8mM</td>\n",
       "      <td>20180630_SMPD3MO_0,8mM_Pax7_Emb5_8ss_10x</td>\n",
       "      <td>8ss</td>\n",
       "      <td>80452.846</td>\n",
       "      <td>47922.588</td>\n",
       "      <td>0.595661</td>\n",
       "      <td>0.955197</td>\n",
       "      <td>0.568973</td>\n",
       "    </tr>\n",
       "    <tr>\n",
       "      <th>2</th>\n",
       "      <td>20181119</td>\n",
       "      <td>SMPD3MO</td>\n",
       "      <td>0,6mM</td>\n",
       "      <td>20181119_SMPD3MO_0,6mM_Pax7_Emb6_7ss_10x</td>\n",
       "      <td>7ss</td>\n",
       "      <td>47346.082</td>\n",
       "      <td>27928.306</td>\n",
       "      <td>0.589876</td>\n",
       "      <td>0.562129</td>\n",
       "      <td>0.331586</td>\n",
       "    </tr>\n",
       "    <tr>\n",
       "      <th>3</th>\n",
       "      <td>20180630</td>\n",
       "      <td>SMPD3MO</td>\n",
       "      <td>0,8mM</td>\n",
       "      <td>20180630_SMPD3MO_0,8mM_Pax7_Emb3_9ss_10x</td>\n",
       "      <td>9ss</td>\n",
       "      <td>146043.286</td>\n",
       "      <td>47621.453</td>\n",
       "      <td>0.326078</td>\n",
       "      <td>1.733937</td>\n",
       "      <td>0.565398</td>\n",
       "    </tr>\n",
       "    <tr>\n",
       "      <th>4</th>\n",
       "      <td>20180514</td>\n",
       "      <td>SMPD3MO</td>\n",
       "      <td>0,8mM</td>\n",
       "      <td>20180514_SMPD3MO_0,8mM_Pax7Laminin_Emb6_8ss_10x</td>\n",
       "      <td>8ss</td>\n",
       "      <td>72508.322</td>\n",
       "      <td>52025.129</td>\n",
       "      <td>0.717506</td>\n",
       "      <td>0.860874</td>\n",
       "      <td>0.617682</td>\n",
       "    </tr>\n",
       "    <tr>\n",
       "      <th>8</th>\n",
       "      <td>20181119</td>\n",
       "      <td>SMPD3MO</td>\n",
       "      <td>1,0mM</td>\n",
       "      <td>20181119_SMPD3MO_1,0mM_Pax7_Emb5_6ss_10x</td>\n",
       "      <td>6ss</td>\n",
       "      <td>41534.435</td>\n",
       "      <td>22358.227</td>\n",
       "      <td>0.538306</td>\n",
       "      <td>0.493128</td>\n",
       "      <td>0.265454</td>\n",
       "    </tr>\n",
       "  </tbody>\n",
       "</table>\n",
       "</div>"
      ],
      "text/plain": [
       "       Date Treatment   Dose                                            Image  \\\n",
       "1  20180630   SMPD3MO  0,8mM         20180630_SMPD3MO_0,8mM_Pax7_Emb5_8ss_10x   \n",
       "2  20181119   SMPD3MO  0,6mM         20181119_SMPD3MO_0,6mM_Pax7_Emb6_7ss_10x   \n",
       "3  20180630   SMPD3MO  0,8mM         20180630_SMPD3MO_0,8mM_Pax7_Emb3_9ss_10x   \n",
       "4  20180514   SMPD3MO  0,8mM  20180514_SMPD3MO_0,8mM_Pax7Laminin_Emb6_8ss_10x   \n",
       "8  20181119   SMPD3MO  1,0mM         20181119_SMPD3MO_1,0mM_Pax7_Emb5_6ss_10x   \n",
       "\n",
       "  Somites  Control Area  Experiment Area  Exp/Ctl Area  Norm Control Area  \\\n",
       "1     8ss     80452.846        47922.588      0.595661           0.955197   \n",
       "2     7ss     47346.082        27928.306      0.589876           0.562129   \n",
       "3     9ss    146043.286        47621.453      0.326078           1.733937   \n",
       "4     8ss     72508.322        52025.129      0.717506           0.860874   \n",
       "8     6ss     41534.435        22358.227      0.538306           0.493128   \n",
       "\n",
       "   Norm Experiment Area  \n",
       "1              0.568973  \n",
       "2              0.331586  \n",
       "3              0.565398  \n",
       "4              0.617682  \n",
       "8              0.265454  "
      ]
     },
     "execution_count": 7,
     "metadata": {},
     "output_type": "execute_result"
    }
   ],
   "source": [
    "smpd3_mo = df_data.loc[df_data['Treatment'] == 'SMPD3MO']\n",
    "smpd3_mo.head()"
   ]
  },
  {
   "cell_type": "code",
   "execution_count": 8,
   "metadata": {},
   "outputs": [
    {
     "data": {
      "text/plain": [
       "0.41618075538102445"
      ]
     },
     "execution_count": 8,
     "metadata": {},
     "output_type": "execute_result"
    }
   ],
   "source": [
    "effsize = _bootstrap.get_effsize(smpd3_mo['Norm Control Area'], smpd3_mo['Norm Experiment Area'], paired=True)\n",
    "effsize"
   ]
  },
  {
   "cell_type": "code",
   "execution_count": 9,
   "metadata": {
    "scrolled": true
   },
   "outputs": [
    {
     "data": {
      "text/plain": [
       "-1.62655392202835"
      ]
     },
     "execution_count": 9,
     "metadata": {},
     "output_type": "execute_result"
    }
   ],
   "source": [
    "cohensd = _bootstrap.get_cohensd(smpd3_mo['Norm Control Area'], smpd3_mo['Norm Experiment Area'], paired=True)\n",
    "cohensd"
   ]
  },
  {
   "cell_type": "code",
   "execution_count": 10,
   "metadata": {},
   "outputs": [],
   "source": [
    "np.std?"
   ]
  },
  {
   "cell_type": "code",
   "execution_count": 6,
   "metadata": {},
   "outputs": [],
   "source": [
    "import statsmodels.stats.power"
   ]
  },
  {
   "cell_type": "code",
   "execution_count": 7,
   "metadata": {},
   "outputs": [
    {
     "ename": "NameError",
     "evalue": "name 'smpd3_mo' is not defined",
     "output_type": "error",
     "traceback": [
      "\u001b[0;31m---------------------------------------------------------------------------\u001b[0m",
      "\u001b[0;31mNameError\u001b[0m                                 Traceback (most recent call last)",
      "\u001b[0;32m<ipython-input-7-6b286dc8e9de>\u001b[0m in \u001b[0;36m<module>\u001b[0;34m\u001b[0m\n\u001b[0;32m----> 1\u001b[0;31m \u001b[0mround\u001b[0m\u001b[0;34m(\u001b[0m\u001b[0mstatsmodels\u001b[0m\u001b[0;34m.\u001b[0m\u001b[0mstats\u001b[0m\u001b[0;34m.\u001b[0m\u001b[0mpower\u001b[0m\u001b[0;34m.\u001b[0m\u001b[0mTTestPower\u001b[0m\u001b[0;34m.\u001b[0m\u001b[0mpower\u001b[0m\u001b[0;34m(\u001b[0m\u001b[0;34m'self'\u001b[0m\u001b[0;34m,\u001b[0m \u001b[0;36m0.87\u001b[0m\u001b[0;34m,\u001b[0m \u001b[0mlen\u001b[0m\u001b[0;34m(\u001b[0m\u001b[0msmpd3_mo\u001b[0m\u001b[0;34m)\u001b[0m\u001b[0;34m,\u001b[0m \u001b[0;36m0.05\u001b[0m\u001b[0;34m)\u001b[0m\u001b[0;34m,\u001b[0m \u001b[0;36m9\u001b[0m\u001b[0;34m)\u001b[0m\u001b[0;34m\u001b[0m\u001b[0;34m\u001b[0m\u001b[0m\n\u001b[0m",
      "\u001b[0;31mNameError\u001b[0m: name 'smpd3_mo' is not defined"
     ]
    }
   ],
   "source": [
    "round(statsmodels.stats.power.TTestPower.power('self', 0.87, len(smpd3_mo), 0.05), 9)"
   ]
  },
  {
   "cell_type": "code",
   "execution_count": 10,
   "metadata": {},
   "outputs": [],
   "source": [
    "statsmodels.stats.power.TTestPower.power?"
   ]
  },
  {
   "cell_type": "code",
   "execution_count": 14,
   "metadata": {},
   "outputs": [
    {
     "data": {
      "text/plain": [
       "1     0.386224\n",
       "2     0.230543\n",
       "3     1.168539\n",
       "4     0.243192\n",
       "8     0.227675\n",
       "10    0.304408\n",
       "11    0.118252\n",
       "15    0.290337\n",
       "18    0.672239\n",
       "20    0.692514\n",
       "23   -0.003942\n",
       "29    0.536732\n",
       "31    0.146989\n",
       "32    0.356988\n",
       "33    0.508112\n",
       "34    0.613441\n",
       "35    0.282741\n",
       "36    0.317368\n",
       "39    0.263141\n",
       "41    0.151343\n",
       "42    0.252834\n",
       "44    0.490287\n",
       "47    0.307367\n",
       "53    0.721114\n",
       "54    0.750086\n",
       "56    0.395526\n",
       "57    0.812834\n",
       "dtype: float64"
      ]
     },
     "execution_count": 14,
     "metadata": {},
     "output_type": "execute_result"
    }
   ],
   "source": [
    "diffs = smpd3_mo['Norm Control Area'] - smpd3_mo['Norm Experiment Area']\n",
    "diffs"
   ]
  },
  {
   "cell_type": "code",
   "execution_count": 15,
   "metadata": {},
   "outputs": [
    {
     "data": {
      "text/plain": [
       "0.2558665591989951"
      ]
     },
     "execution_count": 15,
     "metadata": {},
     "output_type": "execute_result"
    }
   ],
   "source": [
    "np.std(diffs)"
   ]
  },
  {
   "cell_type": "code",
   "execution_count": 16,
   "metadata": {},
   "outputs": [],
   "source": [
    "from math import gcd\n",
    " \n",
    "def  phi(n):\n",
    "    return sum(1 for k in range(1, n + 1) if gcd(n, k) == 1)"
   ]
  },
  {
   "cell_type": "code",
   "execution_count": 17,
   "metadata": {},
   "outputs": [
    {
     "data": {
      "text/plain": [
       "8"
      ]
     },
     "execution_count": 17,
     "metadata": {},
     "output_type": "execute_result"
    }
   ],
   "source": [
    "phi(30)"
   ]
  },
  {
   "cell_type": "code",
   "execution_count": 18,
   "metadata": {},
   "outputs": [
    {
     "data": {
      "text/plain": [
       "6.483747686898275"
      ]
     },
     "execution_count": 18,
     "metadata": {},
     "output_type": "execute_result"
    }
   ],
   "source": [
    "-1.96 + ((0.416*np.sqrt(27)/0.256))"
   ]
  },
  {
   "cell_type": "markdown",
   "metadata": {},
   "source": [
    "What effect size calculation do we want to use?\n",
    "\n",
    "In the experiment, we are comparing migration of the control MO and SMPD3 MO side of the same embryo. Therefore, we have paired samples, and want to calculate Cohen's d<sub>z</sub>.\n",
    "\n",
    "Cohen's d<sub>z</sub>:\n",
    "$\\frac{M_{diff}}{\\sqrt{\\frac{\\sum{X_{diff} - M_{diff}}}{N-1}}}$\n"
   ]
  },
  {
   "cell_type": "code",
   "execution_count": 19,
   "metadata": {},
   "outputs": [
    {
     "ename": "TypeError",
     "evalue": "'float' object cannot be interpreted as an integer",
     "output_type": "error",
     "traceback": [
      "\u001b[0;31m---------------------------------------------------------------------------\u001b[0m",
      "\u001b[0;31mTypeError\u001b[0m                                 Traceback (most recent call last)",
      "\u001b[0;32m<ipython-input-19-6c027503c2f7>\u001b[0m in \u001b[0;36m<module>\u001b[0;34m\u001b[0m\n\u001b[0;32m----> 1\u001b[0;31m \u001b[0mphi\u001b[0m\u001b[0;34m(\u001b[0m\u001b[0;36m6.483\u001b[0m\u001b[0;34m)\u001b[0m\u001b[0;34m\u001b[0m\u001b[0;34m\u001b[0m\u001b[0m\n\u001b[0m",
      "\u001b[0;32m<ipython-input-16-d616ba1ea790>\u001b[0m in \u001b[0;36mphi\u001b[0;34m(n)\u001b[0m\n\u001b[1;32m      2\u001b[0m \u001b[0;34m\u001b[0m\u001b[0m\n\u001b[1;32m      3\u001b[0m \u001b[0;32mdef\u001b[0m  \u001b[0mphi\u001b[0m\u001b[0;34m(\u001b[0m\u001b[0mn\u001b[0m\u001b[0;34m)\u001b[0m\u001b[0;34m:\u001b[0m\u001b[0;34m\u001b[0m\u001b[0;34m\u001b[0m\u001b[0m\n\u001b[0;32m----> 4\u001b[0;31m     \u001b[0;32mreturn\u001b[0m \u001b[0msum\u001b[0m\u001b[0;34m(\u001b[0m\u001b[0;36m1\u001b[0m \u001b[0;32mfor\u001b[0m \u001b[0mk\u001b[0m \u001b[0;32min\u001b[0m \u001b[0mrange\u001b[0m\u001b[0;34m(\u001b[0m\u001b[0;36m1\u001b[0m\u001b[0;34m,\u001b[0m \u001b[0mn\u001b[0m \u001b[0;34m+\u001b[0m \u001b[0;36m1\u001b[0m\u001b[0;34m)\u001b[0m \u001b[0;32mif\u001b[0m \u001b[0mgcd\u001b[0m\u001b[0;34m(\u001b[0m\u001b[0mn\u001b[0m\u001b[0;34m,\u001b[0m \u001b[0mk\u001b[0m\u001b[0;34m)\u001b[0m \u001b[0;34m==\u001b[0m \u001b[0;36m1\u001b[0m\u001b[0;34m)\u001b[0m\u001b[0;34m\u001b[0m\u001b[0;34m\u001b[0m\u001b[0m\n\u001b[0m",
      "\u001b[0;31mTypeError\u001b[0m: 'float' object cannot be interpreted as an integer"
     ]
    }
   ],
   "source": [
    "phi(6.483)"
   ]
  },
  {
   "cell_type": "code",
   "execution_count": null,
   "metadata": {},
   "outputs": [],
   "source": []
  }
 ],
 "metadata": {
  "kernelspec": {
   "display_name": "Python 3",
   "language": "python",
   "name": "python3"
  },
  "language_info": {
   "codemirror_mode": {
    "name": "ipython",
    "version": 3
   },
   "file_extension": ".py",
   "mimetype": "text/x-python",
   "name": "python",
   "nbconvert_exporter": "python",
   "pygments_lexer": "ipython3",
   "version": "3.7.3"
  }
 },
 "nbformat": 4,
 "nbformat_minor": 2
}
